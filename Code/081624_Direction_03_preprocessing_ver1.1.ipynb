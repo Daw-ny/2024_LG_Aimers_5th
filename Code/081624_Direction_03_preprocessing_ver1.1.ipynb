{
 "cells": [
  {
   "cell_type": "markdown",
   "id": "017e9265",
   "metadata": {},
   "source": [
    "# 제품 이상여부 판별 프로젝트"
   ]
  },
  {
   "cell_type": "markdown",
   "id": "acdab431",
   "metadata": {},
   "source": [
    "## 1. 데이터 불러오기\n"
   ]
  },
  {
   "cell_type": "markdown",
   "id": "2b8341e8",
   "metadata": {},
   "source": [
    "### 필수 라이브러리\n"
   ]
  },
  {
   "cell_type": "code",
   "execution_count": 1,
   "id": "a315cc58",
   "metadata": {},
   "outputs": [],
   "source": [
    "import os\n",
    "from pprint import pprint\n",
    "\n",
    "import numpy as np\n",
    "import pandas as pd\n",
    "from sklearn.ensemble import RandomForestClassifier\n",
    "from sklearn.metrics import (\n",
    "    accuracy_score,\n",
    "    classification_report,\n",
    "    confusion_matrix,\n",
    "    f1_score,\n",
    "    precision_score,\n",
    "    recall_score,\n",
    ")\n",
    "from sklearn.model_selection import train_test_split\n",
    "from tqdm import tqdm\n",
    "from sklearn.preprocessing import LabelEncoder"
   ]
  },
  {
   "cell_type": "markdown",
   "id": "4d054e30",
   "metadata": {},
   "source": [
    "### 데이터 읽어오기\n"
   ]
  },
  {
   "cell_type": "code",
   "execution_count": 2,
   "id": "fc0b4d80",
   "metadata": {},
   "outputs": [],
   "source": [
    "ROOT_DIR = \"data\"\n",
    "RANDOM_STATE = 110\n",
    "\n",
    "# Load data\n",
    "train = pd.read_csv(os.path.join(ROOT_DIR, \"train_junhyeok.csv\"))\n",
    "test = pd.read_csv('./data/test_junhyeok.csv')"
   ]
  },
  {
   "cell_type": "markdown",
   "id": "a7b729d6",
   "metadata": {},
   "source": [
    "### 필요하거나 묶일 수 있는 변수 가져오기"
   ]
  },
  {
   "cell_type": "code",
   "execution_count": 4,
   "id": "89cd1f75",
   "metadata": {},
   "outputs": [],
   "source": [
    "# 이 셀은 한번만 클릭\n",
    "train['Equipment_Dam'] = train['Equipment_Dam'].str.slice(15, 16)\n",
    "train['Equipment_Fill1'] = train['Equipment_Fill1'].str.slice(17, 18)\n",
    "train['Equipment_Fill2'] = train['Equipment_Fill2'].str.slice(17, 18)\n",
    "\n",
    "test['Equipment_Dam'] = test['Equipment_Dam'].str.slice(15, 16)\n",
    "test['Equipment_Fill1'] = test['Equipment_Fill1'].str.slice(17, 18)\n",
    "test['Equipment_Fill2'] = test['Equipment_Fill2'].str.slice(17, 18)"
   ]
  },
  {
   "cell_type": "code",
   "execution_count": 5,
   "id": "e8258046",
   "metadata": {},
   "outputs": [],
   "source": [
    "# 새로운 영역 지정\n",
    "use_train = pd.DataFrame(train['target'], columns = ['target'])\n",
    "use_test = pd.DataFrame(test['Set ID'], columns = ['Set ID'])"
   ]
  },
  {
   "cell_type": "code",
   "execution_count": 6,
   "id": "c4d9f417",
   "metadata": {},
   "outputs": [],
   "source": [
    "# Dam, Fill1, Fill2에서 지정된 값이 다를 경우 Abnormal \n",
    "def inconsistant(data, columnname, iwantthiscolumnsname, is_train = True):\n",
    "    # 장비 번호가 다르면 불일치\n",
    "    if is_train:\n",
    "        cri = [\n",
    "            train[columnname + '_Dam'] != train[columnname + '_Fill1'],\n",
    "            train[columnname + '_Dam'] != train[columnname + '_Fill2'],\n",
    "            train[columnname + '_Fill1'] != train[columnname + '_Fill1'],\n",
    "            data[iwantthiscolumnsname] == 1\n",
    "        ]\n",
    "        \n",
    "    else:\n",
    "        cri = [\n",
    "            test[columnname + '_Dam'] != test[columnname + '_Fill1'],\n",
    "            test[columnname + '_Dam'] != test[columnname + '_Fill2'],\n",
    "            test[columnname + '_Fill1'] != test[columnname + '_Fill1'],\n",
    "            data[iwantthiscolumnsname] == 1\n",
    "        ]\n",
    "    con = [1, 1, 1, 1]\n",
    "\n",
    "    data[iwantthiscolumnsname] = np.select(cri, con, default = 0)"
   ]
  },
  {
   "cell_type": "code",
   "execution_count": 7,
   "id": "e42c236b",
   "metadata": {},
   "outputs": [],
   "source": [
    "# 불일치 변수\n",
    "use_train['inconsistant'] = 0\n",
    "use_test['inconsistant'] = 0\n",
    "\n",
    "# 기준\n",
    "columnname = ['Equipment', 'Receip No Collect Result', 'Production Qty Collect Result', 'PalletID Collect Result', ]\n",
    "\n",
    "# 장착\n",
    "for i in columnname:\n",
    "    inconsistant(use_train, i, 'inconsistant', True)\n",
    "    inconsistant(use_test, i, 'inconsistant', False)"
   ]
  },
  {
   "cell_type": "code",
   "execution_count": 8,
   "id": "2d8b2382",
   "metadata": {},
   "outputs": [],
   "source": [
    "# 시간이 0이하, 900이상인 값은 이상치로 분류\n",
    "for j in ['Machine Tact time Collect Result_Dam', 'Machine Tact time Collect Result_Fill1', 'Machine Tact time Collect Result_Fill2']:\n",
    "    cri = [\n",
    "        train[j] <= 0,\n",
    "        train[j] > 900\n",
    "    ]\n",
    "    cri2 = [\n",
    "        test[j] <= 0,\n",
    "        test[j] > 900\n",
    "    ]\n",
    "    con = [\n",
    "        1, 1\n",
    "    ]\n",
    "    use_train['inconsistant'] = np.select(cri, con, default = use_train['inconsistant'])\n",
    "    use_test['inconsistant'] = np.select(cri2, con, default = use_test['inconsistant'])"
   ]
  },
  {
   "cell_type": "code",
   "execution_count": 9,
   "id": "92b303d2",
   "metadata": {},
   "outputs": [],
   "source": [
    "# 유클리드 거리 계산\n",
    "def euclide_distance(data, first_dot, second_dot):\n",
    "    \n",
    "    # 값 반환\n",
    "    iwantcalculateeuclidedistance = np.array([0]*len(data))\n",
    "    \n",
    "    # 제곱값 더해주기\n",
    "    for i, j in zip(first_dot, second_dot):\n",
    "        iwantcalculateeuclidedistance += (data[i] - data[j])**2\n",
    "        \n",
    "    # 반환\n",
    "    return iwantcalculateeuclidedistance**0.5"
   ]
  },
  {
   "cell_type": "markdown",
   "id": "359fdfc6",
   "metadata": {},
   "source": [
    "### stage by head"
   ]
  },
  {
   "cell_type": "code",
   "execution_count": 10,
   "id": "05360d13",
   "metadata": {},
   "outputs": [],
   "source": [
    "# dam , fill1\n",
    "first_dot = [\n",
    "    'HEAD NORMAL COORDINATE X AXIS(Stage1) Collect Result_Dam',\n",
    "    'HEAD NORMAL COORDINATE Y AXIS(Stage1) Collect Result_Dam',\n",
    "    'HEAD NORMAL COORDINATE Z AXIS(Stage1) Collect Result_Dam'\n",
    "]\n",
    "\n",
    "second_dot = [\n",
    "    'HEAD NORMAL COORDINATE X AXIS(Stage1) Collect Result_Fill1',\n",
    "    'HEAD NORMAL COORDINATE Y AXIS(Stage1) Collect Result_Fill1',\n",
    "    'HEAD NORMAL COORDINATE Z AXIS(Stage1) Collect Result_Fill1'\n",
    "]\n",
    "\n",
    "# 유클리드 계산을 통한 위치 차이\n",
    "train['distance_diff_dam_fill1_stage1'] = euclide_distance(train, first_dot, second_dot)\n",
    "test['distance_diff_dam_fill1_stage1'] = euclide_distance(test, first_dot, second_dot)"
   ]
  },
  {
   "cell_type": "code",
   "execution_count": 11,
   "id": "f1c71625",
   "metadata": {},
   "outputs": [],
   "source": [
    "# fill1, fill2\n",
    "first_dot = [\n",
    "    'HEAD NORMAL COORDINATE X AXIS(Stage1) Collect Result_Dam',\n",
    "    'HEAD NORMAL COORDINATE Y AXIS(Stage1) Collect Result_Dam',\n",
    "    'HEAD NORMAL COORDINATE Z AXIS(Stage1) Collect Result_Dam'\n",
    "]\n",
    "\n",
    "second_dot = [\n",
    "    'HEAD NORMAL COORDINATE X AXIS(Stage1) Collect Result_Fill2',\n",
    "    'HEAD NORMAL COORDINATE Y AXIS(Stage1) Collect Result_Fill2',\n",
    "    'HEAD NORMAL COORDINATE Z AXIS(Stage1) Collect Result_Fill2'\n",
    "]\n",
    "\n",
    "# 유클리드 계산을 통한 위치 차이\n",
    "train['distance_diff_dam_fill2_stage1'] = euclide_distance(train, first_dot, second_dot)\n",
    "test['distance_diff_dam_fill2_stage1'] = euclide_distance(test, first_dot, second_dot)"
   ]
  },
  {
   "cell_type": "code",
   "execution_count": 12,
   "id": "c56db3f6",
   "metadata": {},
   "outputs": [],
   "source": [
    "# dam fill2\n",
    "first_dot = [\n",
    "    'HEAD NORMAL COORDINATE X AXIS(Stage1) Collect Result_Fill1',\n",
    "    'HEAD NORMAL COORDINATE Y AXIS(Stage1) Collect Result_Fill1',\n",
    "    'HEAD NORMAL COORDINATE Z AXIS(Stage1) Collect Result_Fill1'\n",
    "]\n",
    "\n",
    "second_dot = [\n",
    "    'HEAD NORMAL COORDINATE X AXIS(Stage1) Collect Result_Fill2',\n",
    "    'HEAD NORMAL COORDINATE Y AXIS(Stage1) Collect Result_Fill2',\n",
    "    'HEAD NORMAL COORDINATE Z AXIS(Stage1) Collect Result_Fill2'\n",
    "]\n",
    "\n",
    "# 유클리드 계산을 통한 위치 차이\n",
    "train['distance_diff_fill1_fill2_stage1'] = euclide_distance(train, first_dot, second_dot)\n",
    "test['distance_diff_fill1_fill2_stage1'] = euclide_distance(test, first_dot, second_dot)"
   ]
  },
  {
   "cell_type": "code",
   "execution_count": 13,
   "id": "8896df08",
   "metadata": {},
   "outputs": [],
   "source": [
    "# 거리 범주를 반영시키자\n",
    "cri = [\n",
    "    (train['distance_diff_dam_fill1_stage1'] < train['distance_diff_dam_fill2_stage1']) & (train['distance_diff_dam_fill2_stage1'] < train['distance_diff_fill1_fill2_stage1']),\n",
    "    (train['distance_diff_dam_fill1_stage1'] < train['distance_diff_fill1_fill2_stage1']) & (train['distance_diff_fill1_fill2_stage1'] < train['distance_diff_dam_fill2_stage1']),\n",
    "    (train['distance_diff_dam_fill2_stage1'] < train['distance_diff_dam_fill1_stage1']) & (train['distance_diff_dam_fill1_stage1'] < train['distance_diff_fill1_fill2_stage1']),\n",
    "    (train['distance_diff_fill1_fill2_stage1'] < train['distance_diff_dam_fill2_stage1']) & (train['distance_diff_dam_fill2_stage1'] < train['distance_diff_dam_fill1_stage1']),\n",
    "    (train['distance_diff_dam_fill2_stage1'] < train['distance_diff_fill1_fill2_stage1']) & (train['distance_diff_dam_fill1_stage1'] > train['distance_diff_fill1_fill2_stage1']),\n",
    "    (train['distance_diff_fill1_fill2_stage1'] < train['distance_diff_dam_fill1_stage1']) & (train['distance_diff_dam_fill2_stage1'] > train['distance_diff_dam_fill1_stage1'])\n",
    "]\n",
    "cri2 = [\n",
    "    (test['distance_diff_dam_fill1_stage1'] < test['distance_diff_dam_fill2_stage1']) & (test['distance_diff_dam_fill2_stage1'] < test['distance_diff_fill1_fill2_stage1']),\n",
    "    (test['distance_diff_dam_fill1_stage1'] < test['distance_diff_fill1_fill2_stage1']) & (test['distance_diff_fill1_fill2_stage1'] < test['distance_diff_dam_fill2_stage1']),\n",
    "    (test['distance_diff_dam_fill2_stage1'] < test['distance_diff_dam_fill1_stage1']) & (test['distance_diff_dam_fill1_stage1'] < test['distance_diff_fill1_fill2_stage1']),\n",
    "    (test['distance_diff_fill1_fill2_stage1'] < test['distance_diff_dam_fill2_stage1']) & (test['distance_diff_dam_fill2_stage1'] < test['distance_diff_dam_fill1_stage1']),\n",
    "    (test['distance_diff_dam_fill2_stage1'] < test['distance_diff_fill1_fill2_stage1']) & (test['distance_diff_dam_fill1_stage1'] > test['distance_diff_fill1_fill2_stage1']),\n",
    "    (test['distance_diff_fill1_fill2_stage1'] < test['distance_diff_dam_fill1_stage1']) & (test['distance_diff_dam_fill2_stage1'] > test['distance_diff_dam_fill1_stage1'])\n",
    "]\n",
    "con = [\n",
    "    1, 2, 3, 4, 5, 6\n",
    "]\n",
    "use_train['stage1_dist_cat'] = np.select(cri, con, default = 0)\n",
    "use_test['stage1_dist_cat'] = np.select(cri2, con, default = 0)"
   ]
  },
  {
   "cell_type": "code",
   "execution_count": 14,
   "id": "0f30e15b",
   "metadata": {},
   "outputs": [],
   "source": [
    "# dam , fill1\n",
    "first_dot = [\n",
    "    'HEAD NORMAL COORDINATE X AXIS(Stage2) Collect Result_Dam',\n",
    "    'HEAD NORMAL COORDINATE Y AXIS(Stage2) Collect Result_Dam',\n",
    "    'HEAD NORMAL COORDINATE Z AXIS(Stage2) Collect Result_Dam'\n",
    "]\n",
    "\n",
    "second_dot = [\n",
    "    'HEAD NORMAL COORDINATE X AXIS(Stage2) Collect Result_Fill1',\n",
    "    'HEAD NORMAL COORDINATE Y AXIS(Stage2) Collect Result_Fill1',\n",
    "    'HEAD NORMAL COORDINATE Z AXIS(Stage2) Collect Result_Fill1'\n",
    "]\n",
    "\n",
    "# 유클리드 계산을 통한 위치 차이\n",
    "train['distance_diff_dam_fill1_stage2'] = euclide_distance(train, first_dot, second_dot)\n",
    "test['distance_diff_dam_fill1_stage2'] = euclide_distance(test, first_dot, second_dot)"
   ]
  },
  {
   "cell_type": "code",
   "execution_count": 15,
   "id": "1d2b55fe",
   "metadata": {},
   "outputs": [],
   "source": [
    "# fill1, fill2\n",
    "first_dot = [\n",
    "    'HEAD NORMAL COORDINATE X AXIS(Stage2) Collect Result_Dam',\n",
    "    'HEAD NORMAL COORDINATE Y AXIS(Stage2) Collect Result_Dam',\n",
    "    'HEAD NORMAL COORDINATE Z AXIS(Stage2) Collect Result_Dam'\n",
    "]\n",
    "\n",
    "second_dot = [\n",
    "    'HEAD NORMAL COORDINATE X AXIS(Stage2) Collect Result_Fill2',\n",
    "    'HEAD NORMAL COORDINATE Y AXIS(Stage2) Collect Result_Fill2',\n",
    "    'HEAD NORMAL COORDINATE Z AXIS(Stage2) Collect Result_Fill2'\n",
    "]\n",
    "\n",
    "# 유클리드 계산을 통한 위치 차이\n",
    "train['distance_diff_dam_fill2_stage2'] = euclide_distance(train, first_dot, second_dot)\n",
    "test['distance_diff_dam_fill2_stage2'] = euclide_distance(test, first_dot, second_dot)"
   ]
  },
  {
   "cell_type": "code",
   "execution_count": 16,
   "id": "d4758818",
   "metadata": {},
   "outputs": [],
   "source": [
    "# dam fill2\n",
    "first_dot = [\n",
    "    'HEAD NORMAL COORDINATE X AXIS(Stage2) Collect Result_Fill1',\n",
    "    'HEAD NORMAL COORDINATE Y AXIS(Stage2) Collect Result_Fill1',\n",
    "    'HEAD NORMAL COORDINATE Z AXIS(Stage2) Collect Result_Fill1'\n",
    "]\n",
    "\n",
    "second_dot = [\n",
    "    'HEAD NORMAL COORDINATE X AXIS(Stage2) Collect Result_Fill2',\n",
    "    'HEAD NORMAL COORDINATE Y AXIS(Stage2) Collect Result_Fill2',\n",
    "    'HEAD NORMAL COORDINATE Z AXIS(Stage2) Collect Result_Fill2'\n",
    "]\n",
    "\n",
    "# 유클리드 계산을 통한 위치 차이\n",
    "train['distance_diff_fill1_fill2_stage2'] = euclide_distance(train, first_dot, second_dot)\n",
    "test['distance_diff_fill1_fill2_stage2'] = euclide_distance(test, first_dot, second_dot)"
   ]
  },
  {
   "cell_type": "code",
   "execution_count": 17,
   "id": "cd173799",
   "metadata": {},
   "outputs": [],
   "source": [
    "# 거리 범주를 반영시키자\n",
    "cri = [\n",
    "    (train['distance_diff_dam_fill1_stage2'] < train['distance_diff_dam_fill2_stage2']) & (train['distance_diff_dam_fill2_stage2'] < train['distance_diff_fill1_fill2_stage2']),\n",
    "    (train['distance_diff_dam_fill1_stage2'] < train['distance_diff_fill1_fill2_stage2']) & (train['distance_diff_fill1_fill2_stage2'] < train['distance_diff_dam_fill2_stage2']),\n",
    "    (train['distance_diff_dam_fill2_stage2'] < train['distance_diff_dam_fill1_stage2']) & (train['distance_diff_dam_fill1_stage2'] < train['distance_diff_fill1_fill2_stage2']),\n",
    "    (train['distance_diff_fill1_fill2_stage2'] < train['distance_diff_dam_fill2_stage2']) & (train['distance_diff_dam_fill2_stage2'] < train['distance_diff_dam_fill1_stage2']),\n",
    "    (train['distance_diff_dam_fill2_stage2'] < train['distance_diff_fill1_fill2_stage2']) & (train['distance_diff_dam_fill1_stage2'] > train['distance_diff_fill1_fill2_stage2']),\n",
    "    (train['distance_diff_fill1_fill2_stage2'] < train['distance_diff_dam_fill1_stage2']) & (train['distance_diff_dam_fill2_stage2'] > train['distance_diff_dam_fill1_stage2'])\n",
    "]\n",
    "cri2 = [\n",
    "    (test['distance_diff_dam_fill1_stage2'] < test['distance_diff_dam_fill2_stage2']) & (test['distance_diff_dam_fill2_stage2'] < test['distance_diff_fill1_fill2_stage2']),\n",
    "    (test['distance_diff_dam_fill1_stage2'] < test['distance_diff_fill1_fill2_stage2']) & (test['distance_diff_fill1_fill2_stage2'] < test['distance_diff_dam_fill2_stage2']),\n",
    "    (test['distance_diff_dam_fill2_stage2'] < test['distance_diff_dam_fill1_stage2']) & (test['distance_diff_dam_fill1_stage2'] < test['distance_diff_fill1_fill2_stage2']),\n",
    "    (test['distance_diff_fill1_fill2_stage2'] < test['distance_diff_dam_fill2_stage2']) & (test['distance_diff_dam_fill2_stage2'] < test['distance_diff_dam_fill1_stage2']),\n",
    "    (test['distance_diff_dam_fill2_stage2'] < test['distance_diff_fill1_fill2_stage2']) & (test['distance_diff_dam_fill1_stage2'] > test['distance_diff_fill1_fill2_stage2']),\n",
    "    (test['distance_diff_fill1_fill2_stage2'] < test['distance_diff_dam_fill1_stage2']) & (test['distance_diff_dam_fill2_stage2'] > test['distance_diff_dam_fill1_stage2'])\n",
    "]\n",
    "con = [\n",
    "    1, 2, 3, 4, 5, 6\n",
    "]\n",
    "use_train['stage2_dist_cat'] = np.select(cri, con, default = 0)\n",
    "use_test['stage2_dist_cat'] = np.select(cri2, con, default = 0)"
   ]
  },
  {
   "cell_type": "code",
   "execution_count": 18,
   "id": "4714d9e7",
   "metadata": {},
   "outputs": [],
   "source": [
    "# dam , fill1\n",
    "first_dot = [\n",
    "    'HEAD NORMAL COORDINATE X AXIS(Stage3) Collect Result_Dam',\n",
    "    'HEAD NORMAL COORDINATE Y AXIS(Stage3) Collect Result_Dam',\n",
    "    'HEAD NORMAL COORDINATE Z AXIS(Stage3) Collect Result_Dam'\n",
    "]\n",
    "\n",
    "second_dot = [\n",
    "    'HEAD NORMAL COORDINATE X AXIS(Stage3) Collect Result_Fill1',\n",
    "    'HEAD NORMAL COORDINATE Y AXIS(Stage3) Collect Result_Fill1',\n",
    "    'HEAD NORMAL COORDINATE Z AXIS(Stage3) Collect Result_Fill1'\n",
    "]\n",
    "\n",
    "# 유클리드 계산을 통한 위치 차이\n",
    "train['distance_diff_dam_fill1_stage3'] = euclide_distance(train, first_dot, second_dot)\n",
    "test['distance_diff_dam_fill1_stage3'] = euclide_distance(test, first_dot, second_dot)"
   ]
  },
  {
   "cell_type": "code",
   "execution_count": 19,
   "id": "468fef83",
   "metadata": {},
   "outputs": [],
   "source": [
    "# fill1, fill2\n",
    "first_dot = [\n",
    "    'HEAD NORMAL COORDINATE X AXIS(Stage3) Collect Result_Dam',\n",
    "    'HEAD NORMAL COORDINATE Y AXIS(Stage3) Collect Result_Dam',\n",
    "    'HEAD NORMAL COORDINATE Z AXIS(Stage3) Collect Result_Dam'\n",
    "]\n",
    "\n",
    "second_dot = [\n",
    "    'HEAD NORMAL COORDINATE X AXIS(Stage3) Collect Result_Fill2',\n",
    "    'HEAD NORMAL COORDINATE Y AXIS(Stage3) Collect Result_Fill2',\n",
    "    'HEAD NORMAL COORDINATE Z AXIS(Stage3) Collect Result_Fill2'\n",
    "]\n",
    "\n",
    "# 유클리드 계산을 통한 위치 차이\n",
    "train['distance_diff_dam_fill2_stage3'] = euclide_distance(train, first_dot, second_dot)\n",
    "test['distance_diff_dam_fill2_stage3'] = euclide_distance(test, first_dot, second_dot)"
   ]
  },
  {
   "cell_type": "code",
   "execution_count": 20,
   "id": "18fb5857",
   "metadata": {},
   "outputs": [],
   "source": [
    "# dam fill2\n",
    "first_dot = [\n",
    "    'HEAD NORMAL COORDINATE X AXIS(Stage3) Collect Result_Fill1',\n",
    "    'HEAD NORMAL COORDINATE Y AXIS(Stage3) Collect Result_Fill1',\n",
    "    'HEAD NORMAL COORDINATE Z AXIS(Stage3) Collect Result_Fill1'\n",
    "]\n",
    "\n",
    "second_dot = [\n",
    "    'HEAD NORMAL COORDINATE X AXIS(Stage3) Collect Result_Fill2',\n",
    "    'HEAD NORMAL COORDINATE Y AXIS(Stage3) Collect Result_Fill2',\n",
    "    'HEAD NORMAL COORDINATE Z AXIS(Stage3) Collect Result_Fill2'\n",
    "]\n",
    "\n",
    "# 유클리드 계산을 통한 위치 차이\n",
    "train['distance_diff_fill1_fill2_stage3'] = euclide_distance(train, first_dot, second_dot)\n",
    "test['distance_diff_fill1_fill2_stage3'] = euclide_distance(test, first_dot, second_dot)"
   ]
  },
  {
   "cell_type": "code",
   "execution_count": 21,
   "id": "37ed0889",
   "metadata": {},
   "outputs": [],
   "source": [
    "# 거리 범주를 반영시키자\n",
    "cri = [\n",
    "    (train['distance_diff_dam_fill1_stage3'] < train['distance_diff_dam_fill2_stage3']) & (train['distance_diff_dam_fill2_stage3'] < train['distance_diff_fill1_fill2_stage3']),\n",
    "    (train['distance_diff_dam_fill1_stage3'] < train['distance_diff_fill1_fill2_stage3']) & (train['distance_diff_fill1_fill2_stage3'] < train['distance_diff_dam_fill2_stage3']),\n",
    "    (train['distance_diff_dam_fill2_stage3'] < train['distance_diff_dam_fill1_stage3']) & (train['distance_diff_dam_fill1_stage3'] < train['distance_diff_fill1_fill2_stage3']),\n",
    "    (train['distance_diff_fill1_fill2_stage3'] < train['distance_diff_dam_fill2_stage3']) & (train['distance_diff_dam_fill2_stage3'] < train['distance_diff_dam_fill1_stage3']),\n",
    "    (train['distance_diff_dam_fill2_stage3'] < train['distance_diff_fill1_fill2_stage3']) & (train['distance_diff_dam_fill1_stage3'] > train['distance_diff_fill1_fill2_stage3']),\n",
    "    (train['distance_diff_fill1_fill2_stage3'] < train['distance_diff_dam_fill1_stage3']) & (train['distance_diff_dam_fill2_stage3'] > train['distance_diff_dam_fill1_stage3'])\n",
    "]\n",
    "cri2 = [\n",
    "    (test['distance_diff_dam_fill1_stage3'] < test['distance_diff_dam_fill2_stage3']) & (test['distance_diff_dam_fill2_stage3'] < test['distance_diff_fill1_fill2_stage3']),\n",
    "    (test['distance_diff_dam_fill1_stage3'] < test['distance_diff_fill1_fill2_stage3']) & (test['distance_diff_fill1_fill2_stage3'] < test['distance_diff_dam_fill2_stage3']),\n",
    "    (test['distance_diff_dam_fill2_stage3'] < test['distance_diff_dam_fill1_stage3']) & (test['distance_diff_dam_fill1_stage3'] < test['distance_diff_fill1_fill2_stage3']),\n",
    "    (test['distance_diff_fill1_fill2_stage3'] < test['distance_diff_dam_fill2_stage3']) & (test['distance_diff_dam_fill2_stage3'] < test['distance_diff_dam_fill1_stage3']),\n",
    "    (test['distance_diff_dam_fill2_stage3'] < test['distance_diff_fill1_fill2_stage3']) & (test['distance_diff_dam_fill1_stage3'] > test['distance_diff_fill1_fill2_stage3']),\n",
    "    (test['distance_diff_fill1_fill2_stage3'] < test['distance_diff_dam_fill1_stage3']) & (test['distance_diff_dam_fill2_stage3'] > test['distance_diff_dam_fill1_stage3'])\n",
    "]\n",
    "con = [\n",
    "    1, 2, 3, 4, 5, 6\n",
    "]\n",
    "use_train['stage3_dist_cat'] = np.select(cri, con, default = 0)\n",
    "use_test['stage3_dist_cat'] = np.select(cri2, con, default = 0)"
   ]
  },
  {
   "cell_type": "markdown",
   "id": "d038a511",
   "metadata": {},
   "source": [
    "### cure"
   ]
  },
  {
   "cell_type": "code",
   "execution_count": 22,
   "id": "5f5506ca",
   "metadata": {},
   "outputs": [],
   "source": [
    "# standby, start\n",
    "first_dot = [\n",
    "    'CURE STANDBY POSITION X Collect Result_Dam',\n",
    "    'CURE STANDBY POSITION Z Collect Result_Dam'\n",
    "]\n",
    "\n",
    "second_dot = [\n",
    "    'CURE START POSITION X Collect Result_Dam',\n",
    "    'CURE START POSITION Z Collect Result_Dam'\n",
    "]\n",
    "\n",
    "# 유클리드 계산을 통한 위치 차이\n",
    "train['dist_standby_start_cure_dam'] = euclide_distance(train, first_dot, second_dot)\n",
    "test['dist_standby_start_cure_dam'] = euclide_distance(test, first_dot, second_dot)"
   ]
  },
  {
   "cell_type": "code",
   "execution_count": 23,
   "id": "eb0bce57",
   "metadata": {},
   "outputs": [],
   "source": [
    "# start, end\n",
    "first_dot = [\n",
    "    'CURE START POSITION X Collect Result_Dam',\n",
    "    'CURE START POSITION Z Collect Result_Dam'\n",
    "]\n",
    "\n",
    "second_dot = [\n",
    "    'CURE END POSITION X Collect Result_Dam',\n",
    "    'CURE END POSITION Z Collect Result_Dam'\n",
    "]\n",
    "\n",
    "# 유클리드 계산을 통한 위치 차이\n",
    "train['dist_start_end_cure_dam'] = euclide_distance(train, first_dot, second_dot)\n",
    "test['dist_start_end_cure_dam'] = euclide_distance(test, first_dot, second_dot)"
   ]
  },
  {
   "cell_type": "code",
   "execution_count": 24,
   "id": "d9b88629",
   "metadata": {},
   "outputs": [],
   "source": [
    "# standby, end\n",
    "first_dot = [\n",
    "    'CURE STANDBY POSITION X Collect Result_Dam',\n",
    "    'CURE STANDBY POSITION Z Collect Result_Dam'\n",
    "]\n",
    "\n",
    "second_dot = [\n",
    "    'CURE END POSITION X Collect Result_Dam',\n",
    "    'CURE END POSITION Z Collect Result_Dam'\n",
    "]\n",
    "\n",
    "# 유클리드 계산을 통한 위치 차이\n",
    "train['dist_standby_end_cure_dam'] = euclide_distance(train, first_dot, second_dot)\n",
    "test['dist_standby_end_cure_dam'] = euclide_distance(test, first_dot, second_dot)"
   ]
  },
  {
   "cell_type": "code",
   "execution_count": 25,
   "id": "49c0d64e",
   "metadata": {},
   "outputs": [],
   "source": [
    "# cure_time\n",
    "use_train['cure_time_dam'] = train['dist_start_end_cure_dam'] / train['CURE SPEED Collect Result_Dam']\n",
    "use_test['cure_time_dam'] = test['dist_start_end_cure_dam'] / test['CURE SPEED Collect Result_Dam']"
   ]
  },
  {
   "cell_type": "code",
   "execution_count": 26,
   "id": "dd099f9a",
   "metadata": {},
   "outputs": [],
   "source": [
    "# standby, start\n",
    "first_dot = [\n",
    "    'CURE STANDBY POSITION X Collect Result_Fill2',\n",
    "    'CURE STANDBY POSITION Z Collect Result_Fill2'\n",
    "]\n",
    "\n",
    "second_dot = [\n",
    "    'CURE START POSITION X Collect Result_Fill2',\n",
    "    'CURE START POSITION Z Collect Result_Fill2'\n",
    "]\n",
    "\n",
    "# 유클리드 계산을 통한 위치 차이\n",
    "train['dist_standby_start_cure_fill2'] = euclide_distance(train, first_dot, second_dot)\n",
    "test['dist_standby_start_cure_fill2'] = euclide_distance(test, first_dot, second_dot)"
   ]
  },
  {
   "cell_type": "code",
   "execution_count": 27,
   "id": "b9772502",
   "metadata": {},
   "outputs": [],
   "source": [
    "# start, end\n",
    "first_dot = [\n",
    "    'CURE START POSITION X Collect Result_Fill2',\n",
    "    'CURE START POSITION Z Collect Result_Fill2'\n",
    "]\n",
    "\n",
    "second_dot = [\n",
    "    'CURE END POSITION X Collect Result_Fill2',\n",
    "    'CURE END POSITION Z Collect Result_Fill2'\n",
    "]\n",
    "\n",
    "# 유클리드 계산을 통한 위치 차이\n",
    "train['dist_start_end_cure_fill2'] = euclide_distance(train, first_dot, second_dot)\n",
    "test['dist_start_end_cure_fill2'] = euclide_distance(test, first_dot, second_dot)"
   ]
  },
  {
   "cell_type": "code",
   "execution_count": 28,
   "id": "f0de6840",
   "metadata": {},
   "outputs": [],
   "source": [
    "# standby, end\n",
    "first_dot = [\n",
    "    'CURE STANDBY POSITION X Collect Result_Fill2',\n",
    "    'CURE STANDBY POSITION Z Collect Result_Fill2'\n",
    "]\n",
    "\n",
    "second_dot = [\n",
    "    'CURE END POSITION X Collect Result_Fill2',\n",
    "    'CURE END POSITION Z Collect Result_Fill2'\n",
    "]\n",
    "\n",
    "# 유클리드 계산을 통한 위치 차이\n",
    "train['dist_standby_end_cure_fill2'] = euclide_distance(train, first_dot, second_dot)\n",
    "test['dist_standby_end_cure_fill2'] = euclide_distance(test, first_dot, second_dot)"
   ]
  },
  {
   "cell_type": "code",
   "execution_count": 29,
   "id": "e8659e30",
   "metadata": {},
   "outputs": [],
   "source": [
    "# cure_time\n",
    "use_train['cure_time_fill2'] = train['dist_start_end_cure_fill2'] / train['CURE SPEED Collect Result_Fill2']\n",
    "use_test['cure_time_fill2'] = test['dist_start_end_cure_fill2'] / test['CURE SPEED Collect Result_Fill2']"
   ]
  },
  {
   "cell_type": "code",
   "execution_count": 30,
   "id": "ef0278c0",
   "metadata": {},
   "outputs": [],
   "source": [
    "# press21\n",
    "use_train['press21_autoclave'] = np.where(train['2nd Pressure Collect Result_AutoClave'] - train['1st Pressure Collect Result_AutoClave'] > 0.3, 1, 0)\n",
    "use_test['press21_autoclave'] = np.where(test['2nd Pressure Collect Result_AutoClave'] - test['1st Pressure Collect Result_AutoClave'] > 0.3, 1, 0)"
   ]
  },
  {
   "cell_type": "code",
   "execution_count": 31,
   "id": "b21c9f0c",
   "metadata": {},
   "outputs": [],
   "source": [
    "# thon time\n",
    "train['thon_time'] = train['Machine Tact time Collect Result_Dam'] - train['DISCHARGED TIME OF RESIN(Stage1) Collect Result_Dam'] - train['DISCHARGED TIME OF RESIN(Stage2) Collect Result_Dam'] - train['DISCHARGED TIME OF RESIN(Stage3) Collect Result_Dam']\n",
    "test['thon_time'] = test['Machine Tact time Collect Result_Dam'] - test['DISCHARGED TIME OF RESIN(Stage1) Collect Result_Dam'] - test['DISCHARGED TIME OF RESIN(Stage2) Collect Result_Dam'] - test['DISCHARGED TIME OF RESIN(Stage3) Collect Result_Dam']"
   ]
  },
  {
   "cell_type": "code",
   "execution_count": 32,
   "id": "48af876e",
   "metadata": {},
   "outputs": [],
   "source": [
    "# 75% 이상이면 1 아니면 0\n",
    "use_train['thon_time'] = np.where(train['thon_time'] >= 38.8, 1, 0)\n",
    "use_test['thon_time'] = np.where(test['thon_time'] >= 38.8, 1, 0)"
   ]
  },
  {
   "cell_type": "code",
   "execution_count": 33,
   "id": "c53be13a",
   "metadata": {},
   "outputs": [],
   "source": [
    "# Discharged 거리\n",
    "use_train['discharged_dist_stage1_dam'] = train['DISCHARGED SPEED OF RESIN Collect Result_Dam'] * train['DISCHARGED TIME OF RESIN(Stage1) Collect Result_Dam']\n",
    "use_train['discharged_dist_stage2_dam'] = train['DISCHARGED SPEED OF RESIN Collect Result_Dam'] * train['DISCHARGED TIME OF RESIN(Stage2) Collect Result_Dam']\n",
    "use_train['discharged_dist_stage3_dam'] = train['DISCHARGED SPEED OF RESIN Collect Result_Dam'] * train['DISCHARGED TIME OF RESIN(Stage3) Collect Result_Dam']\n",
    "\n",
    "use_test['discharged_dist_stage1_dam'] = test['DISCHARGED SPEED OF RESIN Collect Result_Dam'] * test['DISCHARGED TIME OF RESIN(Stage1) Collect Result_Dam']\n",
    "use_test['discharged_dist_stage2_dam'] = test['DISCHARGED SPEED OF RESIN Collect Result_Dam'] * test['DISCHARGED TIME OF RESIN(Stage2) Collect Result_Dam']\n",
    "use_test['discharged_dist_stage3_dam'] = test['DISCHARGED SPEED OF RESIN Collect Result_Dam'] * test['DISCHARGED TIME OF RESIN(Stage3) Collect Result_Dam']"
   ]
  },
  {
   "cell_type": "code",
   "execution_count": 34,
   "id": "929b0743",
   "metadata": {},
   "outputs": [],
   "source": [
    "# Discharged 거리\n",
    "use_train['discharged_dist_stage1_fill1'] = train['DISCHARGED SPEED OF RESIN Collect Result_Fill1'] * train['DISCHARGED TIME OF RESIN(Stage1) Collect Result_Fill1']\n",
    "use_train['discharged_dist_stage2_fill1'] = train['DISCHARGED SPEED OF RESIN Collect Result_Fill1'] * train['DISCHARGED TIME OF RESIN(Stage2) Collect Result_Fill1']\n",
    "use_train['discharged_dist_stage3_fill1'] = train['DISCHARGED SPEED OF RESIN Collect Result_Fill1'] * train['DISCHARGED TIME OF RESIN(Stage3) Collect Result_Fill1']\n",
    "\n",
    "use_test['discharged_dist_stage1_fill1'] = test['DISCHARGED SPEED OF RESIN Collect Result_Fill1'] * test['DISCHARGED TIME OF RESIN(Stage1) Collect Result_Fill1']\n",
    "use_test['discharged_dist_stage2_fill1'] = test['DISCHARGED SPEED OF RESIN Collect Result_Fill1'] * test['DISCHARGED TIME OF RESIN(Stage2) Collect Result_Fill1']\n",
    "use_test['discharged_dist_stage3_fill1'] = test['DISCHARGED SPEED OF RESIN Collect Result_Fill1'] * test['DISCHARGED TIME OF RESIN(Stage3) Collect Result_Fill1']"
   ]
  },
  {
   "cell_type": "code",
   "execution_count": 35,
   "id": "4a73c1cc",
   "metadata": {},
   "outputs": [],
   "source": [
    "# 기존 정보\n",
    "use_train[['fill2_time', 'autoclave_time', 'qty', 'thick1', 'thick2', 'thick3']] = train[[\n",
    "                                                            'Machine Tact time Collect Result_Fill2',\n",
    "                                                            'Chamber Temp. Unit Time_AutoClave',\n",
    "                                                            'Production Qty Collect Result_Dam',\n",
    "                                                            'THICKNESS 1 Collect Result_Dam',\n",
    "                                                            'THICKNESS 2 Collect Result_Dam',\n",
    "                                                            'THICKNESS 3 Collect Result_Dam'\n",
    "]]\n",
    "use_test[['fill2_time', 'autoclave_time', 'qty', 'thick1', 'thick2', 'thick3']] = test[[\n",
    "                                                          'Machine Tact time Collect Result_Fill2',\n",
    "                                                          'Chamber Temp. Unit Time_AutoClave',\n",
    "                                                          'Production Qty Collect Result_Dam',\n",
    "                                                            'THICKNESS 1 Collect Result_Dam',\n",
    "                                                            'THICKNESS 2 Collect Result_Dam',\n",
    "                                                            'THICKNESS 3 Collect Result_Dam']]"
   ]
  },
  {
   "cell_type": "code",
   "execution_count": 36,
   "id": "17754fb9",
   "metadata": {},
   "outputs": [],
   "source": [
    "# 챔버 온도 영역 세개로 나누기\n",
    "cri = [\n",
    "    (train['Chamber Temp. Collect Result_AutoClave'] < 50) & (train['Chamber Temp. Judge Value_AutoClave'] == 'OK'),\n",
    "    (train['Chamber Temp. Collect Result_AutoClave'] < 50) & (train['Chamber Temp. Judge Value_AutoClave'] == 'NG')\n",
    "]\n",
    "cri2 = [\n",
    "    (test['Chamber Temp. Collect Result_AutoClave'] < 50) & (test['Chamber Temp. Judge Value_AutoClave'] == 'OK'),\n",
    "    (test['Chamber Temp. Collect Result_AutoClave'] < 50) & (test['Chamber Temp. Judge Value_AutoClave'] == 'NG')\n",
    "]\n",
    "con = [\n",
    "    1, 2\n",
    "]\n",
    "\n",
    "use_train['chamber_temp'] = np.select(cri, con, default = 0)\n",
    "use_test['chamber_temp'] = np.select(cri2, con, default = 0)"
   ]
  },
  {
   "cell_type": "code",
   "execution_count": 37,
   "id": "544a0411",
   "metadata": {},
   "outputs": [],
   "source": [
    "# modelsuffix\n",
    "le = LabelEncoder()"
   ]
  },
  {
   "cell_type": "code",
   "execution_count": 38,
   "id": "76157692",
   "metadata": {},
   "outputs": [],
   "source": [
    "# 변환\n",
    "use_train['model_suffix'] = le.fit_transform(train['Model.Suffix_Dam'])\n",
    "use_test['model_suffix'] = le.transform(test['Model.Suffix_Dam'])"
   ]
  },
  {
   "cell_type": "code",
   "execution_count": 39,
   "id": "a97cdf81",
   "metadata": {},
   "outputs": [],
   "source": [
    "# 1, 0 으로 바꿔주기\n",
    "use_train['target'] = np.where(train['target'] == 'Normal', 0, 1)"
   ]
  },
  {
   "cell_type": "code",
   "execution_count": 40,
   "id": "96f8e2ea",
   "metadata": {},
   "outputs": [],
   "source": [
    "# workorder별로 불량률 계산\n",
    "a = pd.crosstab([train['Workorder_Dam'], train['Receip No Collect Result_Dam']], train['target']).reset_index()\n",
    "a['total'] = a['AbNormal'] + a['Normal']\n",
    "a['ratio'] = a['AbNormal'] / (a['total'])"
   ]
  },
  {
   "cell_type": "code",
   "execution_count": 41,
   "id": "ebb6973a",
   "metadata": {},
   "outputs": [],
   "source": [
    "# 기준\n",
    "cri = [\n",
    "    (a['ratio'] == 0),\n",
    "    (a['ratio'] > 0.1)\n",
    "]\n",
    "\n",
    "con = [\n",
    "    -1, 1\n",
    "]\n",
    "\n",
    "a['select_workorder'] = np.select(cri, con, default = 0)"
   ]
  },
  {
   "cell_type": "code",
   "execution_count": 42,
   "id": "d7926bcc",
   "metadata": {},
   "outputs": [],
   "source": [
    "# 결합 시킬 변수만 뽑기\n",
    "a2 = a[['Workorder_Dam', 'Receip No Collect Result_Dam', 'select_workorder']]"
   ]
  },
  {
   "cell_type": "code",
   "execution_count": 43,
   "id": "39b9fb4f",
   "metadata": {},
   "outputs": [],
   "source": [
    "# receip과 workorder 혼합\n",
    "train = pd.merge(train, a2, how = 'left', on = ['Workorder_Dam', 'Receip No Collect Result_Dam'])\n",
    "test = pd.merge(test, a2, how = 'left', on = ['Workorder_Dam', 'Receip No Collect Result_Dam'])"
   ]
  },
  {
   "cell_type": "code",
   "execution_count": 44,
   "id": "675bf582",
   "metadata": {},
   "outputs": [
    {
     "name": "stderr",
     "output_type": "stream",
     "text": [
      "/tmp/ipykernel_73/1884549531.py:2: SettingWithCopyWarning: \n",
      "A value is trying to be set on a copy of a slice from a DataFrame\n",
      "\n",
      "See the caveats in the documentation: https://pandas.pydata.org/pandas-docs/stable/user_guide/indexing.html#returning-a-view-versus-a-copy\n",
      "  test['select_workorder'][test['select_workorder'].isna()] = 0\n"
     ]
    }
   ],
   "source": [
    "# train에 정보가 없는 test는 기본 값인 0으로 채우기\n",
    "test['select_workorder'][test['select_workorder'].isna()] = 0"
   ]
  },
  {
   "cell_type": "code",
   "execution_count": 45,
   "id": "b9baeffd",
   "metadata": {},
   "outputs": [],
   "source": [
    "# 대입 시키기\n",
    "use_train['select_workorder'] = train['select_workorder']\n",
    "use_test['select_workorder'] = test['select_workorder']"
   ]
  },
  {
   "cell_type": "code",
   "execution_count": 46,
   "id": "3e500ec5",
   "metadata": {},
   "outputs": [],
   "source": [
    "# pallet별 불량률 계산\n",
    "a = pd.crosstab(train['PalletID Collect Result_Dam'], train['target']).reset_index()\n",
    "a['total'] = a['AbNormal'] + a['Normal']\n",
    "a['ratio'] = a['AbNormal'] / (a['total'])"
   ]
  },
  {
   "cell_type": "code",
   "execution_count": 47,
   "id": "27e36754",
   "metadata": {},
   "outputs": [],
   "source": [
    "# 기준\n",
    "a['select_pallet'] = np.where(a['ratio'] >= 0.056903, 1, 0)"
   ]
  },
  {
   "cell_type": "code",
   "execution_count": 48,
   "id": "4ceeb6ec",
   "metadata": {},
   "outputs": [],
   "source": [
    "# 결합 시킬 변수만 뽑기\n",
    "a2 = a[['select_pallet', 'PalletID Collect Result_Dam']]"
   ]
  },
  {
   "cell_type": "code",
   "execution_count": 49,
   "id": "accb160d",
   "metadata": {},
   "outputs": [],
   "source": [
    "# receip과 workorder 혼합\n",
    "train = pd.merge(train, a2, how = 'left', on = ['PalletID Collect Result_Dam'])\n",
    "test = pd.merge(test, a2, how = 'left', on = ['PalletID Collect Result_Dam'])"
   ]
  },
  {
   "cell_type": "code",
   "execution_count": 50,
   "id": "7fc13cc9",
   "metadata": {},
   "outputs": [],
   "source": [
    "# 대입 시키기\n",
    "use_train['select_pallet'] = train['select_pallet']\n",
    "use_test['select_pallet'] = test['select_pallet']"
   ]
  },
  {
   "cell_type": "code",
   "execution_count": 51,
   "id": "eb399a49",
   "metadata": {},
   "outputs": [],
   "source": [
    "# 경화 방향이 dam, fill2에서 같은지 다른지\n",
    "train['cure_direction_dam'] = np.where(train['CURE END POSITION X Collect Result_Dam'] == 240, 1, -1)\n",
    "train['cure_direction_fill2'] = np.where(train['CURE END POSITION X Collect Result_Fill2'] == 240, 1, -1)\n",
    "use_train['direction'] = np.where(train['cure_direction_dam'] == train['cure_direction_fill2'], 1, -1)\n",
    "\n",
    "test['cure_direction_dam'] = np.where(test['CURE END POSITION X Collect Result_Dam'] == 240, 1, -1)\n",
    "test['cure_direction_fill2'] = np.where(test['CURE END POSITION X Collect Result_Fill2'] == 240, 1, -1)\n",
    "use_test['direction'] = np.where(test['cure_direction_dam'] == test['cure_direction_fill2'], 1, -1)"
   ]
  },
  {
   "cell_type": "code",
   "execution_count": 52,
   "id": "5c9e6516",
   "metadata": {},
   "outputs": [],
   "source": [
    "# 레진 volume dam, fill1 의 비율\n",
    "use_train['volume_ratio_stage1'] = train['Dispense Volume(Stage1) Collect Result_Fill1'] / (train['Dispense Volume(Stage1) Collect Result_Fill1'] + train['Dispense Volume(Stage1) Collect Result_Dam'])\n",
    "use_train['volume_ratio_stage2'] = train['Dispense Volume(Stage2) Collect Result_Fill1'] / (train['Dispense Volume(Stage2) Collect Result_Fill1'] + train['Dispense Volume(Stage2) Collect Result_Dam'])\n",
    "use_train['volume_ratio_stage3'] = train['Dispense Volume(Stage3) Collect Result_Fill1'] / (train['Dispense Volume(Stage3) Collect Result_Fill1'] + train['Dispense Volume(Stage3) Collect Result_Dam'])\n",
    "\n",
    "use_test['volume_ratio_stage1'] = test['Dispense Volume(Stage1) Collect Result_Fill1'] / (test['Dispense Volume(Stage1) Collect Result_Fill1'] + test['Dispense Volume(Stage1) Collect Result_Dam'])\n",
    "use_test['volume_ratio_stage2'] = test['Dispense Volume(Stage2) Collect Result_Fill1'] / (test['Dispense Volume(Stage2) Collect Result_Fill1'] + test['Dispense Volume(Stage2) Collect Result_Dam'])\n",
    "use_test['volume_ratio_stage3'] = test['Dispense Volume(Stage3) Collect Result_Fill1'] / (test['Dispense Volume(Stage3) Collect Result_Fill1'] + test['Dispense Volume(Stage3) Collect Result_Dam'])"
   ]
  },
  {
   "cell_type": "code",
   "execution_count": 53,
   "id": "4a6f89d8",
   "metadata": {},
   "outputs": [],
   "source": [
    "# set id 추가\n",
    "use_test['Set ID'] = test['Set ID']"
   ]
  },
  {
   "cell_type": "code",
   "execution_count": 54,
   "id": "ede03aba",
   "metadata": {},
   "outputs": [],
   "source": [
    "# 저장\n",
    "use_train.to_csv('./data/train_0816_variable.csv', index = False)\n",
    "use_test.to_csv('./data/test_0816_variable.csv', index = False)"
   ]
  }
 ],
 "metadata": {
  "kernelspec": {
   "display_name": "Python 3 (ipykernel)",
   "language": "python",
   "name": "python3"
  },
  "language_info": {
   "codemirror_mode": {
    "name": "ipython",
    "version": 3
   },
   "file_extension": ".py",
   "mimetype": "text/x-python",
   "name": "python",
   "nbconvert_exporter": "python",
   "pygments_lexer": "ipython3",
   "version": "3.10.13"
  }
 },
 "nbformat": 4,
 "nbformat_minor": 5
}
