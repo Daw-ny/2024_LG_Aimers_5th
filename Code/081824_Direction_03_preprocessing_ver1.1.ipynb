{
 "cells": [
  {
   "cell_type": "markdown",
   "id": "017e9265",
   "metadata": {},
   "source": [
    "# 제품 이상여부 판별 프로젝트"
   ]
  },
  {
   "cell_type": "markdown",
   "id": "acdab431",
   "metadata": {},
   "source": [
    "## 1. 데이터 불러오기\n"
   ]
  },
  {
   "cell_type": "markdown",
   "id": "2b8341e8",
   "metadata": {},
   "source": [
    "### 필수 라이브러리\n"
   ]
  },
  {
   "cell_type": "code",
   "execution_count": 1,
   "id": "a315cc58",
   "metadata": {},
   "outputs": [],
   "source": [
    "import os\n",
    "from pprint import pprint\n",
    "\n",
    "import numpy as np\n",
    "import pandas as pd\n",
    "from sklearn.ensemble import RandomForestClassifier\n",
    "from sklearn.metrics import (\n",
    "    accuracy_score,\n",
    "    classification_report,\n",
    "    confusion_matrix,\n",
    "    f1_score,\n",
    "    precision_score,\n",
    "    recall_score,\n",
    ")\n",
    "from sklearn.model_selection import train_test_split\n",
    "from tqdm import tqdm\n",
    "from sklearn.preprocessing import LabelEncoder"
   ]
  },
  {
   "cell_type": "markdown",
   "id": "4d054e30",
   "metadata": {},
   "source": [
    "### 데이터 읽어오기\n"
   ]
  },
  {
   "cell_type": "code",
   "execution_count": 2,
   "id": "fc0b4d80",
   "metadata": {},
   "outputs": [],
   "source": [
    "ROOT_DIR = \"data\"\n",
    "RANDOM_STATE = 110\n",
    "\n",
    "# Load data\n",
    "train = pd.read_csv(os.path.join(ROOT_DIR, \"train_junhyeok.csv\"))\n",
    "test = pd.read_csv('./data/test_junhyeok.csv')"
   ]
  },
  {
   "cell_type": "markdown",
   "id": "a7b729d6",
   "metadata": {},
   "source": [
    "### 필요하거나 묶일 수 있는 변수 가져오기"
   ]
  },
  {
   "cell_type": "code",
   "execution_count": 3,
   "id": "89cd1f75",
   "metadata": {},
   "outputs": [],
   "source": [
    "# 이 셀은 한번만 클릭\n",
    "train['Equipment_Dam'] = train['Equipment_Dam'].str.slice(15, 16)\n",
    "train['Equipment_Fill1'] = train['Equipment_Fill1'].str.slice(17, 18)\n",
    "train['Equipment_Fill2'] = train['Equipment_Fill2'].str.slice(17, 18)\n",
    "\n",
    "test['Equipment_Dam'] = test['Equipment_Dam'].str.slice(15, 16)\n",
    "test['Equipment_Fill1'] = test['Equipment_Fill1'].str.slice(17, 18)\n",
    "test['Equipment_Fill2'] = test['Equipment_Fill2'].str.slice(17, 18)"
   ]
  },
  {
   "cell_type": "code",
   "execution_count": 4,
   "id": "e8258046",
   "metadata": {},
   "outputs": [],
   "source": [
    "# 새로운 영역 지정\n",
    "use_train = pd.DataFrame(train['target'], columns = ['target'])\n",
    "use_test = pd.DataFrame(test['Set ID'], columns = ['Set ID'])"
   ]
  },
  {
   "cell_type": "markdown",
   "id": "a16ab036",
   "metadata": {},
   "source": [
    "### Inconsistant"
   ]
  },
  {
   "cell_type": "code",
   "execution_count": 5,
   "id": "c4d9f417",
   "metadata": {},
   "outputs": [],
   "source": [
    "# Dam, Fill1, Fill2에서 지정된 값이 다를 경우 Abnormal \n",
    "def inconsistant(data, columnname, iwantthiscolumnsname, is_train = True):\n",
    "    # 장비 번호가 다르면 불일치\n",
    "    if is_train:\n",
    "        cri = [\n",
    "            train[columnname + '_Dam'] != train[columnname + '_Fill1'],\n",
    "            train[columnname + '_Dam'] != train[columnname + '_Fill2'],\n",
    "            train[columnname + '_Fill1'] != train[columnname + '_Fill1'],\n",
    "            data[iwantthiscolumnsname] == 1\n",
    "        ]\n",
    "        \n",
    "    else:\n",
    "        cri = [\n",
    "            test[columnname + '_Dam'] != test[columnname + '_Fill1'],\n",
    "            test[columnname + '_Dam'] != test[columnname + '_Fill2'],\n",
    "            test[columnname + '_Fill1'] != test[columnname + '_Fill1'],\n",
    "            data[iwantthiscolumnsname] == 1\n",
    "        ]\n",
    "    con = [1, 1, 1, 1]\n",
    "\n",
    "    data[iwantthiscolumnsname] = np.select(cri, con, default = 0)"
   ]
  },
  {
   "cell_type": "code",
   "execution_count": 6,
   "id": "e42c236b",
   "metadata": {},
   "outputs": [],
   "source": [
    "# 불일치 변수\n",
    "use_train['inconsistant'] = 0\n",
    "use_test['inconsistant'] = 0\n",
    "\n",
    "# 기준\n",
    "columnname = ['Equipment', 'Receip No Collect Result', 'Production Qty Collect Result', 'PalletID Collect Result', ]\n",
    "\n",
    "# 장착\n",
    "for i in columnname:\n",
    "    inconsistant(use_train, i, 'inconsistant', True)\n",
    "    inconsistant(use_test, i, 'inconsistant', False)"
   ]
  },
  {
   "cell_type": "code",
   "execution_count": 7,
   "id": "2d8b2382",
   "metadata": {},
   "outputs": [],
   "source": [
    "# 시간이 0이하, 900이상인 값은 이상치로 분류\n",
    "for j in ['Machine Tact time Collect Result_Dam', 'Machine Tact time Collect Result_Fill1', 'Machine Tact time Collect Result_Fill2']:\n",
    "    cri = [\n",
    "        train[j] <= 0,\n",
    "        train[j] > 900\n",
    "    ]\n",
    "    cri2 = [\n",
    "        test[j] <= 0,\n",
    "        test[j] > 900\n",
    "    ]\n",
    "    con = [\n",
    "        1, 1\n",
    "    ]\n",
    "    use_train['inconsistant'] = np.select(cri, con, default = use_train['inconsistant'])\n",
    "    use_test['inconsistant'] = np.select(cri2, con, default = use_test['inconsistant'])"
   ]
  },
  {
   "cell_type": "markdown",
   "id": "1091664f",
   "metadata": {},
   "source": [
    "### Distance of head normal"
   ]
  },
  {
   "cell_type": "code",
   "execution_count": 8,
   "id": "92b303d2",
   "metadata": {},
   "outputs": [],
   "source": [
    "# 유클리드 거리 계산\n",
    "def euclide_distance(data, first_dot, second_dot):\n",
    "    \n",
    "    # 값 반환\n",
    "    iwantcalculateeuclidedistance = np.array([0]*len(data))\n",
    "    \n",
    "    # 제곱값 더해주기\n",
    "    for i, j in zip(first_dot, second_dot):\n",
    "        iwantcalculateeuclidedistance += (data[i] - data[j])**2\n",
    "        \n",
    "    # 반환\n",
    "    return iwantcalculateeuclidedistance**0.5"
   ]
  },
  {
   "cell_type": "code",
   "execution_count": 9,
   "id": "91f7d4f9",
   "metadata": {},
   "outputs": [],
   "source": [
    "first_dot = [\n",
    "    'HEAD NORMAL COORDINATE X AXIS(Stage1) Collect Result_Dam',\n",
    "    'HEAD NORMAL COORDINATE Y AXIS(Stage1) Collect Result_Dam',\n",
    "    'HEAD NORMAL COORDINATE Z AXIS(Stage1) Collect Result_Dam'\n",
    "] \n",
    "second_dot = [\n",
    "    'HEAD NORMAL COORDINATE X AXIS(Stage1) Collect Result_Fill1',\n",
    "    'HEAD NORMAL COORDINATE Y AXIS(Stage1) Collect Result_Fill1',\n",
    "    'HEAD NORMAL COORDINATE Z AXIS(Stage1) Collect Result_Fill1'\n",
    "]\n",
    "\n",
    "use_train['dist_head_stage1'] = euclide_distance(train, first_dot, second_dot)\n",
    "use_test['dist_head_stage1'] = euclide_distance(test, first_dot, second_dot)"
   ]
  },
  {
   "cell_type": "code",
   "execution_count": 10,
   "id": "bae68cc8",
   "metadata": {},
   "outputs": [],
   "source": [
    "first_dot = [\n",
    "    'HEAD NORMAL COORDINATE X AXIS(Stage2) Collect Result_Dam',\n",
    "    'HEAD NORMAL COORDINATE Y AXIS(Stage2) Collect Result_Dam',\n",
    "    'HEAD NORMAL COORDINATE Z AXIS(Stage2) Collect Result_Dam'\n",
    "] \n",
    "second_dot = [\n",
    "    'HEAD NORMAL COORDINATE X AXIS(Stage2) Collect Result_Fill1',\n",
    "    'HEAD NORMAL COORDINATE Y AXIS(Stage2) Collect Result_Fill1',\n",
    "    'HEAD NORMAL COORDINATE Z AXIS(Stage2) Collect Result_Fill1'\n",
    "]\n",
    "\n",
    "use_train['dist_head_stage2'] = euclide_distance(train, first_dot, second_dot)\n",
    "use_test['dist_head_stage2'] = euclide_distance(test, first_dot, second_dot)"
   ]
  },
  {
   "cell_type": "code",
   "execution_count": 11,
   "id": "01330bae",
   "metadata": {},
   "outputs": [],
   "source": [
    "first_dot = [\n",
    "    'HEAD NORMAL COORDINATE X AXIS(Stage3) Collect Result_Dam',\n",
    "    'HEAD NORMAL COORDINATE Y AXIS(Stage3) Collect Result_Dam',\n",
    "    'HEAD NORMAL COORDINATE Z AXIS(Stage3) Collect Result_Dam'\n",
    "] \n",
    "second_dot = [\n",
    "    'HEAD NORMAL COORDINATE X AXIS(Stage3) Collect Result_Fill1',\n",
    "    'HEAD NORMAL COORDINATE Y AXIS(Stage3) Collect Result_Fill1',\n",
    "    'HEAD NORMAL COORDINATE Z AXIS(Stage3) Collect Result_Fill1'\n",
    "]\n",
    "\n",
    "use_train['dist_head_stage3'] = euclide_distance(train, first_dot, second_dot)\n",
    "use_test['dist_head_stage3'] = euclide_distance(test, first_dot, second_dot)"
   ]
  },
  {
   "cell_type": "markdown",
   "id": "496743f6",
   "metadata": {},
   "source": [
    "### adjusted volume"
   ]
  },
  {
   "cell_type": "code",
   "execution_count": 12,
   "id": "05aa02f2",
   "metadata": {},
   "outputs": [],
   "source": [
    "### 각 Stage별 새로운 Resin 값을 제시하기 위한 코드\n",
    "## train\n",
    "# Stage별 토출량, 토출 속도, 토출 소요시간 데이터\n",
    "train['RESIN Predicted_Volume Stage1 Dam'] = train['DISCHARGED SPEED OF RESIN Collect Result_Dam'] * train['DISCHARGED TIME OF RESIN(Stage1) Collect Result_Dam']\n",
    "train['RESIN Predicted_Volume Stage2 Dam'] = train['DISCHARGED SPEED OF RESIN Collect Result_Dam'] * train['DISCHARGED TIME OF RESIN(Stage2) Collect Result_Dam']\n",
    "train['RESIN Predicted_Volume Stage3 Dam'] = train['DISCHARGED SPEED OF RESIN Collect Result_Dam'] * train['DISCHARGED TIME OF RESIN(Stage3) Collect Result_Dam']\n",
    "\n",
    "# Stage별 실제 토출량과 예측 토출량의 비율(조정 계수) 계산\n",
    "train['Stage1 Scaling_Factor'] = train['Dispense Volume(Stage1) Collect Result_Dam'] / train['RESIN Predicted_Volume Stage1 Dam']\n",
    "train['Stage2 Scaling_Factor'] = train['Dispense Volume(Stage2) Collect Result_Dam'] / train['RESIN Predicted_Volume Stage2 Dam']\n",
    "train['Stage3 Scaling_Factor'] = train['Dispense Volume(Stage3) Collect Result_Dam'] / train['RESIN Predicted_Volume Stage3 Dam']\n",
    "\n",
    "# Stage별 조정된 예측 토출량 계산\n",
    "use_train['RESIN Adjusted_Predicted_Volume Stage1 Dam'] = train['RESIN Predicted_Volume Stage1 Dam'] * train['Stage1 Scaling_Factor'].mean()\n",
    "use_train['RESIN Adjusted_Predicted_Volume Stage2 Dam'] = train['RESIN Predicted_Volume Stage2 Dam'] * train['Stage2 Scaling_Factor'].mean()\n",
    "use_train['RESIN Adjusted_Predicted_Volume Stage3 Dam'] = train['RESIN Predicted_Volume Stage3 Dam'] * train['Stage3 Scaling_Factor'].mean()\n",
    "\n",
    "## test\n",
    "# Stage별 토출량, 토출 속도, 토출 소요시간 데이터\n",
    "test['RESIN Predicted_Volume Stage1 Dam'] = test['DISCHARGED SPEED OF RESIN Collect Result_Dam'] * test['DISCHARGED TIME OF RESIN(Stage1) Collect Result_Dam']\n",
    "test['RESIN Predicted_Volume Stage2 Dam'] = test['DISCHARGED SPEED OF RESIN Collect Result_Dam'] * test['DISCHARGED TIME OF RESIN(Stage2) Collect Result_Dam']\n",
    "test['RESIN Predicted_Volume Stage3 Dam'] = test['DISCHARGED SPEED OF RESIN Collect Result_Dam'] * test['DISCHARGED TIME OF RESIN(Stage3) Collect Result_Dam']\n",
    "\n",
    "# Stage별 실제 토출량과 예측 토출량의 비율(조정 계수) 계산\n",
    "test['Stage1 Scaling_Factor'] = test['Dispense Volume(Stage1) Collect Result_Dam'] / test['RESIN Predicted_Volume Stage1 Dam']\n",
    "test['Stage2 Scaling_Factor'] = test['Dispense Volume(Stage2) Collect Result_Dam'] / test['RESIN Predicted_Volume Stage2 Dam']\n",
    "test['Stage3 Scaling_Factor'] = test['Dispense Volume(Stage3) Collect Result_Dam'] / test['RESIN Predicted_Volume Stage3 Dam']\n",
    "\n",
    "# Stage별 조정된 예측 토출량 계산\n",
    "use_test['RESIN Adjusted_Predicted_Volume Stage1 Dam'] = test['RESIN Predicted_Volume Stage1 Dam'] * test['Stage1 Scaling_Factor'].mean()\n",
    "use_test['RESIN Adjusted_Predicted_Volume Stage2 Dam'] = test['RESIN Predicted_Volume Stage2 Dam'] * test['Stage2 Scaling_Factor'].mean()\n",
    "use_test['RESIN Adjusted_Predicted_Volume Stage3 Dam'] = test['RESIN Predicted_Volume Stage3 Dam'] * test['Stage3 Scaling_Factor'].mean()"
   ]
  },
  {
   "cell_type": "code",
   "execution_count": 13,
   "id": "e2bf546e",
   "metadata": {},
   "outputs": [],
   "source": [
    "### 각 Stage별 새로운 Resin 값을 제시하기 위한 코드\n",
    "## train\n",
    "# Stage별 토출량, 토출 속도, 토출 소요시간 데이터\n",
    "train['RESIN Predicted_Volume Stage1 Fill1'] = train['DISCHARGED SPEED OF RESIN Collect Result_Fill1'] * train['DISCHARGED TIME OF RESIN(Stage1) Collect Result_Fill1']\n",
    "train['RESIN Predicted_Volume Stage2 Fill1'] = train['DISCHARGED SPEED OF RESIN Collect Result_Fill1'] * train['DISCHARGED TIME OF RESIN(Stage2) Collect Result_Fill1']\n",
    "train['RESIN Predicted_Volume Stage3 Fill1'] = train['DISCHARGED SPEED OF RESIN Collect Result_Fill1'] * train['DISCHARGED TIME OF RESIN(Stage3) Collect Result_Fill1']\n",
    "\n",
    "# Stage별 실제 토출량과 예측 토출량의 비율(조정 계수) 계산\n",
    "train['Stage1 Scaling_Factor'] = train['Dispense Volume(Stage1) Collect Result_Fill1'] / train['RESIN Predicted_Volume Stage1 Fill1']\n",
    "train['Stage2 Scaling_Factor'] = train['Dispense Volume(Stage2) Collect Result_Fill1'] / train['RESIN Predicted_Volume Stage2 Fill1']\n",
    "train['Stage3 Scaling_Factor'] = train['Dispense Volume(Stage3) Collect Result_Fill1'] / train['RESIN Predicted_Volume Stage3 Fill1']\n",
    "\n",
    "# Stage별 조정된 예측 토출량 계산\n",
    "use_train['RESIN Adjusted_Predicted_Volume Stage1 Fill1'] = train['RESIN Predicted_Volume Stage1 Fill1'] * train['Stage1 Scaling_Factor'].mean()\n",
    "use_train['RESIN Adjusted_Predicted_Volume Stage2 Fill1'] = train['RESIN Predicted_Volume Stage2 Fill1'] * train['Stage2 Scaling_Factor'].mean()\n",
    "use_train['RESIN Adjusted_Predicted_Volume Stage3 Fill1'] = train['RESIN Predicted_Volume Stage3 Fill1'] * train['Stage3 Scaling_Factor'].mean()\n",
    "\n",
    "## test\n",
    "# Stage별 토출량, 토출 속도, 토출 소요시간 데이터\n",
    "test['RESIN Predicted_Volume Stage1 Fill1'] = test['DISCHARGED SPEED OF RESIN Collect Result_Fill1'] * test['DISCHARGED TIME OF RESIN(Stage1) Collect Result_Fill1']\n",
    "test['RESIN Predicted_Volume Stage2 Fill1'] = test['DISCHARGED SPEED OF RESIN Collect Result_Fill1'] * test['DISCHARGED TIME OF RESIN(Stage2) Collect Result_Fill1']\n",
    "test['RESIN Predicted_Volume Stage3 Fill1'] = test['DISCHARGED SPEED OF RESIN Collect Result_Fill1'] * test['DISCHARGED TIME OF RESIN(Stage3) Collect Result_Fill1']\n",
    "\n",
    "# Stage별 실제 토출량과 예측 토출량의 비율(조정 계수) 계산\n",
    "test['Stage1 Scaling_Factor'] = test['Dispense Volume(Stage1) Collect Result_Fill1'] / test['RESIN Predicted_Volume Stage1 Fill1']\n",
    "test['Stage2 Scaling_Factor'] = test['Dispense Volume(Stage2) Collect Result_Fill1'] / test['RESIN Predicted_Volume Stage2 Fill1']\n",
    "test['Stage3 Scaling_Factor'] = test['Dispense Volume(Stage3) Collect Result_Fill1'] / test['RESIN Predicted_Volume Stage3 Fill1']\n",
    "\n",
    "# Stage별 조정된 예측 토출량 계산\n",
    "use_test['RESIN Adjusted_Predicted_Volume Stage1 Fill1'] = test['RESIN Predicted_Volume Stage1 Fill1'] * test['Stage1 Scaling_Factor'].mean()\n",
    "use_test['RESIN Adjusted_Predicted_Volume Stage2 Fill1'] = test['RESIN Predicted_Volume Stage2 Fill1'] * test['Stage2 Scaling_Factor'].mean()\n",
    "use_test['RESIN Adjusted_Predicted_Volume Stage3 Fill1'] = test['RESIN Predicted_Volume Stage3 Fill1'] * test['Stage3 Scaling_Factor'].mean()"
   ]
  },
  {
   "cell_type": "code",
   "execution_count": 14,
   "id": "885a6eb8",
   "metadata": {},
   "outputs": [],
   "source": [
    "# pressure * unit time\n",
    "use_train['time_per_pressure_1st'] = train['1st Pressure Collect Result_AutoClave'] * train['1st Pressure 1st Pressure Unit Time_AutoClave']\n",
    "use_train['time_per_pressure_2nd'] = train['2nd Pressure Collect Result_AutoClave'] * train['2nd Pressure Unit Time_AutoClave']\n",
    "use_train['time_per_pressure_3rd'] = train['3rd Pressure Collect Result_AutoClave'] * train['3rd Pressure Unit Time_AutoClave']\n",
    "\n",
    "use_test['time_per_pressure_1st'] = test['1st Pressure Collect Result_AutoClave'] * test['1st Pressure 1st Pressure Unit Time_AutoClave']\n",
    "use_test['time_per_pressure_2nd'] = test['2nd Pressure Collect Result_AutoClave'] * test['2nd Pressure Unit Time_AutoClave']\n",
    "use_test['time_per_pressure_3rd'] = test['3rd Pressure Collect Result_AutoClave'] * test['3rd Pressure Unit Time_AutoClave']"
   ]
  },
  {
   "cell_type": "markdown",
   "id": "c49049bf",
   "metadata": {},
   "source": [
    "### circle, line sum"
   ]
  },
  {
   "cell_type": "code",
   "execution_count": 15,
   "id": "3c7b47f2",
   "metadata": {},
   "outputs": [],
   "source": [
    "col = [\n",
    "    'Stage1 Circle1 Distance Speed Collect Result_Dam',\n",
    "    'Stage1 Circle2 Distance Speed Collect Result_Dam',\n",
    "    'Stage1 Circle3 Distance Speed Collect Result_Dam',\n",
    "    'Stage1 Circle4 Distance Speed Collect Result_Dam'\n",
    "]\n",
    "\n",
    "use_train['circle_stage1'] = train[col].sum(axis = 1)\n",
    "use_test['circle_stage1'] = train[col].sum(axis = 1)"
   ]
  },
  {
   "cell_type": "code",
   "execution_count": 16,
   "id": "d4687e64",
   "metadata": {},
   "outputs": [],
   "source": [
    "col = [\n",
    "    'Stage2 Circle1 Distance Speed Collect Result_Dam',\n",
    "    'Stage2 Circle2 Distance Speed Collect Result_Dam',\n",
    "    'Stage2 Circle3 Distance Speed Collect Result_Dam',\n",
    "    'Stage2 Circle4 Distance Speed Collect Result_Dam'\n",
    "]\n",
    "\n",
    "use_train['circle_stage2'] = train[col].sum(axis = 1)\n",
    "use_test['circle_stage2'] = train[col].sum(axis = 1)"
   ]
  },
  {
   "cell_type": "code",
   "execution_count": 17,
   "id": "e0734343",
   "metadata": {},
   "outputs": [],
   "source": [
    "col = [\n",
    "    'Stage3 Circle1 Distance Speed Collect Result_Dam',\n",
    "    'Stage3 Circle2 Distance Speed Collect Result_Dam',\n",
    "    'Stage3 Circle3 Distance Speed Collect Result_Dam',\n",
    "    'Stage3 Circle4 Distance Speed Collect Result_Dam'\n",
    "]\n",
    "\n",
    "use_train['circle_stage3'] = train[col].sum(axis = 1)\n",
    "use_test['circle_stage3'] = train[col].sum(axis = 1)"
   ]
  },
  {
   "cell_type": "code",
   "execution_count": 18,
   "id": "30992c3a",
   "metadata": {},
   "outputs": [],
   "source": [
    "col = [\n",
    "    'Stage1 Line1 Distance Speed Collect Result_Dam',\n",
    "    'Stage1 Line2 Distance Speed Collect Result_Dam',\n",
    "    'Stage1 Line3 Distance Speed Collect Result_Dam',\n",
    "    'Stage1 Line4 Distance Speed Collect Result_Dam'\n",
    "]\n",
    "\n",
    "use_train['line_stage1'] = train[col].sum(axis = 1)\n",
    "use_test['line_stage1'] = train[col].sum(axis = 1)"
   ]
  },
  {
   "cell_type": "code",
   "execution_count": 19,
   "id": "43cfcfd2",
   "metadata": {},
   "outputs": [],
   "source": [
    "col = [\n",
    "    'Stage2 Line1 Distance Speed Collect Result_Dam',\n",
    "    'Stage2 Line2 Distance Speed Collect Result_Dam',\n",
    "    'Stage2 Line3 Distance Speed Collect Result_Dam',\n",
    "    'Stage2 Line4 Distance Speed Collect Result_Dam'\n",
    "]\n",
    "\n",
    "use_train['line_stage2'] = train[col].sum(axis = 1)\n",
    "use_test['line_stage2'] = train[col].sum(axis = 1)"
   ]
  },
  {
   "cell_type": "code",
   "execution_count": 20,
   "id": "f7118c5e",
   "metadata": {},
   "outputs": [],
   "source": [
    "col = [\n",
    "    'Stage3 Line1 Distance Speed Collect Result_Dam',\n",
    "    'Stage3 Line1 Distance Speed Collect Result_Dam',\n",
    "    'Stage3 Line1 Distance Speed Collect Result_Dam',\n",
    "    'Stage3 Line1 Distance Speed Collect Result_Dam'\n",
    "]\n",
    "\n",
    "use_train['line_stage3'] = train[col].sum(axis = 1)\n",
    "use_test['line_stage3'] = train[col].sum(axis = 1)"
   ]
  },
  {
   "cell_type": "markdown",
   "id": "5e49af46",
   "metadata": {},
   "source": [
    "### machine time - cure time 비율"
   ]
  },
  {
   "cell_type": "code",
   "execution_count": 21,
   "id": "7d52ea64",
   "metadata": {},
   "outputs": [],
   "source": [
    "train['fill_time'] = train['Machine Tact time Collect Result_Fill1'] + train['Machine Tact time Collect Result_Fill2']\n",
    "use_train['cure_time_ratio_fill'] = round(train['Machine Tact time Collect Result_Fill2'] / train['fill_time'], 2)\n",
    "\n",
    "test['fill_time'] = test['Machine Tact time Collect Result_Fill1'] + test['Machine Tact time Collect Result_Fill2']\n",
    "use_test['cure_time_ratio_fill'] = round(test['Machine Tact time Collect Result_Fill2'] / test['fill_time'], 2)"
   ]
  },
  {
   "cell_type": "code",
   "execution_count": 22,
   "id": "389b88dc",
   "metadata": {},
   "outputs": [],
   "source": [
    "use_train['cure_time_ratio_dam'] = round((train['Machine Tact time Collect Result_Dam'] - train['DISCHARGED TIME OF RESIN(Stage1) Collect Result_Dam'] - train['DISCHARGED TIME OF RESIN(Stage2) Collect Result_Dam'] - train['DISCHARGED TIME OF RESIN(Stage3) Collect Result_Dam'])/train['Machine Tact time Collect Result_Dam'], 2)\n",
    "use_test['cure_time_ratio_dam'] = round((test['Machine Tact time Collect Result_Dam'] - test['DISCHARGED TIME OF RESIN(Stage1) Collect Result_Dam'] - test['DISCHARGED TIME OF RESIN(Stage2) Collect Result_Dam'] - test['DISCHARGED TIME OF RESIN(Stage3) Collect Result_Dam'])/test['Machine Tact time Collect Result_Dam'], 2)"
   ]
  },
  {
   "cell_type": "markdown",
   "id": "c0790d59",
   "metadata": {},
   "source": [
    "### workorder, receip 합체"
   ]
  },
  {
   "cell_type": "code",
   "execution_count": 23,
   "id": "96f8e2ea",
   "metadata": {},
   "outputs": [],
   "source": [
    "# workorder별로 불량률 계산\n",
    "a = pd.crosstab([train['Workorder_Dam'], train['Receip No Collect Result_Dam']], train['target']).reset_index()\n",
    "a['total'] = a['AbNormal'] + a['Normal']\n",
    "a['ratio'] = a['AbNormal'] / (a['total'])"
   ]
  },
  {
   "cell_type": "code",
   "execution_count": 24,
   "id": "ebb6973a",
   "metadata": {},
   "outputs": [],
   "source": [
    "# 기준\n",
    "cri = [\n",
    "    (a['ratio'] == 0),\n",
    "    (a['ratio'] >= 0.076923)\n",
    "]\n",
    "\n",
    "con = [\n",
    "    -1, 1\n",
    "]\n",
    "\n",
    "a['select_workorder'] = np.select(cri, con, default = 0)"
   ]
  },
  {
   "cell_type": "code",
   "execution_count": 25,
   "id": "d7926bcc",
   "metadata": {},
   "outputs": [],
   "source": [
    "# 결합 시킬 변수만 뽑기\n",
    "a2 = a[['Workorder_Dam', 'Receip No Collect Result_Dam', 'select_workorder']]"
   ]
  },
  {
   "cell_type": "code",
   "execution_count": 26,
   "id": "39b9fb4f",
   "metadata": {},
   "outputs": [],
   "source": [
    "# receip과 workorder 혼합\n",
    "train = pd.merge(train, a2, how = 'left', on = ['Workorder_Dam', 'Receip No Collect Result_Dam'])\n",
    "test = pd.merge(test, a2, how = 'left', on = ['Workorder_Dam', 'Receip No Collect Result_Dam'])"
   ]
  },
  {
   "cell_type": "code",
   "execution_count": 27,
   "id": "675bf582",
   "metadata": {},
   "outputs": [
    {
     "name": "stderr",
     "output_type": "stream",
     "text": [
      "/tmp/ipykernel_6167/1884549531.py:2: SettingWithCopyWarning: \n",
      "A value is trying to be set on a copy of a slice from a DataFrame\n",
      "\n",
      "See the caveats in the documentation: https://pandas.pydata.org/pandas-docs/stable/user_guide/indexing.html#returning-a-view-versus-a-copy\n",
      "  test['select_workorder'][test['select_workorder'].isna()] = 0\n"
     ]
    }
   ],
   "source": [
    "# train에 정보가 없는 test는 기본 값인 0으로 채우기\n",
    "test['select_workorder'][test['select_workorder'].isna()] = 0"
   ]
  },
  {
   "cell_type": "code",
   "execution_count": 28,
   "id": "b9baeffd",
   "metadata": {},
   "outputs": [],
   "source": [
    "# 대입 시키기\n",
    "use_train['select_workorder'] = train['select_workorder']\n",
    "use_test['select_workorder'] = test['select_workorder']"
   ]
  },
  {
   "cell_type": "markdown",
   "id": "aa06fcfe",
   "metadata": {},
   "source": [
    "### 그대로 가져올 변수"
   ]
  },
  {
   "cell_type": "code",
   "execution_count": 29,
   "id": "9fd8bb58",
   "metadata": {},
   "outputs": [],
   "source": [
    "col = [\n",
    "    'CURE SPEED Collect Result_Dam',\n",
    "    'CURE SPEED Collect Result_Fill2',\n",
    "    'PalletID Collect Result_Dam',\n",
    "    'Production Qty Collect Result_Dam',\n",
    "    'Chamber Temp. Collect Result_AutoClave',\n",
    "    'DISCHARGED SPEED OF RESIN Collect Result_Dam',\n",
    "    'DISCHARGED TIME OF RESIN(Stage1) Collect Result_Dam',\n",
    "    'DISCHARGED TIME OF RESIN(Stage2) Collect Result_Dam',\n",
    "    'DISCHARGED TIME OF RESIN(Stage3) Collect Result_Dam',\n",
    "    'Dispense Volume(Stage1) Collect Result_Dam',\n",
    "    'Dispense Volume(Stage2) Collect Result_Dam',\n",
    "    'Dispense Volume(Stage3) Collect Result_Dam',\n",
    "    'HEAD NORMAL COORDINATE X AXIS(Stage1) Collect Result_Dam',\n",
    "    'HEAD NORMAL COORDINATE X AXIS(Stage2) Collect Result_Dam',\n",
    "    'HEAD NORMAL COORDINATE X AXIS(Stage3) Collect Result_Dam',\n",
    "    'HEAD NORMAL COORDINATE Y AXIS(Stage1) Collect Result_Dam',\n",
    "    'HEAD NORMAL COORDINATE Y AXIS(Stage2) Collect Result_Dam',\n",
    "    'HEAD NORMAL COORDINATE Y AXIS(Stage3) Collect Result_Dam',\n",
    "    'HEAD NORMAL COORDINATE Z AXIS(Stage1) Collect Result_Dam',\n",
    "    'HEAD NORMAL COORDINATE Z AXIS(Stage2) Collect Result_Dam',\n",
    "    'HEAD NORMAL COORDINATE Z AXIS(Stage3) Collect Result_Dam',\n",
    "    'DISCHARGED SPEED OF RESIN Collect Result_Fill1',\n",
    "    'DISCHARGED TIME OF RESIN(Stage1) Collect Result_Fill1',\n",
    "    'DISCHARGED TIME OF RESIN(Stage2) Collect Result_Fill1',\n",
    "    'DISCHARGED TIME OF RESIN(Stage3) Collect Result_Fill1',\n",
    "    'Dispense Volume(Stage1) Collect Result_Fill1',\n",
    "    'Dispense Volume(Stage2) Collect Result_Fill1',\n",
    "    'Dispense Volume(Stage3) Collect Result_Fill1',\n",
    "    'HEAD NORMAL COORDINATE X AXIS(Stage1) Collect Result_Fill1',\n",
    "    'HEAD NORMAL COORDINATE X AXIS(Stage2) Collect Result_Fill1',\n",
    "    'HEAD NORMAL COORDINATE X AXIS(Stage3) Collect Result_Fill1',\n",
    "    'HEAD NORMAL COORDINATE Y AXIS(Stage1) Collect Result_Fill1',\n",
    "    'HEAD NORMAL COORDINATE Y AXIS(Stage2) Collect Result_Fill1',\n",
    "    'HEAD NORMAL COORDINATE Y AXIS(Stage3) Collect Result_Fill1',\n",
    "    'HEAD NORMAL COORDINATE Z AXIS(Stage1) Collect Result_Fill1',\n",
    "    'HEAD NORMAL COORDINATE Z AXIS(Stage2) Collect Result_Fill1',\n",
    "    'HEAD NORMAL COORDINATE Z AXIS(Stage3) Collect Result_Fill1',\n",
    "    'THICKNESS 1 Collect Result_Dam',\n",
    "    'THICKNESS 2 Collect Result_Dam',\n",
    "    'THICKNESS 3 Collect Result_Dam',\n",
    "    '1st Pressure Collect Result_AutoClave',\n",
    "    '1st Pressure 1st Pressure Unit Time_AutoClave',\n",
    "    '2nd Pressure Collect Result_AutoClave',\n",
    "    '2nd Pressure Unit Time_AutoClave',\n",
    "    '3rd Pressure Collect Result_AutoClave',\n",
    "    '3rd Pressure Unit Time_AutoClave'\n",
    "]\n",
    "\n",
    "use_train[col] = train[col]\n",
    "use_test[col] = test[col]"
   ]
  },
  {
   "cell_type": "markdown",
   "id": "21da18d3",
   "metadata": {},
   "source": [
    "### LabelEncoder"
   ]
  },
  {
   "cell_type": "code",
   "execution_count": 30,
   "id": "544a0411",
   "metadata": {},
   "outputs": [],
   "source": [
    "# modelsuffix\n",
    "le = LabelEncoder()"
   ]
  },
  {
   "cell_type": "code",
   "execution_count": 31,
   "id": "76157692",
   "metadata": {},
   "outputs": [],
   "source": [
    "# 변환\n",
    "use_train['model_suffix'] = le.fit_transform(train['Model.Suffix_Dam'])\n",
    "use_test['model_suffix'] = le.transform(test['Model.Suffix_Dam'])"
   ]
  },
  {
   "cell_type": "markdown",
   "id": "4941f623",
   "metadata": {},
   "source": [
    "### Setting"
   ]
  },
  {
   "cell_type": "code",
   "execution_count": 32,
   "id": "a97cdf81",
   "metadata": {},
   "outputs": [],
   "source": [
    "# 1, 0 으로 바꿔주기\n",
    "use_train['target'] = np.where(train['target'] == 'Normal', 0, 1)"
   ]
  },
  {
   "cell_type": "code",
   "execution_count": 33,
   "id": "4a6f89d8",
   "metadata": {},
   "outputs": [],
   "source": [
    "# set id 추가\n",
    "use_test['Set ID'] = test['Set ID']"
   ]
  },
  {
   "cell_type": "markdown",
   "id": "2cb27942",
   "metadata": {},
   "source": [
    "### Save"
   ]
  },
  {
   "cell_type": "code",
   "execution_count": 34,
   "id": "ede03aba",
   "metadata": {},
   "outputs": [],
   "source": [
    "# 저장\n",
    "use_train.to_csv('./data/train_0818_variable.csv', index = False)\n",
    "use_test.to_csv('./data/test_0818_variable.csv', index = False)"
   ]
  }
 ],
 "metadata": {
  "kernelspec": {
   "display_name": "Python 3 (ipykernel)",
   "language": "python",
   "name": "python3"
  },
  "language_info": {
   "codemirror_mode": {
    "name": "ipython",
    "version": 3
   },
   "file_extension": ".py",
   "mimetype": "text/x-python",
   "name": "python",
   "nbconvert_exporter": "python",
   "pygments_lexer": "ipython3",
   "version": "3.10.13"
  }
 },
 "nbformat": 4,
 "nbformat_minor": 5
}
