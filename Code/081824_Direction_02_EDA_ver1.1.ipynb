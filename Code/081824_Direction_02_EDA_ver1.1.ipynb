{
 "cells": [
  {
   "cell_type": "markdown",
   "id": "017e9265",
   "metadata": {},
   "source": [
    "# 제품 이상여부 판별 프로젝트"
   ]
  },
  {
   "cell_type": "markdown",
   "id": "acdab431",
   "metadata": {},
   "source": [
    "## 1. 데이터 불러오기\n"
   ]
  },
  {
   "cell_type": "markdown",
   "id": "2b8341e8",
   "metadata": {},
   "source": [
    "### 필수 라이브러리\n"
   ]
  },
  {
   "cell_type": "code",
   "execution_count": 35,
   "id": "a315cc58",
   "metadata": {},
   "outputs": [],
   "source": [
    "import os\n",
    "from pprint import pprint\n",
    "import matplotlib.pyplot as plt\n",
    "\n",
    "import numpy as np\n",
    "import pandas as pd\n",
    "from sklearn.ensemble import RandomForestClassifier\n",
    "from sklearn.metrics import (\n",
    "    accuracy_score,\n",
    "    classification_report,\n",
    "    confusion_matrix,\n",
    "    f1_score,\n",
    "    precision_score,\n",
    "    recall_score,\n",
    ")\n",
    "\n",
    "# plotly\n",
    "import plotly\n",
    "import plotly.graph_objects as go\n",
    "import plotly.express as px\n",
    "import seaborn as sns\n",
    "\n",
    "from sklearn.model_selection import train_test_split\n",
    "from tqdm import tqdm\n",
    "from sklearn.preprocessing import LabelEncoder, OrdinalEncoder\n",
    "import seaborn as sns\n",
    "from sklearn.cluster import KMeans\n",
    "from sklearn.metrics import silhouette_score"
   ]
  },
  {
   "cell_type": "markdown",
   "id": "4d054e30",
   "metadata": {},
   "source": [
    "### 데이터 읽어오기\n"
   ]
  },
  {
   "cell_type": "code",
   "execution_count": 3,
   "id": "fc0b4d80",
   "metadata": {},
   "outputs": [],
   "source": [
    "ROOT_DIR = \"data\"\n",
    "RANDOM_STATE = 110\n",
    "\n",
    "# Load data\n",
    "train = pd.read_csv(os.path.join(ROOT_DIR, \"train_junhyeok.csv\"))\n",
    "test = pd.read_csv('./data/test_junhyeok.csv')"
   ]
  },
  {
   "cell_type": "markdown",
   "id": "a7b729d6",
   "metadata": {},
   "source": [
    "### 필요하거나 묶일 수 있는 변수 가져오기"
   ]
  },
  {
   "cell_type": "code",
   "execution_count": 4,
   "id": "89cd1f75",
   "metadata": {},
   "outputs": [],
   "source": [
    "# 이 셀은 한번만 클릭\n",
    "train['Equipment_Dam'] = train['Equipment_Dam'].str.slice(15, 16)\n",
    "train['Equipment_Fill1'] = train['Equipment_Fill1'].str.slice(17, 18)\n",
    "train['Equipment_Fill2'] = train['Equipment_Fill2'].str.slice(17, 18)\n",
    "\n",
    "test['Equipment_Dam'] = test['Equipment_Dam'].str.slice(15, 16)\n",
    "test['Equipment_Fill1'] = test['Equipment_Fill1'].str.slice(17, 18)\n",
    "test['Equipment_Fill2'] = test['Equipment_Fill2'].str.slice(17, 18)"
   ]
  },
  {
   "cell_type": "code",
   "execution_count": 5,
   "id": "e8258046",
   "metadata": {},
   "outputs": [],
   "source": [
    "# 새로운 영역 지정\n",
    "use_train = pd.DataFrame(train['target'], columns = ['target'])\n",
    "use_test = pd.DataFrame(test['Set ID'], columns = ['Set ID'])"
   ]
  },
  {
   "cell_type": "code",
   "execution_count": 6,
   "id": "c4d9f417",
   "metadata": {},
   "outputs": [],
   "source": [
    "# Dam, Fill1, Fill2에서 지정된 값이 다를 경우 Abnormal \n",
    "def inconsistant(data, columnname, iwantthiscolumnsname, is_train = True):\n",
    "    # 장비 번호가 다르면 불일치\n",
    "    if is_train:\n",
    "        cri = [\n",
    "            train[columnname + '_Dam'] != train[columnname + '_Fill1'],\n",
    "            train[columnname + '_Dam'] != train[columnname + '_Fill2'],\n",
    "            train[columnname + '_Fill1'] != train[columnname + '_Fill1'],\n",
    "            data[iwantthiscolumnsname] == 1\n",
    "        ]\n",
    "        \n",
    "    else:\n",
    "        cri = [\n",
    "            test[columnname + '_Dam'] != test[columnname + '_Fill1'],\n",
    "            test[columnname + '_Dam'] != test[columnname + '_Fill2'],\n",
    "            test[columnname + '_Fill1'] != test[columnname + '_Fill1'],\n",
    "            data[iwantthiscolumnsname] == 1\n",
    "        ]\n",
    "    con = [1, 1, 1, 1]\n",
    "\n",
    "    data[iwantthiscolumnsname] = np.select(cri, con, default = 0)"
   ]
  },
  {
   "cell_type": "code",
   "execution_count": 7,
   "id": "e42c236b",
   "metadata": {},
   "outputs": [],
   "source": [
    "# 불일치 변수\n",
    "use_train['inconsistant'] = 0\n",
    "use_test['inconsistant'] = 0\n",
    "\n",
    "# 기준\n",
    "columnname = ['Equipment', 'Receip No Collect Result', 'Production Qty Collect Result', 'PalletID Collect Result', ]\n",
    "\n",
    "# 장착\n",
    "for i in columnname:\n",
    "    inconsistant(use_train, i, 'inconsistant', True)\n",
    "    inconsistant(use_test, i, 'inconsistant', False)"
   ]
  },
  {
   "cell_type": "code",
   "execution_count": 8,
   "id": "2d8b2382",
   "metadata": {},
   "outputs": [],
   "source": [
    "# 시간이 0이하, 900이상인 값은 이상치로 분류\n",
    "for j in ['Machine Tact time Collect Result_Dam', 'Machine Tact time Collect Result_Fill1', 'Machine Tact time Collect Result_Fill2']:\n",
    "    cri = [\n",
    "        train[j] <= 0,\n",
    "        train[j] > 900\n",
    "    ]\n",
    "    cri2 = [\n",
    "        test[j] <= 0,\n",
    "        test[j] > 900\n",
    "    ]\n",
    "    con = [\n",
    "        1, 1\n",
    "    ]\n",
    "    use_train['inconsistant'] = np.select(cri, con, default = use_train['inconsistant'])\n",
    "    use_test['inconsistant'] = np.select(cri2, con, default = use_test['inconsistant'])"
   ]
  },
  {
   "cell_type": "code",
   "execution_count": 9,
   "id": "fad3bcfd",
   "metadata": {},
   "outputs": [],
   "source": [
    "train['inconsistant'] = use_train['inconsistant']"
   ]
  },
  {
   "cell_type": "code",
   "execution_count": 10,
   "id": "8bd366ad",
   "metadata": {},
   "outputs": [],
   "source": [
    "train_noin = train[train['inconsistant'] == 0]"
   ]
  },
  {
   "cell_type": "markdown",
   "id": "02fa7199",
   "metadata": {},
   "source": [
    "### 대체할 수 있는 변수 대체하기"
   ]
  },
  {
   "cell_type": "code",
   "execution_count": 14,
   "id": "a8fe9f81",
   "metadata": {
    "scrolled": true
   },
   "outputs": [
    {
     "name": "stderr",
     "output_type": "stream",
     "text": [
      "/tmp/ipykernel_9148/216370624.py:2: SettingWithCopyWarning: \n",
      "A value is trying to be set on a copy of a slice from a DataFrame.\n",
      "Try using .loc[row_indexer,col_indexer] = value instead\n",
      "\n",
      "See the caveats in the documentation: https://pandas.pydata.org/pandas-docs/stable/user_guide/indexing.html#returning-a-view-versus-a-copy\n",
      "  train_noin['cure_x_dist_dam'] = train_noin['CURE START POSITION X Collect Result_Dam'] - train_noin['CURE END POSITION X Collect Result_Dam']\n"
     ]
    }
   ],
   "source": [
    "# 경화 x 좌표 dam\n",
    "train_noin['cure_x_dist_dam'] = train_noin['CURE START POSITION X Collect Result_Dam'] - train_noin['CURE END POSITION X Collect Result_Dam']"
   ]
  },
  {
   "cell_type": "code",
   "execution_count": 15,
   "id": "16671d70",
   "metadata": {},
   "outputs": [
    {
     "name": "stderr",
     "output_type": "stream",
     "text": [
      "/tmp/ipykernel_9148/843056169.py:2: SettingWithCopyWarning: \n",
      "A value is trying to be set on a copy of a slice from a DataFrame.\n",
      "Try using .loc[row_indexer,col_indexer] = value instead\n",
      "\n",
      "See the caveats in the documentation: https://pandas.pydata.org/pandas-docs/stable/user_guide/indexing.html#returning-a-view-versus-a-copy\n",
      "  train_noin['cure_z_dist_dam'] = train_noin['CURE START POSITION Z Collect Result_Dam'] - train_noin['CURE END POSITION Z Collect Result_Dam']\n"
     ]
    }
   ],
   "source": [
    "# 경화 z좌표 dam\n",
    "train_noin['cure_z_dist_dam'] = train_noin['CURE START POSITION Z Collect Result_Dam'] - train_noin['CURE END POSITION Z Collect Result_Dam']"
   ]
  },
  {
   "cell_type": "code",
   "execution_count": 16,
   "id": "ae33f457",
   "metadata": {},
   "outputs": [
    {
     "name": "stderr",
     "output_type": "stream",
     "text": [
      "/tmp/ipykernel_9148/604669559.py:2: SettingWithCopyWarning: \n",
      "A value is trying to be set on a copy of a slice from a DataFrame.\n",
      "Try using .loc[row_indexer,col_indexer] = value instead\n",
      "\n",
      "See the caveats in the documentation: https://pandas.pydata.org/pandas-docs/stable/user_guide/indexing.html#returning-a-view-versus-a-copy\n",
      "  train_noin['cure_z_dist_fill2'] = train_noin['CURE START POSITION Z Collect Result_Fill2'] - train_noin['CURE END POSITION Z Collect Result_Fill2']\n"
     ]
    }
   ],
   "source": [
    "# 경화 z좌표 fill2\n",
    "train_noin['cure_z_dist_fill2'] = train_noin['CURE START POSITION Z Collect Result_Fill2'] - train_noin['CURE END POSITION Z Collect Result_Fill2']"
   ]
  },
  {
   "cell_type": "markdown",
   "id": "d048b07c",
   "metadata": {},
   "source": [
    "### 필요없는 칼럼 제거"
   ]
  },
  {
   "cell_type": "code",
   "execution_count": 27,
   "id": "01ea1fa5",
   "metadata": {},
   "outputs": [],
   "source": [
    "col = [\n",
    "    'CURE END POSITION X Collect Result_Dam',\n",
    "    'CURE END POSITION Z Collect Result_Dam',\n",
    "    'CURE END POSITION Θ Collect Result_Dam',\n",
    "    'CURE STANDBY POSITION X Collect Result_Dam',\n",
    "    'CURE STANDBY POSITION Z Collect Result_Dam',\n",
    "    'CURE STANDBY POSITION Θ Collect Result_Dam',\n",
    "    'CURE START POSITION X Collect Result_Dam',\n",
    "    'CURE START POSITION Z Collect Result_Dam',\n",
    "    'CURE START POSITION Θ Collect Result_Dam',\n",
    "    'CURE END POSITION X Collect Result_Fill2',\n",
    "    'CURE END POSITION Z Collect Result_Fill2',\n",
    "    'CURE END POSITION Θ Collect Result_Fill2',\n",
    "    'CURE STANDBY POSITION X Collect Result_Fill2',\n",
    "    'CURE STANDBY POSITION Z Collect Result_Fill2',\n",
    "    'CURE STANDBY POSITION Θ Collect Result_Fill2',\n",
    "    'CURE START POSITION X Collect Result_Fill2',\n",
    "    'CURE START POSITION Z Collect Result_Fill2',\n",
    "    'CURE START POSITION Θ Collect Result_Fill2',\n",
    "    'HEAD Standby Position X Collect Result_Dam',\n",
    "    'HEAD Standby Position Y Collect Result_Dam',\n",
    "    'HEAD Standby Position Z Collect Result_Dam',\n",
    "    'Head Clean Position X Collect Result_Dam',\n",
    "    'Head Clean Position Y Collect Result_Dam',\n",
    "    'Head Purge Position X Collect Result_Dam',\n",
    "    'Head Purge Position Y Collect Result_Dam',\n",
    "    'Head Zero Position X Collect Result_Dam',\n",
    "    'Wip Line_Dam',\n",
    "    'Process Desc._Dam',\n",
    "    'Insp. Seq No._Dam',\n",
    "    'Insp Judge Code_Dam',\n",
    "    'Wip Line_Fill1',\n",
    "    'Process Desc._Fill1',\n",
    "    'Insp. Seq No._Fill1',\n",
    "    'Insp Judge Code_Fill1',\n",
    "    'Wip Line_Fill2',\n",
    "    'Process Desc._Fill2',\n",
    "    'Insp. Seq No._Fill2',\n",
    "    'Insp Judge Code_Fill2',\n",
    "    'Wip Line_AutoClave',\n",
    "    'Process Desc._AutoClave',\n",
    "    'Insp. Seq No._AutoClave',\n",
    "    'Insp Judge Code_AutoClave',\n",
    "    'Equipment_AutoClave',\n",
    "    'Model.Suffix_AutoClave',\n",
    "    'Workorder_AutoClave',\n",
    "    'Equipment_Fill1',\n",
    "    'Model.Suffix_Fill1',\n",
    "    'Workorder_Fill1',\n",
    "    'Equipment_Fill2',\n",
    "    'Model.Suffix_Fill2',\n",
    "    'Workorder_Fill2',\n",
    "    '1st Pressure Judge Value_AutoClave',\n",
    "    '2nd Pressure Judge Value_AutoClave',\n",
    "    '3rd Pressure Judge Value_AutoClave',\n",
    "    'Chamber Temp. Judge Value_AutoClave',\n",
    "    'GMES_ORIGIN_INSP_JUDGE_CODE Collect Result_AutoClave',\n",
    "    'GMES_ORIGIN_INSP_JUDGE_CODE Unit Time_AutoClave',\n",
    "    'GMES_ORIGIN_INSP_JUDGE_CODE Judge Value_AutoClave',\n",
    "    'HEAD Standby Position X Collect Result_Fill1',\n",
    "    'HEAD Standby Position Y Collect Result_Fill1',\n",
    "    'HEAD Standby Position Z Collect Result_Fill1',\n",
    "    'Head Clean Position X Collect Result_Fill1',\n",
    "    'Head Clean Position Y Collect Result_Fill1',\n",
    "    'Head Clean Position Z Collect Result_Fill1',\n",
    "    'Head Purge Position X Collect Result_Fill1',\n",
    "    'Head Purge Position Y Collect Result_Fill1',\n",
    "    'Machine Tact time Collect Result_Fill1',\n",
    "    'PalletID Collect Result_Fill1',\n",
    "    'Production Qty Collect Result_Fill1',\n",
    "    'Receip No Collect Result_Fill1',\n",
    "    'DISCHARGED SPEED OF RESIN Collect Result_Fill2',\n",
    "    'DISCHARGED TIME OF RESIN(Stage1) Collect Result_Fill2',\n",
    "    'DISCHARGED TIME OF RESIN(Stage2) Collect Result_Fill2',\n",
    "    'DISCHARGED TIME OF RESIN(Stage3) Collect Result_Fill2',\n",
    "    'Dispense Volume(Stage1) Collect Result_Fill2',\n",
    "    'Dispense Volume(Stage2) Collect Result_Fill2',\n",
    "    'Dispense Volume(Stage3) Collect Result_Fill2',\n",
    "    'HEAD NORMAL COORDINATE X AXIS(Stage1) Collect Result_Fill2',\n",
    "    'HEAD NORMAL COORDINATE X AXIS(Stage2) Collect Result_Fill2',\n",
    "    'HEAD NORMAL COORDINATE X AXIS(Stage3) Collect Result_Fill2',\n",
    "    'HEAD NORMAL COORDINATE Y AXIS(Stage1) Collect Result_Fill2',\n",
    "    'HEAD NORMAL COORDINATE Y AXIS(Stage2) Collect Result_Fill2',\n",
    "    'HEAD NORMAL COORDINATE Y AXIS(Stage3) Collect Result_Fill2',\n",
    "    'HEAD NORMAL COORDINATE Z AXIS(Stage1) Collect Result_Fill2',\n",
    "    'HEAD NORMAL COORDINATE Z AXIS(Stage2) Collect Result_Fill2',\n",
    "    'HEAD NORMAL COORDINATE Z AXIS(Stage3) Collect Result_Fill2',\n",
    "    'HEAD Standby Position X Collect Result_Fill2',\n",
    "    'HEAD Standby Position Y Collect Result_Fill2',\n",
    "    'HEAD Standby Position Z Collect Result_Fill2',\n",
    "    'Head Clean Position X Collect Result_Fill2',\n",
    "    'Head Clean Position Y Collect Result_Fill2',\n",
    "    'Head Clean Position Z Collect Result_Fill2',\n",
    "    'Head Purge Position X Collect Result_Fill2',\n",
    "    'Head Purge Position Y Collect Result_Fill2',\n",
    "    'Head Purge Position Z Collect Result_Fill2',\n",
    "    'Machine Tact time Collect Result_Fill2',\n",
    "    'PalletID Collect Result_Fill2',\n",
    "    'Production Qty Collect Result_Fill2',\n",
    "    'Receip No Collect Result_Fill2',\n",
    "    \n",
    "    ###################### 사용할 것이지만 k-means에서만 뺄 변수\n",
    "    'Equipment_Dam', 'Model.Suffix_Dam', 'Workorder_Dam', \n",
    "    '1st Pressure Collect Result_AutoClave',\n",
    "    '1st Pressure 1st Pressure Unit Time_AutoClave',\n",
    "    '2nd Pressure Collect Result_AutoClave',\n",
    "    '2nd Pressure Unit Time_AutoClave',\n",
    "    '3rd Pressure Collect Result_AutoClave',\n",
    "    '3rd Pressure Unit Time_AutoClave',\n",
    "    'Chamber Temp. Collect Result_AutoClave',\n",
    "    'Chamber Temp. Unit Time_AutoClave', 'target'\n",
    "]\n",
    "use_train = train_noin.drop(col, axis = 1)"
   ]
  },
  {
   "cell_type": "code",
   "execution_count": 28,
   "id": "0fc5333a",
   "metadata": {},
   "outputs": [
    {
     "data": {
      "text/html": [
       "<div>\n",
       "<style scoped>\n",
       "    .dataframe tbody tr th:only-of-type {\n",
       "        vertical-align: middle;\n",
       "    }\n",
       "\n",
       "    .dataframe tbody tr th {\n",
       "        vertical-align: top;\n",
       "    }\n",
       "\n",
       "    .dataframe thead th {\n",
       "        text-align: right;\n",
       "    }\n",
       "</style>\n",
       "<table border=\"1\" class=\"dataframe\">\n",
       "  <thead>\n",
       "    <tr style=\"text-align: right;\">\n",
       "      <th></th>\n",
       "      <th>CURE SPEED Collect Result_Dam</th>\n",
       "      <th>DISCHARGED SPEED OF RESIN Collect Result_Dam</th>\n",
       "      <th>DISCHARGED TIME OF RESIN(Stage1) Collect Result_Dam</th>\n",
       "      <th>DISCHARGED TIME OF RESIN(Stage2) Collect Result_Dam</th>\n",
       "      <th>DISCHARGED TIME OF RESIN(Stage3) Collect Result_Dam</th>\n",
       "      <th>Dispense Volume(Stage1) Collect Result_Dam</th>\n",
       "      <th>Dispense Volume(Stage2) Collect Result_Dam</th>\n",
       "      <th>Dispense Volume(Stage3) Collect Result_Dam</th>\n",
       "      <th>HEAD NORMAL COORDINATE X AXIS(Stage1) Collect Result_Dam</th>\n",
       "      <th>HEAD NORMAL COORDINATE X AXIS(Stage2) Collect Result_Dam</th>\n",
       "      <th>...</th>\n",
       "      <th>HEAD NORMAL COORDINATE Y AXIS(Stage3) Collect Result_Fill1</th>\n",
       "      <th>HEAD NORMAL COORDINATE Z AXIS(Stage1) Collect Result_Fill1</th>\n",
       "      <th>HEAD NORMAL COORDINATE Z AXIS(Stage2) Collect Result_Fill1</th>\n",
       "      <th>HEAD NORMAL COORDINATE Z AXIS(Stage3) Collect Result_Fill1</th>\n",
       "      <th>Head Purge Position Z Collect Result_Fill1</th>\n",
       "      <th>CURE SPEED Collect Result_Fill2</th>\n",
       "      <th>inconsistant</th>\n",
       "      <th>cure_z_dist_dam</th>\n",
       "      <th>cure_x_dist_dam</th>\n",
       "      <th>cure_z_dist_fill2</th>\n",
       "    </tr>\n",
       "  </thead>\n",
       "  <tbody>\n",
       "    <tr>\n",
       "      <th>0</th>\n",
       "      <td>100</td>\n",
       "      <td>16</td>\n",
       "      <td>14.9</td>\n",
       "      <td>8.4</td>\n",
       "      <td>14.7</td>\n",
       "      <td>1.04</td>\n",
       "      <td>0.58</td>\n",
       "      <td>1.02</td>\n",
       "      <td>551.544724</td>\n",
       "      <td>464.3</td>\n",
       "      <td>...</td>\n",
       "      <td>430.300000</td>\n",
       "      <td>244.520</td>\n",
       "      <td>244.520</td>\n",
       "      <td>244.520</td>\n",
       "      <td>128</td>\n",
       "      <td>48</td>\n",
       "      <td>0</td>\n",
       "      <td>31.0</td>\n",
       "      <td>790.0</td>\n",
       "      <td>0</td>\n",
       "    </tr>\n",
       "    <tr>\n",
       "      <th>1</th>\n",
       "      <td>70</td>\n",
       "      <td>10</td>\n",
       "      <td>21.3</td>\n",
       "      <td>4.9</td>\n",
       "      <td>21.3</td>\n",
       "      <td>1.49</td>\n",
       "      <td>0.34</td>\n",
       "      <td>1.49</td>\n",
       "      <td>551.344724</td>\n",
       "      <td>463.8</td>\n",
       "      <td>...</td>\n",
       "      <td>430.800000</td>\n",
       "      <td>244.400</td>\n",
       "      <td>244.400</td>\n",
       "      <td>244.400</td>\n",
       "      <td>145</td>\n",
       "      <td>50</td>\n",
       "      <td>0</td>\n",
       "      <td>31.0</td>\n",
       "      <td>790.0</td>\n",
       "      <td>0</td>\n",
       "    </tr>\n",
       "    <tr>\n",
       "      <th>2</th>\n",
       "      <td>85</td>\n",
       "      <td>16</td>\n",
       "      <td>14.7</td>\n",
       "      <td>8.5</td>\n",
       "      <td>14.7</td>\n",
       "      <td>1.61</td>\n",
       "      <td>0.93</td>\n",
       "      <td>1.61</td>\n",
       "      <td>550.655276</td>\n",
       "      <td>465.4</td>\n",
       "      <td>...</td>\n",
       "      <td>430.821345</td>\n",
       "      <td>244.415</td>\n",
       "      <td>244.415</td>\n",
       "      <td>244.415</td>\n",
       "      <td>128</td>\n",
       "      <td>50</td>\n",
       "      <td>0</td>\n",
       "      <td>21.0</td>\n",
       "      <td>-720.0</td>\n",
       "      <td>0</td>\n",
       "    </tr>\n",
       "    <tr>\n",
       "      <th>3</th>\n",
       "      <td>70</td>\n",
       "      <td>10</td>\n",
       "      <td>21.3</td>\n",
       "      <td>8.4</td>\n",
       "      <td>21.3</td>\n",
       "      <td>1.49</td>\n",
       "      <td>0.58</td>\n",
       "      <td>1.49</td>\n",
       "      <td>550.955276</td>\n",
       "      <td>465.5</td>\n",
       "      <td>...</td>\n",
       "      <td>431.121345</td>\n",
       "      <td>244.300</td>\n",
       "      <td>244.300</td>\n",
       "      <td>244.300</td>\n",
       "      <td>145</td>\n",
       "      <td>50</td>\n",
       "      <td>0</td>\n",
       "      <td>21.0</td>\n",
       "      <td>-720.0</td>\n",
       "      <td>0</td>\n",
       "    </tr>\n",
       "    <tr>\n",
       "      <th>4</th>\n",
       "      <td>70</td>\n",
       "      <td>10</td>\n",
       "      <td>9.7</td>\n",
       "      <td>4.9</td>\n",
       "      <td>9.6</td>\n",
       "      <td>0.67</td>\n",
       "      <td>0.34</td>\n",
       "      <td>0.67</td>\n",
       "      <td>550.044724</td>\n",
       "      <td>462.5</td>\n",
       "      <td>...</td>\n",
       "      <td>430.500000</td>\n",
       "      <td>244.400</td>\n",
       "      <td>244.400</td>\n",
       "      <td>244.400</td>\n",
       "      <td>85</td>\n",
       "      <td>50</td>\n",
       "      <td>0</td>\n",
       "      <td>31.0</td>\n",
       "      <td>790.0</td>\n",
       "      <td>1</td>\n",
       "    </tr>\n",
       "    <tr>\n",
       "      <th>...</th>\n",
       "      <td>...</td>\n",
       "      <td>...</td>\n",
       "      <td>...</td>\n",
       "      <td>...</td>\n",
       "      <td>...</td>\n",
       "      <td>...</td>\n",
       "      <td>...</td>\n",
       "      <td>...</td>\n",
       "      <td>...</td>\n",
       "      <td>...</td>\n",
       "      <td>...</td>\n",
       "      <td>...</td>\n",
       "      <td>...</td>\n",
       "      <td>...</td>\n",
       "      <td>...</td>\n",
       "      <td>...</td>\n",
       "      <td>...</td>\n",
       "      <td>...</td>\n",
       "      <td>...</td>\n",
       "      <td>...</td>\n",
       "      <td>...</td>\n",
       "    </tr>\n",
       "    <tr>\n",
       "      <th>40501</th>\n",
       "      <td>70</td>\n",
       "      <td>10</td>\n",
       "      <td>17.0</td>\n",
       "      <td>5.0</td>\n",
       "      <td>17.0</td>\n",
       "      <td>1.19</td>\n",
       "      <td>0.35</td>\n",
       "      <td>1.19</td>\n",
       "      <td>551.344724</td>\n",
       "      <td>463.8</td>\n",
       "      <td>...</td>\n",
       "      <td>430.800000</td>\n",
       "      <td>244.400</td>\n",
       "      <td>244.400</td>\n",
       "      <td>244.400</td>\n",
       "      <td>145</td>\n",
       "      <td>50</td>\n",
       "      <td>0</td>\n",
       "      <td>31.0</td>\n",
       "      <td>790.0</td>\n",
       "      <td>0</td>\n",
       "    </tr>\n",
       "    <tr>\n",
       "      <th>40502</th>\n",
       "      <td>100</td>\n",
       "      <td>16</td>\n",
       "      <td>14.7</td>\n",
       "      <td>8.5</td>\n",
       "      <td>14.9</td>\n",
       "      <td>1.02</td>\n",
       "      <td>0.59</td>\n",
       "      <td>1.04</td>\n",
       "      <td>552.055276</td>\n",
       "      <td>466.2</td>\n",
       "      <td>...</td>\n",
       "      <td>429.621345</td>\n",
       "      <td>244.535</td>\n",
       "      <td>244.535</td>\n",
       "      <td>244.535</td>\n",
       "      <td>128</td>\n",
       "      <td>48</td>\n",
       "      <td>0</td>\n",
       "      <td>21.0</td>\n",
       "      <td>-720.0</td>\n",
       "      <td>0</td>\n",
       "    </tr>\n",
       "    <tr>\n",
       "      <th>40503</th>\n",
       "      <td>100</td>\n",
       "      <td>16</td>\n",
       "      <td>14.2</td>\n",
       "      <td>8.2</td>\n",
       "      <td>14.3</td>\n",
       "      <td>0.99</td>\n",
       "      <td>0.57</td>\n",
       "      <td>1.00</td>\n",
       "      <td>551.644724</td>\n",
       "      <td>463.9</td>\n",
       "      <td>...</td>\n",
       "      <td>431.100000</td>\n",
       "      <td>244.543</td>\n",
       "      <td>244.543</td>\n",
       "      <td>244.543</td>\n",
       "      <td>128</td>\n",
       "      <td>50</td>\n",
       "      <td>0</td>\n",
       "      <td>31.0</td>\n",
       "      <td>790.0</td>\n",
       "      <td>0</td>\n",
       "    </tr>\n",
       "    <tr>\n",
       "      <th>40504</th>\n",
       "      <td>70</td>\n",
       "      <td>10</td>\n",
       "      <td>9.7</td>\n",
       "      <td>4.9</td>\n",
       "      <td>9.7</td>\n",
       "      <td>0.67</td>\n",
       "      <td>0.34</td>\n",
       "      <td>0.67</td>\n",
       "      <td>550.255276</td>\n",
       "      <td>465.1</td>\n",
       "      <td>...</td>\n",
       "      <td>431.121345</td>\n",
       "      <td>244.400</td>\n",
       "      <td>244.400</td>\n",
       "      <td>244.400</td>\n",
       "      <td>145</td>\n",
       "      <td>50</td>\n",
       "      <td>0</td>\n",
       "      <td>21.0</td>\n",
       "      <td>-720.0</td>\n",
       "      <td>0</td>\n",
       "    </tr>\n",
       "    <tr>\n",
       "      <th>40505</th>\n",
       "      <td>70</td>\n",
       "      <td>10</td>\n",
       "      <td>9.6</td>\n",
       "      <td>3.9</td>\n",
       "      <td>9.7</td>\n",
       "      <td>0.67</td>\n",
       "      <td>0.27</td>\n",
       "      <td>0.67</td>\n",
       "      <td>550.044724</td>\n",
       "      <td>463.0</td>\n",
       "      <td>...</td>\n",
       "      <td>430.500000</td>\n",
       "      <td>244.300</td>\n",
       "      <td>244.300</td>\n",
       "      <td>244.300</td>\n",
       "      <td>85</td>\n",
       "      <td>50</td>\n",
       "      <td>0</td>\n",
       "      <td>31.0</td>\n",
       "      <td>790.0</td>\n",
       "      <td>0</td>\n",
       "    </tr>\n",
       "  </tbody>\n",
       "</table>\n",
       "<p>40412 rows × 74 columns</p>\n",
       "</div>"
      ],
      "text/plain": [
       "       CURE SPEED Collect Result_Dam  \\\n",
       "0                                100   \n",
       "1                                 70   \n",
       "2                                 85   \n",
       "3                                 70   \n",
       "4                                 70   \n",
       "...                              ...   \n",
       "40501                             70   \n",
       "40502                            100   \n",
       "40503                            100   \n",
       "40504                             70   \n",
       "40505                             70   \n",
       "\n",
       "       DISCHARGED SPEED OF RESIN Collect Result_Dam  \\\n",
       "0                                                16   \n",
       "1                                                10   \n",
       "2                                                16   \n",
       "3                                                10   \n",
       "4                                                10   \n",
       "...                                             ...   \n",
       "40501                                            10   \n",
       "40502                                            16   \n",
       "40503                                            16   \n",
       "40504                                            10   \n",
       "40505                                            10   \n",
       "\n",
       "       DISCHARGED TIME OF RESIN(Stage1) Collect Result_Dam  \\\n",
       "0                                                   14.9     \n",
       "1                                                   21.3     \n",
       "2                                                   14.7     \n",
       "3                                                   21.3     \n",
       "4                                                    9.7     \n",
       "...                                                  ...     \n",
       "40501                                               17.0     \n",
       "40502                                               14.7     \n",
       "40503                                               14.2     \n",
       "40504                                                9.7     \n",
       "40505                                                9.6     \n",
       "\n",
       "       DISCHARGED TIME OF RESIN(Stage2) Collect Result_Dam  \\\n",
       "0                                                    8.4     \n",
       "1                                                    4.9     \n",
       "2                                                    8.5     \n",
       "3                                                    8.4     \n",
       "4                                                    4.9     \n",
       "...                                                  ...     \n",
       "40501                                                5.0     \n",
       "40502                                                8.5     \n",
       "40503                                                8.2     \n",
       "40504                                                4.9     \n",
       "40505                                                3.9     \n",
       "\n",
       "       DISCHARGED TIME OF RESIN(Stage3) Collect Result_Dam  \\\n",
       "0                                                   14.7     \n",
       "1                                                   21.3     \n",
       "2                                                   14.7     \n",
       "3                                                   21.3     \n",
       "4                                                    9.6     \n",
       "...                                                  ...     \n",
       "40501                                               17.0     \n",
       "40502                                               14.9     \n",
       "40503                                               14.3     \n",
       "40504                                                9.7     \n",
       "40505                                                9.7     \n",
       "\n",
       "       Dispense Volume(Stage1) Collect Result_Dam  \\\n",
       "0                                            1.04   \n",
       "1                                            1.49   \n",
       "2                                            1.61   \n",
       "3                                            1.49   \n",
       "4                                            0.67   \n",
       "...                                           ...   \n",
       "40501                                        1.19   \n",
       "40502                                        1.02   \n",
       "40503                                        0.99   \n",
       "40504                                        0.67   \n",
       "40505                                        0.67   \n",
       "\n",
       "       Dispense Volume(Stage2) Collect Result_Dam  \\\n",
       "0                                            0.58   \n",
       "1                                            0.34   \n",
       "2                                            0.93   \n",
       "3                                            0.58   \n",
       "4                                            0.34   \n",
       "...                                           ...   \n",
       "40501                                        0.35   \n",
       "40502                                        0.59   \n",
       "40503                                        0.57   \n",
       "40504                                        0.34   \n",
       "40505                                        0.27   \n",
       "\n",
       "       Dispense Volume(Stage3) Collect Result_Dam  \\\n",
       "0                                            1.02   \n",
       "1                                            1.49   \n",
       "2                                            1.61   \n",
       "3                                            1.49   \n",
       "4                                            0.67   \n",
       "...                                           ...   \n",
       "40501                                        1.19   \n",
       "40502                                        1.04   \n",
       "40503                                        1.00   \n",
       "40504                                        0.67   \n",
       "40505                                        0.67   \n",
       "\n",
       "       HEAD NORMAL COORDINATE X AXIS(Stage1) Collect Result_Dam  \\\n",
       "0                                             551.544724          \n",
       "1                                             551.344724          \n",
       "2                                             550.655276          \n",
       "3                                             550.955276          \n",
       "4                                             550.044724          \n",
       "...                                                  ...          \n",
       "40501                                         551.344724          \n",
       "40502                                         552.055276          \n",
       "40503                                         551.644724          \n",
       "40504                                         550.255276          \n",
       "40505                                         550.044724          \n",
       "\n",
       "       HEAD NORMAL COORDINATE X AXIS(Stage2) Collect Result_Dam  ...  \\\n",
       "0                                                  464.3         ...   \n",
       "1                                                  463.8         ...   \n",
       "2                                                  465.4         ...   \n",
       "3                                                  465.5         ...   \n",
       "4                                                  462.5         ...   \n",
       "...                                                  ...         ...   \n",
       "40501                                              463.8         ...   \n",
       "40502                                              466.2         ...   \n",
       "40503                                              463.9         ...   \n",
       "40504                                              465.1         ...   \n",
       "40505                                              463.0         ...   \n",
       "\n",
       "       HEAD NORMAL COORDINATE Y AXIS(Stage3) Collect Result_Fill1  \\\n",
       "0                                             430.300000            \n",
       "1                                             430.800000            \n",
       "2                                             430.821345            \n",
       "3                                             431.121345            \n",
       "4                                             430.500000            \n",
       "...                                                  ...            \n",
       "40501                                         430.800000            \n",
       "40502                                         429.621345            \n",
       "40503                                         431.100000            \n",
       "40504                                         431.121345            \n",
       "40505                                         430.500000            \n",
       "\n",
       "       HEAD NORMAL COORDINATE Z AXIS(Stage1) Collect Result_Fill1  \\\n",
       "0                                                244.520            \n",
       "1                                                244.400            \n",
       "2                                                244.415            \n",
       "3                                                244.300            \n",
       "4                                                244.400            \n",
       "...                                                  ...            \n",
       "40501                                            244.400            \n",
       "40502                                            244.535            \n",
       "40503                                            244.543            \n",
       "40504                                            244.400            \n",
       "40505                                            244.300            \n",
       "\n",
       "       HEAD NORMAL COORDINATE Z AXIS(Stage2) Collect Result_Fill1  \\\n",
       "0                                                244.520            \n",
       "1                                                244.400            \n",
       "2                                                244.415            \n",
       "3                                                244.300            \n",
       "4                                                244.400            \n",
       "...                                                  ...            \n",
       "40501                                            244.400            \n",
       "40502                                            244.535            \n",
       "40503                                            244.543            \n",
       "40504                                            244.400            \n",
       "40505                                            244.300            \n",
       "\n",
       "       HEAD NORMAL COORDINATE Z AXIS(Stage3) Collect Result_Fill1  \\\n",
       "0                                                244.520            \n",
       "1                                                244.400            \n",
       "2                                                244.415            \n",
       "3                                                244.300            \n",
       "4                                                244.400            \n",
       "...                                                  ...            \n",
       "40501                                            244.400            \n",
       "40502                                            244.535            \n",
       "40503                                            244.543            \n",
       "40504                                            244.400            \n",
       "40505                                            244.300            \n",
       "\n",
       "       Head Purge Position Z Collect Result_Fill1  \\\n",
       "0                                             128   \n",
       "1                                             145   \n",
       "2                                             128   \n",
       "3                                             145   \n",
       "4                                              85   \n",
       "...                                           ...   \n",
       "40501                                         145   \n",
       "40502                                         128   \n",
       "40503                                         128   \n",
       "40504                                         145   \n",
       "40505                                          85   \n",
       "\n",
       "       CURE SPEED Collect Result_Fill2  inconsistant  cure_z_dist_dam  \\\n",
       "0                                   48             0             31.0   \n",
       "1                                   50             0             31.0   \n",
       "2                                   50             0             21.0   \n",
       "3                                   50             0             21.0   \n",
       "4                                   50             0             31.0   \n",
       "...                                ...           ...              ...   \n",
       "40501                               50             0             31.0   \n",
       "40502                               48             0             21.0   \n",
       "40503                               50             0             31.0   \n",
       "40504                               50             0             21.0   \n",
       "40505                               50             0             31.0   \n",
       "\n",
       "       cure_x_dist_dam  cure_z_dist_fill2  \n",
       "0                790.0                  0  \n",
       "1                790.0                  0  \n",
       "2               -720.0                  0  \n",
       "3               -720.0                  0  \n",
       "4                790.0                  1  \n",
       "...                ...                ...  \n",
       "40501            790.0                  0  \n",
       "40502           -720.0                  0  \n",
       "40503            790.0                  0  \n",
       "40504           -720.0                  0  \n",
       "40505            790.0                  0  \n",
       "\n",
       "[40412 rows x 74 columns]"
      ]
     },
     "execution_count": 28,
     "metadata": {},
     "output_type": "execute_result"
    }
   ],
   "source": [
    "use_train"
   ]
  },
  {
   "cell_type": "code",
   "execution_count": 37,
   "id": "ffa16fa2",
   "metadata": {},
   "outputs": [
    {
     "name": "stdout",
     "output_type": "stream",
     "text": [
      "[3510811013594.913, 1210379886222.103, 712067258526.7524, 285121954469.3837, 122576378838.90587, 71268610180.14381, 64744244105.45285, 49172651373.12255, 36412646136.063866, 31846941028.84439]\n"
     ]
    }
   ],
   "source": [
    "# Inertia 값을 저장할 리스트 초기화\n",
    "inertia = []\n",
    "\n",
    "# 1부터 10까지의 k 값에 대해 KMeans 클러스터링 수행 및 inertia 계산\n",
    "for k in range(1, 11):\n",
    "    ad_kmeans = KMeans(\n",
    "        n_clusters=k,    # 클러스터 수 설정\n",
    "        init=\"random\",   # 초기 중심점을 무작위로 선택\n",
    "        n_init=\"auto\",    # k-means 알고리즘 반복 실행 횟수 설정\n",
    "        random_state=42\n",
    "    ).fit(use_train)       # 데이터 적용\n",
    "\n",
    "    # 각 k에 대한 Inertia 값 계산 및 추가\n",
    "    inertia.append(ad_kmeans.inertia_)\n",
    "\n",
    "# Inertia 값 출력\n",
    "print(inertia)"
   ]
  },
  {
   "cell_type": "code",
   "execution_count": 38,
   "id": "7c659c28",
   "metadata": {},
   "outputs": [
    {
     "data": {
      "application/vnd.plotly.v1+json": {
       "config": {
        "plotlyServerURL": "https://plot.ly"
       },
       "data": [
        {
         "hovertemplate": "k=%{x}<br>inertia=%{y}<extra></extra>",
         "legendgroup": "",
         "line": {
          "color": "#636efa",
          "dash": "solid"
         },
         "marker": {
          "symbol": "circle"
         },
         "mode": "lines",
         "name": "",
         "orientation": "v",
         "showlegend": false,
         "type": "scatter",
         "x": [
          1,
          2,
          3,
          4,
          5,
          6,
          7,
          8,
          9,
          10
         ],
         "xaxis": "x",
         "y": [
          3510811013594.913,
          1210379886222.103,
          712067258526.7524,
          285121954469.3837,
          122576378838.90587,
          71268610180.14381,
          64744244105.45285,
          49172651373.12255,
          36412646136.063866,
          31846941028.84439
         ],
         "yaxis": "y"
        }
       ],
       "layout": {
        "legend": {
         "tracegroupgap": 0
        },
        "margin": {
         "t": 60
        },
        "plot_bgcolor": "#ffffff",
        "template": {
         "data": {
          "bar": [
           {
            "error_x": {
             "color": "#2a3f5f"
            },
            "error_y": {
             "color": "#2a3f5f"
            },
            "marker": {
             "line": {
              "color": "#E5ECF6",
              "width": 0.5
             },
             "pattern": {
              "fillmode": "overlay",
              "size": 10,
              "solidity": 0.2
             }
            },
            "type": "bar"
           }
          ],
          "barpolar": [
           {
            "marker": {
             "line": {
              "color": "#E5ECF6",
              "width": 0.5
             },
             "pattern": {
              "fillmode": "overlay",
              "size": 10,
              "solidity": 0.2
             }
            },
            "type": "barpolar"
           }
          ],
          "carpet": [
           {
            "aaxis": {
             "endlinecolor": "#2a3f5f",
             "gridcolor": "white",
             "linecolor": "white",
             "minorgridcolor": "white",
             "startlinecolor": "#2a3f5f"
            },
            "baxis": {
             "endlinecolor": "#2a3f5f",
             "gridcolor": "white",
             "linecolor": "white",
             "minorgridcolor": "white",
             "startlinecolor": "#2a3f5f"
            },
            "type": "carpet"
           }
          ],
          "choropleth": [
           {
            "colorbar": {
             "outlinewidth": 0,
             "ticks": ""
            },
            "type": "choropleth"
           }
          ],
          "contour": [
           {
            "colorbar": {
             "outlinewidth": 0,
             "ticks": ""
            },
            "colorscale": [
             [
              0,
              "#0d0887"
             ],
             [
              0.1111111111111111,
              "#46039f"
             ],
             [
              0.2222222222222222,
              "#7201a8"
             ],
             [
              0.3333333333333333,
              "#9c179e"
             ],
             [
              0.4444444444444444,
              "#bd3786"
             ],
             [
              0.5555555555555556,
              "#d8576b"
             ],
             [
              0.6666666666666666,
              "#ed7953"
             ],
             [
              0.7777777777777778,
              "#fb9f3a"
             ],
             [
              0.8888888888888888,
              "#fdca26"
             ],
             [
              1,
              "#f0f921"
             ]
            ],
            "type": "contour"
           }
          ],
          "contourcarpet": [
           {
            "colorbar": {
             "outlinewidth": 0,
             "ticks": ""
            },
            "type": "contourcarpet"
           }
          ],
          "heatmap": [
           {
            "colorbar": {
             "outlinewidth": 0,
             "ticks": ""
            },
            "colorscale": [
             [
              0,
              "#0d0887"
             ],
             [
              0.1111111111111111,
              "#46039f"
             ],
             [
              0.2222222222222222,
              "#7201a8"
             ],
             [
              0.3333333333333333,
              "#9c179e"
             ],
             [
              0.4444444444444444,
              "#bd3786"
             ],
             [
              0.5555555555555556,
              "#d8576b"
             ],
             [
              0.6666666666666666,
              "#ed7953"
             ],
             [
              0.7777777777777778,
              "#fb9f3a"
             ],
             [
              0.8888888888888888,
              "#fdca26"
             ],
             [
              1,
              "#f0f921"
             ]
            ],
            "type": "heatmap"
           }
          ],
          "heatmapgl": [
           {
            "colorbar": {
             "outlinewidth": 0,
             "ticks": ""
            },
            "colorscale": [
             [
              0,
              "#0d0887"
             ],
             [
              0.1111111111111111,
              "#46039f"
             ],
             [
              0.2222222222222222,
              "#7201a8"
             ],
             [
              0.3333333333333333,
              "#9c179e"
             ],
             [
              0.4444444444444444,
              "#bd3786"
             ],
             [
              0.5555555555555556,
              "#d8576b"
             ],
             [
              0.6666666666666666,
              "#ed7953"
             ],
             [
              0.7777777777777778,
              "#fb9f3a"
             ],
             [
              0.8888888888888888,
              "#fdca26"
             ],
             [
              1,
              "#f0f921"
             ]
            ],
            "type": "heatmapgl"
           }
          ],
          "histogram": [
           {
            "marker": {
             "pattern": {
              "fillmode": "overlay",
              "size": 10,
              "solidity": 0.2
             }
            },
            "type": "histogram"
           }
          ],
          "histogram2d": [
           {
            "colorbar": {
             "outlinewidth": 0,
             "ticks": ""
            },
            "colorscale": [
             [
              0,
              "#0d0887"
             ],
             [
              0.1111111111111111,
              "#46039f"
             ],
             [
              0.2222222222222222,
              "#7201a8"
             ],
             [
              0.3333333333333333,
              "#9c179e"
             ],
             [
              0.4444444444444444,
              "#bd3786"
             ],
             [
              0.5555555555555556,
              "#d8576b"
             ],
             [
              0.6666666666666666,
              "#ed7953"
             ],
             [
              0.7777777777777778,
              "#fb9f3a"
             ],
             [
              0.8888888888888888,
              "#fdca26"
             ],
             [
              1,
              "#f0f921"
             ]
            ],
            "type": "histogram2d"
           }
          ],
          "histogram2dcontour": [
           {
            "colorbar": {
             "outlinewidth": 0,
             "ticks": ""
            },
            "colorscale": [
             [
              0,
              "#0d0887"
             ],
             [
              0.1111111111111111,
              "#46039f"
             ],
             [
              0.2222222222222222,
              "#7201a8"
             ],
             [
              0.3333333333333333,
              "#9c179e"
             ],
             [
              0.4444444444444444,
              "#bd3786"
             ],
             [
              0.5555555555555556,
              "#d8576b"
             ],
             [
              0.6666666666666666,
              "#ed7953"
             ],
             [
              0.7777777777777778,
              "#fb9f3a"
             ],
             [
              0.8888888888888888,
              "#fdca26"
             ],
             [
              1,
              "#f0f921"
             ]
            ],
            "type": "histogram2dcontour"
           }
          ],
          "mesh3d": [
           {
            "colorbar": {
             "outlinewidth": 0,
             "ticks": ""
            },
            "type": "mesh3d"
           }
          ],
          "parcoords": [
           {
            "line": {
             "colorbar": {
              "outlinewidth": 0,
              "ticks": ""
             }
            },
            "type": "parcoords"
           }
          ],
          "pie": [
           {
            "automargin": true,
            "type": "pie"
           }
          ],
          "scatter": [
           {
            "fillpattern": {
             "fillmode": "overlay",
             "size": 10,
             "solidity": 0.2
            },
            "type": "scatter"
           }
          ],
          "scatter3d": [
           {
            "line": {
             "colorbar": {
              "outlinewidth": 0,
              "ticks": ""
             }
            },
            "marker": {
             "colorbar": {
              "outlinewidth": 0,
              "ticks": ""
             }
            },
            "type": "scatter3d"
           }
          ],
          "scattercarpet": [
           {
            "marker": {
             "colorbar": {
              "outlinewidth": 0,
              "ticks": ""
             }
            },
            "type": "scattercarpet"
           }
          ],
          "scattergeo": [
           {
            "marker": {
             "colorbar": {
              "outlinewidth": 0,
              "ticks": ""
             }
            },
            "type": "scattergeo"
           }
          ],
          "scattergl": [
           {
            "marker": {
             "colorbar": {
              "outlinewidth": 0,
              "ticks": ""
             }
            },
            "type": "scattergl"
           }
          ],
          "scattermapbox": [
           {
            "marker": {
             "colorbar": {
              "outlinewidth": 0,
              "ticks": ""
             }
            },
            "type": "scattermapbox"
           }
          ],
          "scatterpolar": [
           {
            "marker": {
             "colorbar": {
              "outlinewidth": 0,
              "ticks": ""
             }
            },
            "type": "scatterpolar"
           }
          ],
          "scatterpolargl": [
           {
            "marker": {
             "colorbar": {
              "outlinewidth": 0,
              "ticks": ""
             }
            },
            "type": "scatterpolargl"
           }
          ],
          "scatterternary": [
           {
            "marker": {
             "colorbar": {
              "outlinewidth": 0,
              "ticks": ""
             }
            },
            "type": "scatterternary"
           }
          ],
          "surface": [
           {
            "colorbar": {
             "outlinewidth": 0,
             "ticks": ""
            },
            "colorscale": [
             [
              0,
              "#0d0887"
             ],
             [
              0.1111111111111111,
              "#46039f"
             ],
             [
              0.2222222222222222,
              "#7201a8"
             ],
             [
              0.3333333333333333,
              "#9c179e"
             ],
             [
              0.4444444444444444,
              "#bd3786"
             ],
             [
              0.5555555555555556,
              "#d8576b"
             ],
             [
              0.6666666666666666,
              "#ed7953"
             ],
             [
              0.7777777777777778,
              "#fb9f3a"
             ],
             [
              0.8888888888888888,
              "#fdca26"
             ],
             [
              1,
              "#f0f921"
             ]
            ],
            "type": "surface"
           }
          ],
          "table": [
           {
            "cells": {
             "fill": {
              "color": "#EBF0F8"
             },
             "line": {
              "color": "white"
             }
            },
            "header": {
             "fill": {
              "color": "#C8D4E3"
             },
             "line": {
              "color": "white"
             }
            },
            "type": "table"
           }
          ]
         },
         "layout": {
          "annotationdefaults": {
           "arrowcolor": "#2a3f5f",
           "arrowhead": 0,
           "arrowwidth": 1
          },
          "autotypenumbers": "strict",
          "coloraxis": {
           "colorbar": {
            "outlinewidth": 0,
            "ticks": ""
           }
          },
          "colorscale": {
           "diverging": [
            [
             0,
             "#8e0152"
            ],
            [
             0.1,
             "#c51b7d"
            ],
            [
             0.2,
             "#de77ae"
            ],
            [
             0.3,
             "#f1b6da"
            ],
            [
             0.4,
             "#fde0ef"
            ],
            [
             0.5,
             "#f7f7f7"
            ],
            [
             0.6,
             "#e6f5d0"
            ],
            [
             0.7,
             "#b8e186"
            ],
            [
             0.8,
             "#7fbc41"
            ],
            [
             0.9,
             "#4d9221"
            ],
            [
             1,
             "#276419"
            ]
           ],
           "sequential": [
            [
             0,
             "#0d0887"
            ],
            [
             0.1111111111111111,
             "#46039f"
            ],
            [
             0.2222222222222222,
             "#7201a8"
            ],
            [
             0.3333333333333333,
             "#9c179e"
            ],
            [
             0.4444444444444444,
             "#bd3786"
            ],
            [
             0.5555555555555556,
             "#d8576b"
            ],
            [
             0.6666666666666666,
             "#ed7953"
            ],
            [
             0.7777777777777778,
             "#fb9f3a"
            ],
            [
             0.8888888888888888,
             "#fdca26"
            ],
            [
             1,
             "#f0f921"
            ]
           ],
           "sequentialminus": [
            [
             0,
             "#0d0887"
            ],
            [
             0.1111111111111111,
             "#46039f"
            ],
            [
             0.2222222222222222,
             "#7201a8"
            ],
            [
             0.3333333333333333,
             "#9c179e"
            ],
            [
             0.4444444444444444,
             "#bd3786"
            ],
            [
             0.5555555555555556,
             "#d8576b"
            ],
            [
             0.6666666666666666,
             "#ed7953"
            ],
            [
             0.7777777777777778,
             "#fb9f3a"
            ],
            [
             0.8888888888888888,
             "#fdca26"
            ],
            [
             1,
             "#f0f921"
            ]
           ]
          },
          "colorway": [
           "#636efa",
           "#EF553B",
           "#00cc96",
           "#ab63fa",
           "#FFA15A",
           "#19d3f3",
           "#FF6692",
           "#B6E880",
           "#FF97FF",
           "#FECB52"
          ],
          "font": {
           "color": "#2a3f5f"
          },
          "geo": {
           "bgcolor": "white",
           "lakecolor": "white",
           "landcolor": "#E5ECF6",
           "showlakes": true,
           "showland": true,
           "subunitcolor": "white"
          },
          "hoverlabel": {
           "align": "left"
          },
          "hovermode": "closest",
          "mapbox": {
           "style": "light"
          },
          "paper_bgcolor": "white",
          "plot_bgcolor": "#E5ECF6",
          "polar": {
           "angularaxis": {
            "gridcolor": "white",
            "linecolor": "white",
            "ticks": ""
           },
           "bgcolor": "#E5ECF6",
           "radialaxis": {
            "gridcolor": "white",
            "linecolor": "white",
            "ticks": ""
           }
          },
          "scene": {
           "xaxis": {
            "backgroundcolor": "#E5ECF6",
            "gridcolor": "white",
            "gridwidth": 2,
            "linecolor": "white",
            "showbackground": true,
            "ticks": "",
            "zerolinecolor": "white"
           },
           "yaxis": {
            "backgroundcolor": "#E5ECF6",
            "gridcolor": "white",
            "gridwidth": 2,
            "linecolor": "white",
            "showbackground": true,
            "ticks": "",
            "zerolinecolor": "white"
           },
           "zaxis": {
            "backgroundcolor": "#E5ECF6",
            "gridcolor": "white",
            "gridwidth": 2,
            "linecolor": "white",
            "showbackground": true,
            "ticks": "",
            "zerolinecolor": "white"
           }
          },
          "shapedefaults": {
           "line": {
            "color": "#2a3f5f"
           }
          },
          "ternary": {
           "aaxis": {
            "gridcolor": "white",
            "linecolor": "white",
            "ticks": ""
           },
           "baxis": {
            "gridcolor": "white",
            "linecolor": "white",
            "ticks": ""
           },
           "bgcolor": "#E5ECF6",
           "caxis": {
            "gridcolor": "white",
            "linecolor": "white",
            "ticks": ""
           }
          },
          "title": {
           "x": 0.05
          },
          "xaxis": {
           "automargin": true,
           "gridcolor": "white",
           "linecolor": "white",
           "ticks": "",
           "title": {
            "standoff": 15
           },
           "zerolinecolor": "white",
           "zerolinewidth": 2
          },
          "yaxis": {
           "automargin": true,
           "gridcolor": "white",
           "linecolor": "white",
           "ticks": "",
           "title": {
            "standoff": 15
           },
           "zerolinecolor": "white",
           "zerolinewidth": 2
          }
         }
        },
        "xaxis": {
         "anchor": "y",
         "domain": [
          0,
          1
         ],
         "title": {
          "text": "k"
         }
        },
        "yaxis": {
         "anchor": "x",
         "domain": [
          0,
          1
         ],
         "title": {
          "text": "inertia"
         }
        }
       }
      },
      "text/html": [
       "<div>                            <div id=\"1db6ed4e-c07d-40e0-acd1-d8a5a2de0b56\" class=\"plotly-graph-div\" style=\"height:525px; width:100%;\"></div>            <script type=\"text/javascript\">                require([\"plotly\"], function(Plotly) {                    window.PLOTLYENV=window.PLOTLYENV || {};                                    if (document.getElementById(\"1db6ed4e-c07d-40e0-acd1-d8a5a2de0b56\")) {                    Plotly.newPlot(                        \"1db6ed4e-c07d-40e0-acd1-d8a5a2de0b56\",                        [{\"hovertemplate\":\"k=%{x}\\u003cbr\\u003einertia=%{y}\\u003cextra\\u003e\\u003c\\u002fextra\\u003e\",\"legendgroup\":\"\",\"line\":{\"color\":\"#636efa\",\"dash\":\"solid\"},\"marker\":{\"symbol\":\"circle\"},\"mode\":\"lines\",\"name\":\"\",\"orientation\":\"v\",\"showlegend\":false,\"x\":[1,2,3,4,5,6,7,8,9,10],\"xaxis\":\"x\",\"y\":[3510811013594.913,1210379886222.103,712067258526.7524,285121954469.3837,122576378838.90587,71268610180.14381,64744244105.45285,49172651373.12255,36412646136.063866,31846941028.84439],\"yaxis\":\"y\",\"type\":\"scatter\"}],                        {\"template\":{\"data\":{\"histogram2dcontour\":[{\"type\":\"histogram2dcontour\",\"colorbar\":{\"outlinewidth\":0,\"ticks\":\"\"},\"colorscale\":[[0.0,\"#0d0887\"],[0.1111111111111111,\"#46039f\"],[0.2222222222222222,\"#7201a8\"],[0.3333333333333333,\"#9c179e\"],[0.4444444444444444,\"#bd3786\"],[0.5555555555555556,\"#d8576b\"],[0.6666666666666666,\"#ed7953\"],[0.7777777777777778,\"#fb9f3a\"],[0.8888888888888888,\"#fdca26\"],[1.0,\"#f0f921\"]]}],\"choropleth\":[{\"type\":\"choropleth\",\"colorbar\":{\"outlinewidth\":0,\"ticks\":\"\"}}],\"histogram2d\":[{\"type\":\"histogram2d\",\"colorbar\":{\"outlinewidth\":0,\"ticks\":\"\"},\"colorscale\":[[0.0,\"#0d0887\"],[0.1111111111111111,\"#46039f\"],[0.2222222222222222,\"#7201a8\"],[0.3333333333333333,\"#9c179e\"],[0.4444444444444444,\"#bd3786\"],[0.5555555555555556,\"#d8576b\"],[0.6666666666666666,\"#ed7953\"],[0.7777777777777778,\"#fb9f3a\"],[0.8888888888888888,\"#fdca26\"],[1.0,\"#f0f921\"]]}],\"heatmap\":[{\"type\":\"heatmap\",\"colorbar\":{\"outlinewidth\":0,\"ticks\":\"\"},\"colorscale\":[[0.0,\"#0d0887\"],[0.1111111111111111,\"#46039f\"],[0.2222222222222222,\"#7201a8\"],[0.3333333333333333,\"#9c179e\"],[0.4444444444444444,\"#bd3786\"],[0.5555555555555556,\"#d8576b\"],[0.6666666666666666,\"#ed7953\"],[0.7777777777777778,\"#fb9f3a\"],[0.8888888888888888,\"#fdca26\"],[1.0,\"#f0f921\"]]}],\"heatmapgl\":[{\"type\":\"heatmapgl\",\"colorbar\":{\"outlinewidth\":0,\"ticks\":\"\"},\"colorscale\":[[0.0,\"#0d0887\"],[0.1111111111111111,\"#46039f\"],[0.2222222222222222,\"#7201a8\"],[0.3333333333333333,\"#9c179e\"],[0.4444444444444444,\"#bd3786\"],[0.5555555555555556,\"#d8576b\"],[0.6666666666666666,\"#ed7953\"],[0.7777777777777778,\"#fb9f3a\"],[0.8888888888888888,\"#fdca26\"],[1.0,\"#f0f921\"]]}],\"contourcarpet\":[{\"type\":\"contourcarpet\",\"colorbar\":{\"outlinewidth\":0,\"ticks\":\"\"}}],\"contour\":[{\"type\":\"contour\",\"colorbar\":{\"outlinewidth\":0,\"ticks\":\"\"},\"colorscale\":[[0.0,\"#0d0887\"],[0.1111111111111111,\"#46039f\"],[0.2222222222222222,\"#7201a8\"],[0.3333333333333333,\"#9c179e\"],[0.4444444444444444,\"#bd3786\"],[0.5555555555555556,\"#d8576b\"],[0.6666666666666666,\"#ed7953\"],[0.7777777777777778,\"#fb9f3a\"],[0.8888888888888888,\"#fdca26\"],[1.0,\"#f0f921\"]]}],\"surface\":[{\"type\":\"surface\",\"colorbar\":{\"outlinewidth\":0,\"ticks\":\"\"},\"colorscale\":[[0.0,\"#0d0887\"],[0.1111111111111111,\"#46039f\"],[0.2222222222222222,\"#7201a8\"],[0.3333333333333333,\"#9c179e\"],[0.4444444444444444,\"#bd3786\"],[0.5555555555555556,\"#d8576b\"],[0.6666666666666666,\"#ed7953\"],[0.7777777777777778,\"#fb9f3a\"],[0.8888888888888888,\"#fdca26\"],[1.0,\"#f0f921\"]]}],\"mesh3d\":[{\"type\":\"mesh3d\",\"colorbar\":{\"outlinewidth\":0,\"ticks\":\"\"}}],\"scatter\":[{\"fillpattern\":{\"fillmode\":\"overlay\",\"size\":10,\"solidity\":0.2},\"type\":\"scatter\"}],\"parcoords\":[{\"type\":\"parcoords\",\"line\":{\"colorbar\":{\"outlinewidth\":0,\"ticks\":\"\"}}}],\"scatterpolargl\":[{\"type\":\"scatterpolargl\",\"marker\":{\"colorbar\":{\"outlinewidth\":0,\"ticks\":\"\"}}}],\"bar\":[{\"error_x\":{\"color\":\"#2a3f5f\"},\"error_y\":{\"color\":\"#2a3f5f\"},\"marker\":{\"line\":{\"color\":\"#E5ECF6\",\"width\":0.5},\"pattern\":{\"fillmode\":\"overlay\",\"size\":10,\"solidity\":0.2}},\"type\":\"bar\"}],\"scattergeo\":[{\"type\":\"scattergeo\",\"marker\":{\"colorbar\":{\"outlinewidth\":0,\"ticks\":\"\"}}}],\"scatterpolar\":[{\"type\":\"scatterpolar\",\"marker\":{\"colorbar\":{\"outlinewidth\":0,\"ticks\":\"\"}}}],\"histogram\":[{\"marker\":{\"pattern\":{\"fillmode\":\"overlay\",\"size\":10,\"solidity\":0.2}},\"type\":\"histogram\"}],\"scattergl\":[{\"type\":\"scattergl\",\"marker\":{\"colorbar\":{\"outlinewidth\":0,\"ticks\":\"\"}}}],\"scatter3d\":[{\"type\":\"scatter3d\",\"line\":{\"colorbar\":{\"outlinewidth\":0,\"ticks\":\"\"}},\"marker\":{\"colorbar\":{\"outlinewidth\":0,\"ticks\":\"\"}}}],\"scattermapbox\":[{\"type\":\"scattermapbox\",\"marker\":{\"colorbar\":{\"outlinewidth\":0,\"ticks\":\"\"}}}],\"scatterternary\":[{\"type\":\"scatterternary\",\"marker\":{\"colorbar\":{\"outlinewidth\":0,\"ticks\":\"\"}}}],\"scattercarpet\":[{\"type\":\"scattercarpet\",\"marker\":{\"colorbar\":{\"outlinewidth\":0,\"ticks\":\"\"}}}],\"carpet\":[{\"aaxis\":{\"endlinecolor\":\"#2a3f5f\",\"gridcolor\":\"white\",\"linecolor\":\"white\",\"minorgridcolor\":\"white\",\"startlinecolor\":\"#2a3f5f\"},\"baxis\":{\"endlinecolor\":\"#2a3f5f\",\"gridcolor\":\"white\",\"linecolor\":\"white\",\"minorgridcolor\":\"white\",\"startlinecolor\":\"#2a3f5f\"},\"type\":\"carpet\"}],\"table\":[{\"cells\":{\"fill\":{\"color\":\"#EBF0F8\"},\"line\":{\"color\":\"white\"}},\"header\":{\"fill\":{\"color\":\"#C8D4E3\"},\"line\":{\"color\":\"white\"}},\"type\":\"table\"}],\"barpolar\":[{\"marker\":{\"line\":{\"color\":\"#E5ECF6\",\"width\":0.5},\"pattern\":{\"fillmode\":\"overlay\",\"size\":10,\"solidity\":0.2}},\"type\":\"barpolar\"}],\"pie\":[{\"automargin\":true,\"type\":\"pie\"}]},\"layout\":{\"autotypenumbers\":\"strict\",\"colorway\":[\"#636efa\",\"#EF553B\",\"#00cc96\",\"#ab63fa\",\"#FFA15A\",\"#19d3f3\",\"#FF6692\",\"#B6E880\",\"#FF97FF\",\"#FECB52\"],\"font\":{\"color\":\"#2a3f5f\"},\"hovermode\":\"closest\",\"hoverlabel\":{\"align\":\"left\"},\"paper_bgcolor\":\"white\",\"plot_bgcolor\":\"#E5ECF6\",\"polar\":{\"bgcolor\":\"#E5ECF6\",\"angularaxis\":{\"gridcolor\":\"white\",\"linecolor\":\"white\",\"ticks\":\"\"},\"radialaxis\":{\"gridcolor\":\"white\",\"linecolor\":\"white\",\"ticks\":\"\"}},\"ternary\":{\"bgcolor\":\"#E5ECF6\",\"aaxis\":{\"gridcolor\":\"white\",\"linecolor\":\"white\",\"ticks\":\"\"},\"baxis\":{\"gridcolor\":\"white\",\"linecolor\":\"white\",\"ticks\":\"\"},\"caxis\":{\"gridcolor\":\"white\",\"linecolor\":\"white\",\"ticks\":\"\"}},\"coloraxis\":{\"colorbar\":{\"outlinewidth\":0,\"ticks\":\"\"}},\"colorscale\":{\"sequential\":[[0.0,\"#0d0887\"],[0.1111111111111111,\"#46039f\"],[0.2222222222222222,\"#7201a8\"],[0.3333333333333333,\"#9c179e\"],[0.4444444444444444,\"#bd3786\"],[0.5555555555555556,\"#d8576b\"],[0.6666666666666666,\"#ed7953\"],[0.7777777777777778,\"#fb9f3a\"],[0.8888888888888888,\"#fdca26\"],[1.0,\"#f0f921\"]],\"sequentialminus\":[[0.0,\"#0d0887\"],[0.1111111111111111,\"#46039f\"],[0.2222222222222222,\"#7201a8\"],[0.3333333333333333,\"#9c179e\"],[0.4444444444444444,\"#bd3786\"],[0.5555555555555556,\"#d8576b\"],[0.6666666666666666,\"#ed7953\"],[0.7777777777777778,\"#fb9f3a\"],[0.8888888888888888,\"#fdca26\"],[1.0,\"#f0f921\"]],\"diverging\":[[0,\"#8e0152\"],[0.1,\"#c51b7d\"],[0.2,\"#de77ae\"],[0.3,\"#f1b6da\"],[0.4,\"#fde0ef\"],[0.5,\"#f7f7f7\"],[0.6,\"#e6f5d0\"],[0.7,\"#b8e186\"],[0.8,\"#7fbc41\"],[0.9,\"#4d9221\"],[1,\"#276419\"]]},\"xaxis\":{\"gridcolor\":\"white\",\"linecolor\":\"white\",\"ticks\":\"\",\"title\":{\"standoff\":15},\"zerolinecolor\":\"white\",\"automargin\":true,\"zerolinewidth\":2},\"yaxis\":{\"gridcolor\":\"white\",\"linecolor\":\"white\",\"ticks\":\"\",\"title\":{\"standoff\":15},\"zerolinecolor\":\"white\",\"automargin\":true,\"zerolinewidth\":2},\"scene\":{\"xaxis\":{\"backgroundcolor\":\"#E5ECF6\",\"gridcolor\":\"white\",\"linecolor\":\"white\",\"showbackground\":true,\"ticks\":\"\",\"zerolinecolor\":\"white\",\"gridwidth\":2},\"yaxis\":{\"backgroundcolor\":\"#E5ECF6\",\"gridcolor\":\"white\",\"linecolor\":\"white\",\"showbackground\":true,\"ticks\":\"\",\"zerolinecolor\":\"white\",\"gridwidth\":2},\"zaxis\":{\"backgroundcolor\":\"#E5ECF6\",\"gridcolor\":\"white\",\"linecolor\":\"white\",\"showbackground\":true,\"ticks\":\"\",\"zerolinecolor\":\"white\",\"gridwidth\":2}},\"shapedefaults\":{\"line\":{\"color\":\"#2a3f5f\"}},\"annotationdefaults\":{\"arrowcolor\":\"#2a3f5f\",\"arrowhead\":0,\"arrowwidth\":1},\"geo\":{\"bgcolor\":\"white\",\"landcolor\":\"#E5ECF6\",\"subunitcolor\":\"white\",\"showland\":true,\"showlakes\":true,\"lakecolor\":\"white\"},\"title\":{\"x\":0.05},\"mapbox\":{\"style\":\"light\"}}},\"xaxis\":{\"anchor\":\"y\",\"domain\":[0.0,1.0],\"title\":{\"text\":\"k\"}},\"yaxis\":{\"anchor\":\"x\",\"domain\":[0.0,1.0],\"title\":{\"text\":\"inertia\"}},\"legend\":{\"tracegroupgap\":0},\"margin\":{\"t\":60},\"plot_bgcolor\":\"#ffffff\"},                        {\"responsive\": true}                    ).then(function(){\n",
       "                            \n",
       "var gd = document.getElementById('1db6ed4e-c07d-40e0-acd1-d8a5a2de0b56');\n",
       "var x = new MutationObserver(function (mutations, observer) {{\n",
       "        var display = window.getComputedStyle(gd).display;\n",
       "        if (!display || display === 'none') {{\n",
       "            console.log([gd, 'removed!']);\n",
       "            Plotly.purge(gd);\n",
       "            observer.disconnect();\n",
       "        }}\n",
       "}});\n",
       "\n",
       "// Listen for the removal of the full notebook cells\n",
       "var notebookContainer = gd.closest('#notebook-container');\n",
       "if (notebookContainer) {{\n",
       "    x.observe(notebookContainer, {childList: true});\n",
       "}}\n",
       "\n",
       "// Listen for the clearing of the current output cell\n",
       "var outputEl = gd.closest('.output');\n",
       "if (outputEl) {{\n",
       "    x.observe(outputEl, {childList: true});\n",
       "}}\n",
       "\n",
       "                        })                };                });            </script>        </div>"
      ]
     },
     "metadata": {},
     "output_type": "display_data"
    }
   ],
   "source": [
    "# Inertia 값과 클러스터 수 k를 DataFrame으로 변환\n",
    "df_inertia = pd.DataFrame(dict(\n",
    "    k = [x for x in range(1, 11)],  # 클러스터 수 k (1부터 10까지)\n",
    "    inertia = inertia,  # 각 k에 대한 Inertia 값\n",
    "))\n",
    "\n",
    "# Inertia 값에 대한 꺾은 선 그래프 생성\n",
    "fig_inertia = px.line(\n",
    "    df_inertia,\n",
    "    x = \"k\",         # x축은 클러스터 수 k\n",
    "    y = \"inertia\"    # y축은 Inertia 값\n",
    ")\n",
    "\n",
    "# 배경색은 하얀색\n",
    "fig_inertia.update_layout(plot_bgcolor='#ffffff')\n",
    "\n",
    "# 그래프 표시\n",
    "fig_inertia.show()"
   ]
  },
  {
   "cell_type": "code",
   "execution_count": 39,
   "id": "e1c47129",
   "metadata": {
    "scrolled": true
   },
   "outputs": [
    {
     "name": "stderr",
     "output_type": "stream",
     "text": [
      "/home/elicer/.local/lib/python3.10/site-packages/sklearn/cluster/_kmeans.py:870: FutureWarning:\n",
      "\n",
      "The default value of `n_init` will change from 10 to 'auto' in 1.4. Set the value of `n_init` explicitly to suppress the warning\n",
      "\n",
      "/home/elicer/.local/lib/python3.10/site-packages/sklearn/cluster/_kmeans.py:870: FutureWarning:\n",
      "\n",
      "The default value of `n_init` will change from 10 to 'auto' in 1.4. Set the value of `n_init` explicitly to suppress the warning\n",
      "\n",
      "/home/elicer/.local/lib/python3.10/site-packages/sklearn/cluster/_kmeans.py:870: FutureWarning:\n",
      "\n",
      "The default value of `n_init` will change from 10 to 'auto' in 1.4. Set the value of `n_init` explicitly to suppress the warning\n",
      "\n",
      "/home/elicer/.local/lib/python3.10/site-packages/sklearn/cluster/_kmeans.py:870: FutureWarning:\n",
      "\n",
      "The default value of `n_init` will change from 10 to 'auto' in 1.4. Set the value of `n_init` explicitly to suppress the warning\n",
      "\n",
      "/home/elicer/.local/lib/python3.10/site-packages/sklearn/cluster/_kmeans.py:870: FutureWarning:\n",
      "\n",
      "The default value of `n_init` will change from 10 to 'auto' in 1.4. Set the value of `n_init` explicitly to suppress the warning\n",
      "\n",
      "/home/elicer/.local/lib/python3.10/site-packages/sklearn/cluster/_kmeans.py:870: FutureWarning:\n",
      "\n",
      "The default value of `n_init` will change from 10 to 'auto' in 1.4. Set the value of `n_init` explicitly to suppress the warning\n",
      "\n",
      "/home/elicer/.local/lib/python3.10/site-packages/sklearn/cluster/_kmeans.py:870: FutureWarning:\n",
      "\n",
      "The default value of `n_init` will change from 10 to 'auto' in 1.4. Set the value of `n_init` explicitly to suppress the warning\n",
      "\n",
      "/home/elicer/.local/lib/python3.10/site-packages/sklearn/cluster/_kmeans.py:870: FutureWarning:\n",
      "\n",
      "The default value of `n_init` will change from 10 to 'auto' in 1.4. Set the value of `n_init` explicitly to suppress the warning\n",
      "\n",
      "/home/elicer/.local/lib/python3.10/site-packages/sklearn/cluster/_kmeans.py:870: FutureWarning:\n",
      "\n",
      "The default value of `n_init` will change from 10 to 'auto' in 1.4. Set the value of `n_init` explicitly to suppress the warning\n",
      "\n"
     ]
    }
   ],
   "source": [
    "# 실루엣 분석을 사용하여 최적의 K값 탐색\n",
    "silhouette_scores = []\n",
    "for k in range(2, 11):\n",
    "    kmeans = KMeans(n_clusters=k, random_state=42)\n",
    "    kmeans.fit(use_train)\n",
    "    score = silhouette_score(use_train, kmeans.labels_)\n",
    "    silhouette_scores.append(score)"
   ]
  },
  {
   "cell_type": "code",
   "execution_count": 40,
   "id": "45ce880b",
   "metadata": {},
   "outputs": [
    {
     "data": {
      "text/plain": [
       "[<matplotlib.lines.Line2D at 0x7fb6843127a0>]"
      ]
     },
     "execution_count": 40,
     "metadata": {},
     "output_type": "execute_result"
    },
    {
     "data": {
      "image/png": "[encoded data removed]",
      "text/plain": [
       "<Figure size 640x480 with 1 Axes>"
      ]
     },
     "metadata": {},
     "output_type": "display_data"
    }
   ],
   "source": [
    "# 실루엣 분석 그래프 그리기\n",
    "plt.plot(range(2, 11), silhouette_scores, marker='o')"
   ]
  },
  {
   "cell_type": "code",
   "execution_count": 41,
   "id": "b7d414e8",
   "metadata": {},
   "outputs": [],
   "source": [
    "# parameters\n",
    "best_k = 2 # centroid의 best 개수 -> elbow, 실루엣 두 방법을 비교하여 선정한다.\n",
    "abnormal = 1 # 시뮬레이션에서 이상치 판독 기준 개수\n",
    "# Best k 적합하기\n",
    "best = KMeans(\n",
    "        n_clusters = best_k,    # 클러스터 수 설정\n",
    "        init=\"random\",   # 초기 중심점을 무작위로 선택\n",
    "        n_init=\"auto\",    # k-means 알고리즘 반복 실행 횟수 설정\n",
    "        random_state=42\n",
    "    ).fit(use_train)"
   ]
  },
  {
   "cell_type": "code",
   "execution_count": 43,
   "id": "ee75d1ce",
   "metadata": {},
   "outputs": [],
   "source": [
    "use_train['kmeans_2'] = best.labels_"
   ]
  },
  {
   "cell_type": "code",
   "execution_count": 44,
   "id": "462efc75",
   "metadata": {},
   "outputs": [],
   "source": [
    "# parameters\n",
    "best_k = 5 # centroid의 best 개수 -> elbow, 실루엣 두 방법을 비교하여 선정한다.\n",
    "abnormal = 1 # 시뮬레이션에서 이상치 판독 기준 개수\n",
    "# Best k 적합하기\n",
    "best = KMeans(\n",
    "        n_clusters = best_k,    # 클러스터 수 설정\n",
    "        init=\"random\",   # 초기 중심점을 무작위로 선택\n",
    "        n_init=\"auto\",    # k-means 알고리즘 반복 실행 횟수 설정\n",
    "        random_state=42\n",
    "    ).fit(use_train)"
   ]
  },
  {
   "cell_type": "code",
   "execution_count": 45,
   "id": "c3ef26ec",
   "metadata": {},
   "outputs": [],
   "source": [
    "use_train['kmeans_5'] = best.labels_"
   ]
  },
  {
   "cell_type": "code",
   "execution_count": 54,
   "id": "ade0cdb8",
   "metadata": {},
   "outputs": [
    {
     "ename": "KeyError",
     "evalue": "'AbNormal'",
     "output_type": "error",
     "traceback": [
      "\u001b[0;31m---------------------------------------------------------------------------\u001b[0m",
      "\u001b[0;31mKeyError\u001b[0m                                  Traceback (most recent call last)",
      "File \u001b[0;32m~/.local/lib/python3.10/site-packages/pandas/core/indexes/base.py:3791\u001b[0m, in \u001b[0;36mIndex.get_loc\u001b[0;34m(self, key)\u001b[0m\n\u001b[1;32m   3790\u001b[0m \u001b[38;5;28;01mtry\u001b[39;00m:\n\u001b[0;32m-> 3791\u001b[0m     \u001b[38;5;28;01mreturn\u001b[39;00m \u001b[38;5;28;43mself\u001b[39;49m\u001b[38;5;241;43m.\u001b[39;49m\u001b[43m_engine\u001b[49m\u001b[38;5;241;43m.\u001b[39;49m\u001b[43mget_loc\u001b[49m\u001b[43m(\u001b[49m\u001b[43mcasted_key\u001b[49m\u001b[43m)\u001b[49m\n\u001b[1;32m   3792\u001b[0m \u001b[38;5;28;01mexcept\u001b[39;00m \u001b[38;5;167;01mKeyError\u001b[39;00m \u001b[38;5;28;01mas\u001b[39;00m err:\n",
      "File \u001b[0;32mindex.pyx:152\u001b[0m, in \u001b[0;36mpandas._libs.index.IndexEngine.get_loc\u001b[0;34m()\u001b[0m\n",
      "File \u001b[0;32mindex.pyx:160\u001b[0m, in \u001b[0;36mpandas._libs.index.IndexEngine.get_loc\u001b[0;34m()\u001b[0m\n",
      "File \u001b[0;32mpandas/_libs/index_class_helper.pxi:100\u001b[0m, in \u001b[0;36mpandas._libs.index.Int32Engine._check_type\u001b[0;34m()\u001b[0m\n",
      "\u001b[0;31mKeyError\u001b[0m: 'AbNormal'",
      "\nThe above exception was the direct cause of the following exception:\n",
      "\u001b[0;31mKeyError\u001b[0m                                  Traceback (most recent call last)",
      "Cell \u001b[0;32mIn[54], line 2\u001b[0m\n\u001b[1;32m      1\u001b[0m a \u001b[38;5;241m=\u001b[39m pd\u001b[38;5;241m.\u001b[39mcrosstab(use_train[\u001b[38;5;124m'\u001b[39m\u001b[38;5;124mkmeans_2\u001b[39m\u001b[38;5;124m'\u001b[39m], use_train[\u001b[38;5;124m'\u001b[39m\u001b[38;5;124mkmeans_5\u001b[39m\u001b[38;5;124m'\u001b[39m])\n\u001b[0;32m----> 2\u001b[0m a[\u001b[38;5;124m'\u001b[39m\u001b[38;5;124mtotal\u001b[39m\u001b[38;5;124m'\u001b[39m] \u001b[38;5;241m=\u001b[39m \u001b[43ma\u001b[49m\u001b[43m[\u001b[49m\u001b[38;5;124;43m'\u001b[39;49m\u001b[38;5;124;43mAbNormal\u001b[39;49m\u001b[38;5;124;43m'\u001b[39;49m\u001b[43m]\u001b[49m \u001b[38;5;241m+\u001b[39m a[\u001b[38;5;124m'\u001b[39m\u001b[38;5;124mNormal\u001b[39m\u001b[38;5;124m'\u001b[39m]\n\u001b[1;32m      3\u001b[0m a[\u001b[38;5;124m'\u001b[39m\u001b[38;5;124mratio\u001b[39m\u001b[38;5;124m'\u001b[39m] \u001b[38;5;241m=\u001b[39m a[\u001b[38;5;124m'\u001b[39m\u001b[38;5;124mAbNormal\u001b[39m\u001b[38;5;124m'\u001b[39m]\u001b[38;5;241m/\u001b[39ma[\u001b[38;5;124m'\u001b[39m\u001b[38;5;124mtotal\u001b[39m\u001b[38;5;124m'\u001b[39m]\n\u001b[1;32m      4\u001b[0m a\n",
      "File \u001b[0;32m~/.local/lib/python3.10/site-packages/pandas/core/frame.py:3893\u001b[0m, in \u001b[0;36mDataFrame.__getitem__\u001b[0;34m(self, key)\u001b[0m\n\u001b[1;32m   3891\u001b[0m \u001b[38;5;28;01mif\u001b[39;00m \u001b[38;5;28mself\u001b[39m\u001b[38;5;241m.\u001b[39mcolumns\u001b[38;5;241m.\u001b[39mnlevels \u001b[38;5;241m>\u001b[39m \u001b[38;5;241m1\u001b[39m:\n\u001b[1;32m   3892\u001b[0m     \u001b[38;5;28;01mreturn\u001b[39;00m \u001b[38;5;28mself\u001b[39m\u001b[38;5;241m.\u001b[39m_getitem_multilevel(key)\n\u001b[0;32m-> 3893\u001b[0m indexer \u001b[38;5;241m=\u001b[39m \u001b[38;5;28;43mself\u001b[39;49m\u001b[38;5;241;43m.\u001b[39;49m\u001b[43mcolumns\u001b[49m\u001b[38;5;241;43m.\u001b[39;49m\u001b[43mget_loc\u001b[49m\u001b[43m(\u001b[49m\u001b[43mkey\u001b[49m\u001b[43m)\u001b[49m\n\u001b[1;32m   3894\u001b[0m \u001b[38;5;28;01mif\u001b[39;00m is_integer(indexer):\n\u001b[1;32m   3895\u001b[0m     indexer \u001b[38;5;241m=\u001b[39m [indexer]\n",
      "File \u001b[0;32m~/.local/lib/python3.10/site-packages/pandas/core/indexes/base.py:3798\u001b[0m, in \u001b[0;36mIndex.get_loc\u001b[0;34m(self, key)\u001b[0m\n\u001b[1;32m   3793\u001b[0m     \u001b[38;5;28;01mif\u001b[39;00m \u001b[38;5;28misinstance\u001b[39m(casted_key, \u001b[38;5;28mslice\u001b[39m) \u001b[38;5;129;01mor\u001b[39;00m (\n\u001b[1;32m   3794\u001b[0m         \u001b[38;5;28misinstance\u001b[39m(casted_key, abc\u001b[38;5;241m.\u001b[39mIterable)\n\u001b[1;32m   3795\u001b[0m         \u001b[38;5;129;01mand\u001b[39;00m \u001b[38;5;28many\u001b[39m(\u001b[38;5;28misinstance\u001b[39m(x, \u001b[38;5;28mslice\u001b[39m) \u001b[38;5;28;01mfor\u001b[39;00m x \u001b[38;5;129;01min\u001b[39;00m casted_key)\n\u001b[1;32m   3796\u001b[0m     ):\n\u001b[1;32m   3797\u001b[0m         \u001b[38;5;28;01mraise\u001b[39;00m InvalidIndexError(key)\n\u001b[0;32m-> 3798\u001b[0m     \u001b[38;5;28;01mraise\u001b[39;00m \u001b[38;5;167;01mKeyError\u001b[39;00m(key) \u001b[38;5;28;01mfrom\u001b[39;00m \u001b[38;5;21;01merr\u001b[39;00m\n\u001b[1;32m   3799\u001b[0m \u001b[38;5;28;01mexcept\u001b[39;00m \u001b[38;5;167;01mTypeError\u001b[39;00m:\n\u001b[1;32m   3800\u001b[0m     \u001b[38;5;66;03m# If we have a listlike key, _check_indexing_error will raise\u001b[39;00m\n\u001b[1;32m   3801\u001b[0m     \u001b[38;5;66;03m#  InvalidIndexError. Otherwise we fall through and re-raise\u001b[39;00m\n\u001b[1;32m   3802\u001b[0m     \u001b[38;5;66;03m#  the TypeError.\u001b[39;00m\n\u001b[1;32m   3803\u001b[0m     \u001b[38;5;28mself\u001b[39m\u001b[38;5;241m.\u001b[39m_check_indexing_error(key)\n",
      "\u001b[0;31mKeyError\u001b[0m: 'AbNormal'"
     ]
    }
   ],
   "source": [
    "a = pd.crosstab(use_train['kmeans_2'], use_train['target'])\n",
    "a['total'] = a['AbNormal'] + a['Normal']\n",
    "a['ratio'] = a['AbNormal']/a['total']\n",
    "a"
   ]
  },
  {
   "cell_type": "code",
   "execution_count": 68,
   "id": "7b1fb4ab",
   "metadata": {},
   "outputs": [
    {
     "data": {
      "text/html": [
       "<div>\n",
       "<style scoped>\n",
       "    .dataframe tbody tr th:only-of-type {\n",
       "        vertical-align: middle;\n",
       "    }\n",
       "\n",
       "    .dataframe tbody tr th {\n",
       "        vertical-align: top;\n",
       "    }\n",
       "\n",
       "    .dataframe thead th {\n",
       "        text-align: right;\n",
       "    }\n",
       "</style>\n",
       "<table border=\"1\" class=\"dataframe\">\n",
       "  <thead>\n",
       "    <tr style=\"text-align: right;\">\n",
       "      <th></th>\n",
       "      <th>index</th>\n",
       "      <th>kmeans_2</th>\n",
       "      <th>kmeans_5</th>\n",
       "    </tr>\n",
       "  </thead>\n",
       "  <tbody>\n",
       "    <tr>\n",
       "      <th>68</th>\n",
       "      <td>Head Purge Position Z Collect Result_Fill1</td>\n",
       "      <td>-0.794097</td>\n",
       "      <td>0.448731</td>\n",
       "    </tr>\n",
       "    <tr>\n",
       "      <th>7</th>\n",
       "      <td>Dispense Volume(Stage3) Collect Result_Dam</td>\n",
       "      <td>-0.719121</td>\n",
       "      <td>0.576165</td>\n",
       "    </tr>\n",
       "    <tr>\n",
       "      <th>5</th>\n",
       "      <td>Dispense Volume(Stage1) Collect Result_Dam</td>\n",
       "      <td>-0.718794</td>\n",
       "      <td>0.575979</td>\n",
       "    </tr>\n",
       "    <tr>\n",
       "      <th>2</th>\n",
       "      <td>DISCHARGED TIME OF RESIN(Stage1) Collect Resul...</td>\n",
       "      <td>-0.701826</td>\n",
       "      <td>0.534140</td>\n",
       "    </tr>\n",
       "    <tr>\n",
       "      <th>4</th>\n",
       "      <td>DISCHARGED TIME OF RESIN(Stage3) Collect Resul...</td>\n",
       "      <td>-0.699870</td>\n",
       "      <td>0.533146</td>\n",
       "    </tr>\n",
       "    <tr>\n",
       "      <th>...</th>\n",
       "      <td>...</td>\n",
       "      <td>...</td>\n",
       "      <td>...</td>\n",
       "    </tr>\n",
       "    <tr>\n",
       "      <th>44</th>\n",
       "      <td>Stage3 Circle4 Distance Speed Collect Result_Dam</td>\n",
       "      <td>0.867661</td>\n",
       "      <td>-0.606549</td>\n",
       "    </tr>\n",
       "    <tr>\n",
       "      <th>48</th>\n",
       "      <td>Stage3 Line4 Distance Speed Collect Result_Dam</td>\n",
       "      <td>0.867661</td>\n",
       "      <td>-0.606549</td>\n",
       "    </tr>\n",
       "    <tr>\n",
       "      <th>46</th>\n",
       "      <td>Stage3 Line2 Distance Speed Collect Result_Dam</td>\n",
       "      <td>0.867661</td>\n",
       "      <td>-0.606549</td>\n",
       "    </tr>\n",
       "    <tr>\n",
       "      <th>74</th>\n",
       "      <td>kmeans_2</td>\n",
       "      <td>1.000000</td>\n",
       "      <td>-0.695502</td>\n",
       "    </tr>\n",
       "    <tr>\n",
       "      <th>70</th>\n",
       "      <td>inconsistant</td>\n",
       "      <td>NaN</td>\n",
       "      <td>NaN</td>\n",
       "    </tr>\n",
       "  </tbody>\n",
       "</table>\n",
       "<p>76 rows × 3 columns</p>\n",
       "</div>"
      ],
      "text/plain": [
       "                                                index  kmeans_2  kmeans_5\n",
       "68         Head Purge Position Z Collect Result_Fill1 -0.794097  0.448731\n",
       "7          Dispense Volume(Stage3) Collect Result_Dam -0.719121  0.576165\n",
       "5          Dispense Volume(Stage1) Collect Result_Dam -0.718794  0.575979\n",
       "2   DISCHARGED TIME OF RESIN(Stage1) Collect Resul... -0.701826  0.534140\n",
       "4   DISCHARGED TIME OF RESIN(Stage3) Collect Resul... -0.699870  0.533146\n",
       "..                                                ...       ...       ...\n",
       "44   Stage3 Circle4 Distance Speed Collect Result_Dam  0.867661 -0.606549\n",
       "48     Stage3 Line4 Distance Speed Collect Result_Dam  0.867661 -0.606549\n",
       "46     Stage3 Line2 Distance Speed Collect Result_Dam  0.867661 -0.606549\n",
       "74                                           kmeans_2  1.000000 -0.695502\n",
       "70                                       inconsistant       NaN       NaN\n",
       "\n",
       "[76 rows x 3 columns]"
      ]
     },
     "execution_count": 68,
     "metadata": {},
     "output_type": "execute_result"
    }
   ],
   "source": [
    "k = use_train.corr()[['kmeans_2', 'kmeans_5']].reset_index()\n",
    "k"
   ]
  },
  {
   "cell_type": "code",
   "execution_count": 76,
   "id": "b69036ff",
   "metadata": {},
   "outputs": [
    {
     "data": {
      "application/vnd.plotly.v1+json": {
       "config": {
        "plotlyServerURL": "https://plot.ly"
       },
       "data": [
        {
         "type": "bar",
         "x": [
          "Head Purge Position Z Collect Result_Fill1",
          "Dispense Volume(Stage3) Collect Result_Dam",
          "Dispense Volume(Stage1) Collect Result_Dam",
          "DISCHARGED TIME OF RESIN(Stage1) Collect Result_Dam",
          "DISCHARGED TIME OF RESIN(Stage3) Collect Result_Dam",
          "kmeans_5",
          "DISCHARGED TIME OF RESIN(Stage2) Collect Result_Dam",
          "Dispense Volume(Stage2) Collect Result_Dam",
          "HEAD NORMAL COORDINATE X AXIS(Stage2) Collect Result_Dam",
          "DISCHARGED SPEED OF RESIN Collect Result_Dam",
          "HEAD NORMAL COORDINATE X AXIS(Stage1) Collect Result_Dam",
          "HEAD NORMAL COORDINATE X AXIS(Stage3) Collect Result_Dam",
          "Head Zero Position Z Collect Result_Dam",
          "PalletID Collect Result_Dam",
          "HEAD NORMAL COORDINATE Y AXIS(Stage3) Collect Result_Fill1",
          "HEAD NORMAL COORDINATE Z AXIS(Stage1) Collect Result_Fill1",
          "HEAD NORMAL COORDINATE Z AXIS(Stage3) Collect Result_Fill1",
          "HEAD NORMAL COORDINATE Z AXIS(Stage2) Collect Result_Fill1",
          "HEAD NORMAL COORDINATE Y AXIS(Stage1) Collect Result_Fill1",
          "CURE SPEED Collect Result_Dam",
          "cure_z_dist_fill2",
          "Receip No Collect Result_Dam",
          "Production Qty Collect Result_Dam",
          "HEAD NORMAL COORDINATE Y AXIS(Stage3) Collect Result_Dam",
          "HEAD NORMAL COORDINATE Y AXIS(Stage1) Collect Result_Dam",
          "DISCHARGED TIME OF RESIN(Stage3) Collect Result_Fill1",
          "HEAD NORMAL COORDINATE Y AXIS(Stage2) Collect Result_Dam",
          "DISCHARGED TIME OF RESIN(Stage1) Collect Result_Fill1",
          "HEAD NORMAL COORDINATE X AXIS(Stage1) Collect Result_Fill1",
          "THICKNESS 1 Collect Result_Dam",
          "Dispense Volume(Stage3) Collect Result_Fill1",
          "Dispense Volume(Stage1) Collect Result_Fill1",
          "THICKNESS 3 Collect Result_Dam",
          "THICKNESS 2 Collect Result_Dam",
          "HEAD NORMAL COORDINATE Y AXIS(Stage2) Collect Result_Fill1",
          "CURE SPEED Collect Result_Fill2",
          "DISCHARGED SPEED OF RESIN Collect Result_Fill1",
          "cure_x_dist_dam",
          "cure_z_dist_dam",
          "Head Clean Position Z Collect Result_Dam",
          "HEAD NORMAL COORDINATE Z AXIS(Stage3) Collect Result_Dam",
          "HEAD NORMAL COORDINATE Z AXIS(Stage2) Collect Result_Dam",
          "HEAD NORMAL COORDINATE Z AXIS(Stage1) Collect Result_Dam",
          "HEAD NORMAL COORDINATE X AXIS(Stage3) Collect Result_Fill1",
          "DISCHARGED TIME OF RESIN(Stage2) Collect Result_Fill1",
          "Dispense Volume(Stage2) Collect Result_Fill1",
          "Head Zero Position Y Collect Result_Dam",
          "HEAD NORMAL COORDINATE X AXIS(Stage2) Collect Result_Fill1",
          "Head Purge Position Z Collect Result_Dam",
          "Machine Tact time Collect Result_Dam",
          "Stage2 Line2 Distance Speed Collect Result_Dam",
          "Stage2 Line4 Distance Speed Collect Result_Dam",
          "Stage2 Circle4 Distance Speed Collect Result_Dam",
          "Stage2 Circle3 Distance Speed Collect Result_Dam",
          "Stage2 Circle2 Distance Speed Collect Result_Dam",
          "Stage2 Circle1 Distance Speed Collect Result_Dam",
          "Stage2 Line1 Distance Speed Collect Result_Dam",
          "Stage2 Line3 Distance Speed Collect Result_Dam",
          "Stage3 Line1 Distance Speed Collect Result_Dam",
          "Stage1 Line1 Distance Speed Collect Result_Dam",
          "Stage3 Line3 Distance Speed Collect Result_Dam",
          "Stage1 Line3 Distance Speed Collect Result_Dam",
          "Stage1 Line4 Distance Speed Collect Result_Dam",
          "Stage1 Line2 Distance Speed Collect Result_Dam",
          "Stage1 Circle4 Distance Speed Collect Result_Dam",
          "Stage1 Circle2 Distance Speed Collect Result_Dam",
          "Stage1 Circle1 Distance Speed Collect Result_Dam",
          "Stage1 Circle3 Distance Speed Collect Result_Dam",
          "Stage3 Line2 Distance Speed Collect Result_Dam",
          "Stage3 Circle1 Distance Speed Collect Result_Dam",
          "Stage3 Circle2 Distance Speed Collect Result_Dam",
          "Stage3 Circle3 Distance Speed Collect Result_Dam",
          "Stage3 Circle4 Distance Speed Collect Result_Dam",
          "Stage3 Line4 Distance Speed Collect Result_Dam",
          "kmeans_2",
          "inconsistant"
         ],
         "y": [
          -0.7940965166226204,
          -0.7191207712446681,
          -0.718794165230226,
          -0.7018264712732469,
          -0.6998700372045384,
          -0.6955017400921703,
          -0.6646976611558911,
          -0.6300488350666106,
          -0.5838101035651599,
          -0.5472448439917402,
          -0.540452245340643,
          -0.44149029563795056,
          -0.44118322541235033,
          -0.3383060907867618,
          -0.3165540712171513,
          -0.29544658663530166,
          -0.29355660187606175,
          -0.29355660187606175,
          -0.2665756753027482,
          -0.22729455857074535,
          -0.13050049472316017,
          -0.0901551435673551,
          -0.08162293852389771,
          -0.048492131375340135,
          -0.043115408995338646,
          0.040313176503148834,
          0.041398926745121356,
          0.04207455578743659,
          0.06449061224524946,
          0.10185090882007579,
          0.1075676733174658,
          0.10985350994517168,
          0.11551591764072604,
          0.1407867612914277,
          0.158452139818293,
          0.2195077680420085,
          0.26471861331451957,
          0.39209699505226564,
          0.39209699505227036,
          0.5104987109674478,
          0.5409879647081651,
          0.5409879647081651,
          0.5409879647081651,
          0.5456925020774813,
          0.5604850149073229,
          0.5821303508682889,
          0.6230611582471683,
          0.6581491134192278,
          0.6875317332134513,
          0.7312101288831548,
          0.7434826398796853,
          0.7434826398796853,
          0.7434908447220293,
          0.7434908447220293,
          0.7434908447220293,
          0.7434908447220293,
          0.7490768661929796,
          0.7497713741731065,
          0.8652204697260008,
          0.8654355161139126,
          0.8668643357448693,
          0.8669687779170372,
          0.867657443796366,
          0.867657443796366,
          0.867657443796366,
          0.867657443796366,
          0.867657443796366,
          0.867657443796366,
          0.8676609218270019,
          0.8676609218270019,
          0.8676609218270019,
          0.8676609218270019,
          0.8676609218270019,
          0.8676609218270019,
          1,
          null
         ]
        }
       ],
       "layout": {
        "template": {
         "data": {
          "bar": [
           {
            "error_x": {
             "color": "#2a3f5f"
            },
            "error_y": {
             "color": "#2a3f5f"
            },
            "marker": {
             "line": {
              "color": "#E5ECF6",
              "width": 0.5
             },
             "pattern": {
              "fillmode": "overlay",
              "size": 10,
              "solidity": 0.2
             }
            },
            "type": "bar"
           }
          ],
          "barpolar": [
           {
            "marker": {
             "line": {
              "color": "#E5ECF6",
              "width": 0.5
             },
             "pattern": {
              "fillmode": "overlay",
              "size": 10,
              "solidity": 0.2
             }
            },
            "type": "barpolar"
           }
          ],
          "carpet": [
           {
            "aaxis": {
             "endlinecolor": "#2a3f5f",
             "gridcolor": "white",
             "linecolor": "white",
             "minorgridcolor": "white",
             "startlinecolor": "#2a3f5f"
            },
            "baxis": {
             "endlinecolor": "#2a3f5f",
             "gridcolor": "white",
             "linecolor": "white",
             "minorgridcolor": "white",
             "startlinecolor": "#2a3f5f"
            },
            "type": "carpet"
           }
          ],
          "choropleth": [
           {
            "colorbar": {
             "outlinewidth": 0,
             "ticks": ""
            },
            "type": "choropleth"
           }
          ],
          "contour": [
           {
            "colorbar": {
             "outlinewidth": 0,
             "ticks": ""
            },
            "colorscale": [
             [
              0,
              "#0d0887"
             ],
             [
              0.1111111111111111,
              "#46039f"
             ],
             [
              0.2222222222222222,
              "#7201a8"
             ],
             [
              0.3333333333333333,
              "#9c179e"
             ],
             [
              0.4444444444444444,
              "#bd3786"
             ],
             [
              0.5555555555555556,
              "#d8576b"
             ],
             [
              0.6666666666666666,
              "#ed7953"
             ],
             [
              0.7777777777777778,
              "#fb9f3a"
             ],
             [
              0.8888888888888888,
              "#fdca26"
             ],
             [
              1,
              "#f0f921"
             ]
            ],
            "type": "contour"
           }
          ],
          "contourcarpet": [
           {
            "colorbar": {
             "outlinewidth": 0,
             "ticks": ""
            },
            "type": "contourcarpet"
           }
          ],
          "heatmap": [
           {
            "colorbar": {
             "outlinewidth": 0,
             "ticks": ""
            },
            "colorscale": [
             [
              0,
              "#0d0887"
             ],
             [
              0.1111111111111111,
              "#46039f"
             ],
             [
              0.2222222222222222,
              "#7201a8"
             ],
             [
              0.3333333333333333,
              "#9c179e"
             ],
             [
              0.4444444444444444,
              "#bd3786"
             ],
             [
              0.5555555555555556,
              "#d8576b"
             ],
             [
              0.6666666666666666,
              "#ed7953"
             ],
             [
              0.7777777777777778,
              "#fb9f3a"
             ],
             [
              0.8888888888888888,
              "#fdca26"
             ],
             [
              1,
              "#f0f921"
             ]
            ],
            "type": "heatmap"
           }
          ],
          "heatmapgl": [
           {
            "colorbar": {
             "outlinewidth": 0,
             "ticks": ""
            },
            "colorscale": [
             [
              0,
              "#0d0887"
             ],
             [
              0.1111111111111111,
              "#46039f"
             ],
             [
              0.2222222222222222,
              "#7201a8"
             ],
             [
              0.3333333333333333,
              "#9c179e"
             ],
             [
              0.4444444444444444,
              "#bd3786"
             ],
             [
              0.5555555555555556,
              "#d8576b"
             ],
             [
              0.6666666666666666,
              "#ed7953"
             ],
             [
              0.7777777777777778,
              "#fb9f3a"
             ],
             [
              0.8888888888888888,
              "#fdca26"
             ],
             [
              1,
              "#f0f921"
             ]
            ],
            "type": "heatmapgl"
           }
          ],
          "histogram": [
           {
            "marker": {
             "pattern": {
              "fillmode": "overlay",
              "size": 10,
              "solidity": 0.2
             }
            },
            "type": "histogram"
           }
          ],
          "histogram2d": [
           {
            "colorbar": {
             "outlinewidth": 0,
             "ticks": ""
            },
            "colorscale": [
             [
              0,
              "#0d0887"
             ],
             [
              0.1111111111111111,
              "#46039f"
             ],
             [
              0.2222222222222222,
              "#7201a8"
             ],
             [
              0.3333333333333333,
              "#9c179e"
             ],
             [
              0.4444444444444444,
              "#bd3786"
             ],
             [
              0.5555555555555556,
              "#d8576b"
             ],
             [
              0.6666666666666666,
              "#ed7953"
             ],
             [
              0.7777777777777778,
              "#fb9f3a"
             ],
             [
              0.8888888888888888,
              "#fdca26"
             ],
             [
              1,
              "#f0f921"
             ]
            ],
            "type": "histogram2d"
           }
          ],
          "histogram2dcontour": [
           {
            "colorbar": {
             "outlinewidth": 0,
             "ticks": ""
            },
            "colorscale": [
             [
              0,
              "#0d0887"
             ],
             [
              0.1111111111111111,
              "#46039f"
             ],
             [
              0.2222222222222222,
              "#7201a8"
             ],
             [
              0.3333333333333333,
              "#9c179e"
             ],
             [
              0.4444444444444444,
              "#bd3786"
             ],
             [
              0.5555555555555556,
              "#d8576b"
             ],
             [
              0.6666666666666666,
              "#ed7953"
             ],
             [
              0.7777777777777778,
              "#fb9f3a"
             ],
             [
              0.8888888888888888,
              "#fdca26"
             ],
             [
              1,
              "#f0f921"
             ]
            ],
            "type": "histogram2dcontour"
           }
          ],
          "mesh3d": [
           {
            "colorbar": {
             "outlinewidth": 0,
             "ticks": ""
            },
            "type": "mesh3d"
           }
          ],
          "parcoords": [
           {
            "line": {
             "colorbar": {
              "outlinewidth": 0,
              "ticks": ""
             }
            },
            "type": "parcoords"
           }
          ],
          "pie": [
           {
            "automargin": true,
            "type": "pie"
           }
          ],
          "scatter": [
           {
            "fillpattern": {
             "fillmode": "overlay",
             "size": 10,
             "solidity": 0.2
            },
            "type": "scatter"
           }
          ],
          "scatter3d": [
           {
            "line": {
             "colorbar": {
              "outlinewidth": 0,
              "ticks": ""
             }
            },
            "marker": {
             "colorbar": {
              "outlinewidth": 0,
              "ticks": ""
             }
            },
            "type": "scatter3d"
           }
          ],
          "scattercarpet": [
           {
            "marker": {
             "colorbar": {
              "outlinewidth": 0,
              "ticks": ""
             }
            },
            "type": "scattercarpet"
           }
          ],
          "scattergeo": [
           {
            "marker": {
             "colorbar": {
              "outlinewidth": 0,
              "ticks": ""
             }
            },
            "type": "scattergeo"
           }
          ],
          "scattergl": [
           {
            "marker": {
             "colorbar": {
              "outlinewidth": 0,
              "ticks": ""
             }
            },
            "type": "scattergl"
           }
          ],
          "scattermapbox": [
           {
            "marker": {
             "colorbar": {
              "outlinewidth": 0,
              "ticks": ""
             }
            },
            "type": "scattermapbox"
           }
          ],
          "scatterpolar": [
           {
            "marker": {
             "colorbar": {
              "outlinewidth": 0,
              "ticks": ""
             }
            },
            "type": "scatterpolar"
           }
          ],
          "scatterpolargl": [
           {
            "marker": {
             "colorbar": {
              "outlinewidth": 0,
              "ticks": ""
             }
            },
            "type": "scatterpolargl"
           }
          ],
          "scatterternary": [
           {
            "marker": {
             "colorbar": {
              "outlinewidth": 0,
              "ticks": ""
             }
            },
            "type": "scatterternary"
           }
          ],
          "surface": [
           {
            "colorbar": {
             "outlinewidth": 0,
             "ticks": ""
            },
            "colorscale": [
             [
              0,
              "#0d0887"
             ],
             [
              0.1111111111111111,
              "#46039f"
             ],
             [
              0.2222222222222222,
              "#7201a8"
             ],
             [
              0.3333333333333333,
              "#9c179e"
             ],
             [
              0.4444444444444444,
              "#bd3786"
             ],
             [
              0.5555555555555556,
              "#d8576b"
             ],
             [
              0.6666666666666666,
              "#ed7953"
             ],
             [
              0.7777777777777778,
              "#fb9f3a"
             ],
             [
              0.8888888888888888,
              "#fdca26"
             ],
             [
              1,
              "#f0f921"
             ]
            ],
            "type": "surface"
           }
          ],
          "table": [
           {
            "cells": {
             "fill": {
              "color": "#EBF0F8"
             },
             "line": {
              "color": "white"
             }
            },
            "header": {
             "fill": {
              "color": "#C8D4E3"
             },
             "line": {
              "color": "white"
             }
            },
            "type": "table"
           }
          ]
         },
         "layout": {
          "annotationdefaults": {
           "arrowcolor": "#2a3f5f",
           "arrowhead": 0,
           "arrowwidth": 1
          },
          "autotypenumbers": "strict",
          "coloraxis": {
           "colorbar": {
            "outlinewidth": 0,
            "ticks": ""
           }
          },
          "colorscale": {
           "diverging": [
            [
             0,
             "#8e0152"
            ],
            [
             0.1,
             "#c51b7d"
            ],
            [
             0.2,
             "#de77ae"
            ],
            [
             0.3,
             "#f1b6da"
            ],
            [
             0.4,
             "#fde0ef"
            ],
            [
             0.5,
             "#f7f7f7"
            ],
            [
             0.6,
             "#e6f5d0"
            ],
            [
             0.7,
             "#b8e186"
            ],
            [
             0.8,
             "#7fbc41"
            ],
            [
             0.9,
             "#4d9221"
            ],
            [
             1,
             "#276419"
            ]
           ],
           "sequential": [
            [
             0,
             "#0d0887"
            ],
            [
             0.1111111111111111,
             "#46039f"
            ],
            [
             0.2222222222222222,
             "#7201a8"
            ],
            [
             0.3333333333333333,
             "#9c179e"
            ],
            [
             0.4444444444444444,
             "#bd3786"
            ],
            [
             0.5555555555555556,
             "#d8576b"
            ],
            [
             0.6666666666666666,
             "#ed7953"
            ],
            [
             0.7777777777777778,
             "#fb9f3a"
            ],
            [
             0.8888888888888888,
             "#fdca26"
            ],
            [
             1,
             "#f0f921"
            ]
           ],
           "sequentialminus": [
            [
             0,
             "#0d0887"
            ],
            [
             0.1111111111111111,
             "#46039f"
            ],
            [
             0.2222222222222222,
             "#7201a8"
            ],
            [
             0.3333333333333333,
             "#9c179e"
            ],
            [
             0.4444444444444444,
             "#bd3786"
            ],
            [
             0.5555555555555556,
             "#d8576b"
            ],
            [
             0.6666666666666666,
             "#ed7953"
            ],
            [
             0.7777777777777778,
             "#fb9f3a"
            ],
            [
             0.8888888888888888,
             "#fdca26"
            ],
            [
             1,
             "#f0f921"
            ]
           ]
          },
          "colorway": [
           "#636efa",
           "#EF553B",
           "#00cc96",
           "#ab63fa",
           "#FFA15A",
           "#19d3f3",
           "#FF6692",
           "#B6E880",
           "#FF97FF",
           "#FECB52"
          ],
          "font": {
           "color": "#2a3f5f"
          },
          "geo": {
           "bgcolor": "white",
           "lakecolor": "white",
           "landcolor": "#E5ECF6",
           "showlakes": true,
           "showland": true,
           "subunitcolor": "white"
          },
          "hoverlabel": {
           "align": "left"
          },
          "hovermode": "closest",
          "mapbox": {
           "style": "light"
          },
          "paper_bgcolor": "white",
          "plot_bgcolor": "#E5ECF6",
          "polar": {
           "angularaxis": {
            "gridcolor": "white",
            "linecolor": "white",
            "ticks": ""
           },
           "bgcolor": "#E5ECF6",
           "radialaxis": {
            "gridcolor": "white",
            "linecolor": "white",
            "ticks": ""
           }
          },
          "scene": {
           "xaxis": {
            "backgroundcolor": "#E5ECF6",
            "gridcolor": "white",
            "gridwidth": 2,
            "linecolor": "white",
            "showbackground": true,
            "ticks": "",
            "zerolinecolor": "white"
           },
           "yaxis": {
            "backgroundcolor": "#E5ECF6",
            "gridcolor": "white",
            "gridwidth": 2,
            "linecolor": "white",
            "showbackground": true,
            "ticks": "",
            "zerolinecolor": "white"
           },
           "zaxis": {
            "backgroundcolor": "#E5ECF6",
            "gridcolor": "white",
            "gridwidth": 2,
            "linecolor": "white",
            "showbackground": true,
            "ticks": "",
            "zerolinecolor": "white"
           }
          },
          "shapedefaults": {
           "line": {
            "color": "#2a3f5f"
           }
          },
          "ternary": {
           "aaxis": {
            "gridcolor": "white",
            "linecolor": "white",
            "ticks": ""
           },
           "baxis": {
            "gridcolor": "white",
            "linecolor": "white",
            "ticks": ""
           },
           "bgcolor": "#E5ECF6",
           "caxis": {
            "gridcolor": "white",
            "linecolor": "white",
            "ticks": ""
           }
          },
          "title": {
           "x": 0.05
          },
          "xaxis": {
           "automargin": true,
           "gridcolor": "white",
           "linecolor": "white",
           "ticks": "",
           "title": {
            "standoff": 15
           },
           "zerolinecolor": "white",
           "zerolinewidth": 2
          },
          "yaxis": {
           "automargin": true,
           "gridcolor": "white",
           "linecolor": "white",
           "ticks": "",
           "title": {
            "standoff": 15
           },
           "zerolinecolor": "white",
           "zerolinewidth": 2
          }
         }
        }
       }
      },
      "text/html": [
       "<div>                            <div id=\"4db095a1-c034-4afe-a599-144c480c379c\" class=\"plotly-graph-div\" style=\"height:525px; width:100%;\"></div>            <script type=\"text/javascript\">                require([\"plotly\"], function(Plotly) {                    window.PLOTLYENV=window.PLOTLYENV || {};                                    if (document.getElementById(\"4db095a1-c034-4afe-a599-144c480c379c\")) {                    Plotly.newPlot(                        \"4db095a1-c034-4afe-a599-144c480c379c\",                        [{\"x\":[\"Head Purge Position Z Collect Result_Fill1\",\"Dispense Volume(Stage3) Collect Result_Dam\",\"Dispense Volume(Stage1) Collect Result_Dam\",\"DISCHARGED TIME OF RESIN(Stage1) Collect Result_Dam\",\"DISCHARGED TIME OF RESIN(Stage3) Collect Result_Dam\",\"kmeans_5\",\"DISCHARGED TIME OF RESIN(Stage2) Collect Result_Dam\",\"Dispense Volume(Stage2) Collect Result_Dam\",\"HEAD NORMAL COORDINATE X AXIS(Stage2) Collect Result_Dam\",\"DISCHARGED SPEED OF RESIN Collect Result_Dam\",\"HEAD NORMAL COORDINATE X AXIS(Stage1) Collect Result_Dam\",\"HEAD NORMAL COORDINATE X AXIS(Stage3) Collect Result_Dam\",\"Head Zero Position Z Collect Result_Dam\",\"PalletID Collect Result_Dam\",\"HEAD NORMAL COORDINATE Y AXIS(Stage3) Collect Result_Fill1\",\"HEAD NORMAL COORDINATE Z AXIS(Stage1) Collect Result_Fill1\",\"HEAD NORMAL COORDINATE Z AXIS(Stage3) Collect Result_Fill1\",\"HEAD NORMAL COORDINATE Z AXIS(Stage2) Collect Result_Fill1\",\"HEAD NORMAL COORDINATE Y AXIS(Stage1) Collect Result_Fill1\",\"CURE SPEED Collect Result_Dam\",\"cure_z_dist_fill2\",\"Receip No Collect Result_Dam\",\"Production Qty Collect Result_Dam\",\"HEAD NORMAL COORDINATE Y AXIS(Stage3) Collect Result_Dam\",\"HEAD NORMAL COORDINATE Y AXIS(Stage1) Collect Result_Dam\",\"DISCHARGED TIME OF RESIN(Stage3) Collect Result_Fill1\",\"HEAD NORMAL COORDINATE Y AXIS(Stage2) Collect Result_Dam\",\"DISCHARGED TIME OF RESIN(Stage1) Collect Result_Fill1\",\"HEAD NORMAL COORDINATE X AXIS(Stage1) Collect Result_Fill1\",\"THICKNESS 1 Collect Result_Dam\",\"Dispense Volume(Stage3) Collect Result_Fill1\",\"Dispense Volume(Stage1) Collect Result_Fill1\",\"THICKNESS 3 Collect Result_Dam\",\"THICKNESS 2 Collect Result_Dam\",\"HEAD NORMAL COORDINATE Y AXIS(Stage2) Collect Result_Fill1\",\"CURE SPEED Collect Result_Fill2\",\"DISCHARGED SPEED OF RESIN Collect Result_Fill1\",\"cure_x_dist_dam\",\"cure_z_dist_dam\",\"Head Clean Position Z Collect Result_Dam\",\"HEAD NORMAL COORDINATE Z AXIS(Stage3) Collect Result_Dam\",\"HEAD NORMAL COORDINATE Z AXIS(Stage2) Collect Result_Dam\",\"HEAD NORMAL COORDINATE Z AXIS(Stage1) Collect Result_Dam\",\"HEAD NORMAL COORDINATE X AXIS(Stage3) Collect Result_Fill1\",\"DISCHARGED TIME OF RESIN(Stage2) Collect Result_Fill1\",\"Dispense Volume(Stage2) Collect Result_Fill1\",\"Head Zero Position Y Collect Result_Dam\",\"HEAD NORMAL COORDINATE X AXIS(Stage2) Collect Result_Fill1\",\"Head Purge Position Z Collect Result_Dam\",\"Machine Tact time Collect Result_Dam\",\"Stage2 Line2 Distance Speed Collect Result_Dam\",\"Stage2 Line4 Distance Speed Collect Result_Dam\",\"Stage2 Circle4 Distance Speed Collect Result_Dam\",\"Stage2 Circle3 Distance Speed Collect Result_Dam\",\"Stage2 Circle2 Distance Speed Collect Result_Dam\",\"Stage2 Circle1 Distance Speed Collect Result_Dam\",\"Stage2 Line1 Distance Speed Collect Result_Dam\",\"Stage2 Line3 Distance Speed Collect Result_Dam\",\"Stage3 Line1 Distance Speed Collect Result_Dam\",\"Stage1 Line1 Distance Speed Collect Result_Dam\",\"Stage3 Line3 Distance Speed Collect Result_Dam\",\"Stage1 Line3 Distance Speed Collect Result_Dam\",\"Stage1 Line4 Distance Speed Collect Result_Dam\",\"Stage1 Line2 Distance Speed Collect Result_Dam\",\"Stage1 Circle4 Distance Speed Collect Result_Dam\",\"Stage1 Circle2 Distance Speed Collect Result_Dam\",\"Stage1 Circle1 Distance Speed Collect Result_Dam\",\"Stage1 Circle3 Distance Speed Collect Result_Dam\",\"Stage3 Line2 Distance Speed Collect Result_Dam\",\"Stage3 Circle1 Distance Speed Collect Result_Dam\",\"Stage3 Circle2 Distance Speed Collect Result_Dam\",\"Stage3 Circle3 Distance Speed Collect Result_Dam\",\"Stage3 Circle4 Distance Speed Collect Result_Dam\",\"Stage3 Line4 Distance Speed Collect Result_Dam\",\"kmeans_2\",\"inconsistant\"],\"y\":[-0.7940965166226204,-0.7191207712446681,-0.718794165230226,-0.7018264712732469,-0.6998700372045384,-0.6955017400921703,-0.6646976611558911,-0.6300488350666106,-0.5838101035651599,-0.5472448439917402,-0.540452245340643,-0.44149029563795056,-0.44118322541235033,-0.3383060907867618,-0.3165540712171513,-0.29544658663530166,-0.29355660187606175,-0.29355660187606175,-0.2665756753027482,-0.22729455857074535,-0.13050049472316017,-0.0901551435673551,-0.08162293852389771,-0.048492131375340135,-0.043115408995338646,0.040313176503148834,0.041398926745121356,0.04207455578743659,0.06449061224524946,0.10185090882007579,0.1075676733174658,0.10985350994517168,0.11551591764072604,0.1407867612914277,0.158452139818293,0.2195077680420085,0.26471861331451957,0.39209699505226564,0.39209699505227036,0.5104987109674478,0.5409879647081651,0.5409879647081651,0.5409879647081651,0.5456925020774813,0.5604850149073229,0.5821303508682889,0.6230611582471683,0.6581491134192278,0.6875317332134513,0.7312101288831548,0.7434826398796853,0.7434826398796853,0.7434908447220293,0.7434908447220293,0.7434908447220293,0.7434908447220293,0.7490768661929796,0.7497713741731065,0.8652204697260008,0.8654355161139126,0.8668643357448693,0.8669687779170372,0.867657443796366,0.867657443796366,0.867657443796366,0.867657443796366,0.867657443796366,0.867657443796366,0.8676609218270019,0.8676609218270019,0.8676609218270019,0.8676609218270019,0.8676609218270019,0.8676609218270019,1.0,null],\"type\":\"bar\"}],                        {\"template\":{\"data\":{\"histogram2dcontour\":[{\"type\":\"histogram2dcontour\",\"colorbar\":{\"outlinewidth\":0,\"ticks\":\"\"},\"colorscale\":[[0.0,\"#0d0887\"],[0.1111111111111111,\"#46039f\"],[0.2222222222222222,\"#7201a8\"],[0.3333333333333333,\"#9c179e\"],[0.4444444444444444,\"#bd3786\"],[0.5555555555555556,\"#d8576b\"],[0.6666666666666666,\"#ed7953\"],[0.7777777777777778,\"#fb9f3a\"],[0.8888888888888888,\"#fdca26\"],[1.0,\"#f0f921\"]]}],\"choropleth\":[{\"type\":\"choropleth\",\"colorbar\":{\"outlinewidth\":0,\"ticks\":\"\"}}],\"histogram2d\":[{\"type\":\"histogram2d\",\"colorbar\":{\"outlinewidth\":0,\"ticks\":\"\"},\"colorscale\":[[0.0,\"#0d0887\"],[0.1111111111111111,\"#46039f\"],[0.2222222222222222,\"#7201a8\"],[0.3333333333333333,\"#9c179e\"],[0.4444444444444444,\"#bd3786\"],[0.5555555555555556,\"#d8576b\"],[0.6666666666666666,\"#ed7953\"],[0.7777777777777778,\"#fb9f3a\"],[0.8888888888888888,\"#fdca26\"],[1.0,\"#f0f921\"]]}],\"heatmap\":[{\"type\":\"heatmap\",\"colorbar\":{\"outlinewidth\":0,\"ticks\":\"\"},\"colorscale\":[[0.0,\"#0d0887\"],[0.1111111111111111,\"#46039f\"],[0.2222222222222222,\"#7201a8\"],[0.3333333333333333,\"#9c179e\"],[0.4444444444444444,\"#bd3786\"],[0.5555555555555556,\"#d8576b\"],[0.6666666666666666,\"#ed7953\"],[0.7777777777777778,\"#fb9f3a\"],[0.8888888888888888,\"#fdca26\"],[1.0,\"#f0f921\"]]}],\"heatmapgl\":[{\"type\":\"heatmapgl\",\"colorbar\":{\"outlinewidth\":0,\"ticks\":\"\"},\"colorscale\":[[0.0,\"#0d0887\"],[0.1111111111111111,\"#46039f\"],[0.2222222222222222,\"#7201a8\"],[0.3333333333333333,\"#9c179e\"],[0.4444444444444444,\"#bd3786\"],[0.5555555555555556,\"#d8576b\"],[0.6666666666666666,\"#ed7953\"],[0.7777777777777778,\"#fb9f3a\"],[0.8888888888888888,\"#fdca26\"],[1.0,\"#f0f921\"]]}],\"contourcarpet\":[{\"type\":\"contourcarpet\",\"colorbar\":{\"outlinewidth\":0,\"ticks\":\"\"}}],\"contour\":[{\"type\":\"contour\",\"colorbar\":{\"outlinewidth\":0,\"ticks\":\"\"},\"colorscale\":[[0.0,\"#0d0887\"],[0.1111111111111111,\"#46039f\"],[0.2222222222222222,\"#7201a8\"],[0.3333333333333333,\"#9c179e\"],[0.4444444444444444,\"#bd3786\"],[0.5555555555555556,\"#d8576b\"],[0.6666666666666666,\"#ed7953\"],[0.7777777777777778,\"#fb9f3a\"],[0.8888888888888888,\"#fdca26\"],[1.0,\"#f0f921\"]]}],\"surface\":[{\"type\":\"surface\",\"colorbar\":{\"outlinewidth\":0,\"ticks\":\"\"},\"colorscale\":[[0.0,\"#0d0887\"],[0.1111111111111111,\"#46039f\"],[0.2222222222222222,\"#7201a8\"],[0.3333333333333333,\"#9c179e\"],[0.4444444444444444,\"#bd3786\"],[0.5555555555555556,\"#d8576b\"],[0.6666666666666666,\"#ed7953\"],[0.7777777777777778,\"#fb9f3a\"],[0.8888888888888888,\"#fdca26\"],[1.0,\"#f0f921\"]]}],\"mesh3d\":[{\"type\":\"mesh3d\",\"colorbar\":{\"outlinewidth\":0,\"ticks\":\"\"}}],\"scatter\":[{\"fillpattern\":{\"fillmode\":\"overlay\",\"size\":10,\"solidity\":0.2},\"type\":\"scatter\"}],\"parcoords\":[{\"type\":\"parcoords\",\"line\":{\"colorbar\":{\"outlinewidth\":0,\"ticks\":\"\"}}}],\"scatterpolargl\":[{\"type\":\"scatterpolargl\",\"marker\":{\"colorbar\":{\"outlinewidth\":0,\"ticks\":\"\"}}}],\"bar\":[{\"error_x\":{\"color\":\"#2a3f5f\"},\"error_y\":{\"color\":\"#2a3f5f\"},\"marker\":{\"line\":{\"color\":\"#E5ECF6\",\"width\":0.5},\"pattern\":{\"fillmode\":\"overlay\",\"size\":10,\"solidity\":0.2}},\"type\":\"bar\"}],\"scattergeo\":[{\"type\":\"scattergeo\",\"marker\":{\"colorbar\":{\"outlinewidth\":0,\"ticks\":\"\"}}}],\"scatterpolar\":[{\"type\":\"scatterpolar\",\"marker\":{\"colorbar\":{\"outlinewidth\":0,\"ticks\":\"\"}}}],\"histogram\":[{\"marker\":{\"pattern\":{\"fillmode\":\"overlay\",\"size\":10,\"solidity\":0.2}},\"type\":\"histogram\"}],\"scattergl\":[{\"type\":\"scattergl\",\"marker\":{\"colorbar\":{\"outlinewidth\":0,\"ticks\":\"\"}}}],\"scatter3d\":[{\"type\":\"scatter3d\",\"line\":{\"colorbar\":{\"outlinewidth\":0,\"ticks\":\"\"}},\"marker\":{\"colorbar\":{\"outlinewidth\":0,\"ticks\":\"\"}}}],\"scattermapbox\":[{\"type\":\"scattermapbox\",\"marker\":{\"colorbar\":{\"outlinewidth\":0,\"ticks\":\"\"}}}],\"scatterternary\":[{\"type\":\"scatterternary\",\"marker\":{\"colorbar\":{\"outlinewidth\":0,\"ticks\":\"\"}}}],\"scattercarpet\":[{\"type\":\"scattercarpet\",\"marker\":{\"colorbar\":{\"outlinewidth\":0,\"ticks\":\"\"}}}],\"carpet\":[{\"aaxis\":{\"endlinecolor\":\"#2a3f5f\",\"gridcolor\":\"white\",\"linecolor\":\"white\",\"minorgridcolor\":\"white\",\"startlinecolor\":\"#2a3f5f\"},\"baxis\":{\"endlinecolor\":\"#2a3f5f\",\"gridcolor\":\"white\",\"linecolor\":\"white\",\"minorgridcolor\":\"white\",\"startlinecolor\":\"#2a3f5f\"},\"type\":\"carpet\"}],\"table\":[{\"cells\":{\"fill\":{\"color\":\"#EBF0F8\"},\"line\":{\"color\":\"white\"}},\"header\":{\"fill\":{\"color\":\"#C8D4E3\"},\"line\":{\"color\":\"white\"}},\"type\":\"table\"}],\"barpolar\":[{\"marker\":{\"line\":{\"color\":\"#E5ECF6\",\"width\":0.5},\"pattern\":{\"fillmode\":\"overlay\",\"size\":10,\"solidity\":0.2}},\"type\":\"barpolar\"}],\"pie\":[{\"automargin\":true,\"type\":\"pie\"}]},\"layout\":{\"autotypenumbers\":\"strict\",\"colorway\":[\"#636efa\",\"#EF553B\",\"#00cc96\",\"#ab63fa\",\"#FFA15A\",\"#19d3f3\",\"#FF6692\",\"#B6E880\",\"#FF97FF\",\"#FECB52\"],\"font\":{\"color\":\"#2a3f5f\"},\"hovermode\":\"closest\",\"hoverlabel\":{\"align\":\"left\"},\"paper_bgcolor\":\"white\",\"plot_bgcolor\":\"#E5ECF6\",\"polar\":{\"bgcolor\":\"#E5ECF6\",\"angularaxis\":{\"gridcolor\":\"white\",\"linecolor\":\"white\",\"ticks\":\"\"},\"radialaxis\":{\"gridcolor\":\"white\",\"linecolor\":\"white\",\"ticks\":\"\"}},\"ternary\":{\"bgcolor\":\"#E5ECF6\",\"aaxis\":{\"gridcolor\":\"white\",\"linecolor\":\"white\",\"ticks\":\"\"},\"baxis\":{\"gridcolor\":\"white\",\"linecolor\":\"white\",\"ticks\":\"\"},\"caxis\":{\"gridcolor\":\"white\",\"linecolor\":\"white\",\"ticks\":\"\"}},\"coloraxis\":{\"colorbar\":{\"outlinewidth\":0,\"ticks\":\"\"}},\"colorscale\":{\"sequential\":[[0.0,\"#0d0887\"],[0.1111111111111111,\"#46039f\"],[0.2222222222222222,\"#7201a8\"],[0.3333333333333333,\"#9c179e\"],[0.4444444444444444,\"#bd3786\"],[0.5555555555555556,\"#d8576b\"],[0.6666666666666666,\"#ed7953\"],[0.7777777777777778,\"#fb9f3a\"],[0.8888888888888888,\"#fdca26\"],[1.0,\"#f0f921\"]],\"sequentialminus\":[[0.0,\"#0d0887\"],[0.1111111111111111,\"#46039f\"],[0.2222222222222222,\"#7201a8\"],[0.3333333333333333,\"#9c179e\"],[0.4444444444444444,\"#bd3786\"],[0.5555555555555556,\"#d8576b\"],[0.6666666666666666,\"#ed7953\"],[0.7777777777777778,\"#fb9f3a\"],[0.8888888888888888,\"#fdca26\"],[1.0,\"#f0f921\"]],\"diverging\":[[0,\"#8e0152\"],[0.1,\"#c51b7d\"],[0.2,\"#de77ae\"],[0.3,\"#f1b6da\"],[0.4,\"#fde0ef\"],[0.5,\"#f7f7f7\"],[0.6,\"#e6f5d0\"],[0.7,\"#b8e186\"],[0.8,\"#7fbc41\"],[0.9,\"#4d9221\"],[1,\"#276419\"]]},\"xaxis\":{\"gridcolor\":\"white\",\"linecolor\":\"white\",\"ticks\":\"\",\"title\":{\"standoff\":15},\"zerolinecolor\":\"white\",\"automargin\":true,\"zerolinewidth\":2},\"yaxis\":{\"gridcolor\":\"white\",\"linecolor\":\"white\",\"ticks\":\"\",\"title\":{\"standoff\":15},\"zerolinecolor\":\"white\",\"automargin\":true,\"zerolinewidth\":2},\"scene\":{\"xaxis\":{\"backgroundcolor\":\"#E5ECF6\",\"gridcolor\":\"white\",\"linecolor\":\"white\",\"showbackground\":true,\"ticks\":\"\",\"zerolinecolor\":\"white\",\"gridwidth\":2},\"yaxis\":{\"backgroundcolor\":\"#E5ECF6\",\"gridcolor\":\"white\",\"linecolor\":\"white\",\"showbackground\":true,\"ticks\":\"\",\"zerolinecolor\":\"white\",\"gridwidth\":2},\"zaxis\":{\"backgroundcolor\":\"#E5ECF6\",\"gridcolor\":\"white\",\"linecolor\":\"white\",\"showbackground\":true,\"ticks\":\"\",\"zerolinecolor\":\"white\",\"gridwidth\":2}},\"shapedefaults\":{\"line\":{\"color\":\"#2a3f5f\"}},\"annotationdefaults\":{\"arrowcolor\":\"#2a3f5f\",\"arrowhead\":0,\"arrowwidth\":1},\"geo\":{\"bgcolor\":\"white\",\"landcolor\":\"#E5ECF6\",\"subunitcolor\":\"white\",\"showland\":true,\"showlakes\":true,\"lakecolor\":\"white\"},\"title\":{\"x\":0.05},\"mapbox\":{\"style\":\"light\"}}}},                        {\"responsive\": true}                    ).then(function(){\n",
       "                            \n",
       "var gd = document.getElementById('4db095a1-c034-4afe-a599-144c480c379c');\n",
       "var x = new MutationObserver(function (mutations, observer) {{\n",
       "        var display = window.getComputedStyle(gd).display;\n",
       "        if (!display || display === 'none') {{\n",
       "            console.log([gd, 'removed!']);\n",
       "            Plotly.purge(gd);\n",
       "            observer.disconnect();\n",
       "        }}\n",
       "}});\n",
       "\n",
       "// Listen for the removal of the full notebook cells\n",
       "var notebookContainer = gd.closest('#notebook-container');\n",
       "if (notebookContainer) {{\n",
       "    x.observe(notebookContainer, {childList: true});\n",
       "}}\n",
       "\n",
       "// Listen for the clearing of the current output cell\n",
       "var outputEl = gd.closest('.output');\n",
       "if (outputEl) {{\n",
       "    x.observe(outputEl, {childList: true});\n",
       "}}\n",
       "\n",
       "                        })                };                });            </script>        </div>"
      ]
     },
     "metadata": {},
     "output_type": "display_data"
    }
   ],
   "source": [
    "import plotly.graph_objects as go\n",
    "\n",
    "# Figure  생성\n",
    "fig = go.Figure()\n",
    "\n",
    "# Bar Trace 추가\n",
    "k = k.sort_values('kmeans_2')\n",
    "fig.add_trace(go.Bar(x = k['index'] , y = k['kmeans_2']))\n",
    "\n",
    "fig.show()"
   ]
  },
  {
   "cell_type": "code",
   "execution_count": 77,
   "id": "092a322b",
   "metadata": {},
   "outputs": [
    {
     "data": {
      "application/vnd.plotly.v1+json": {
       "config": {
        "plotlyServerURL": "https://plot.ly"
       },
       "data": [
        {
         "type": "bar",
         "x": [
          "Head Purge Position Z Collect Result_Fill1",
          "Dispense Volume(Stage3) Collect Result_Dam",
          "Dispense Volume(Stage1) Collect Result_Dam",
          "DISCHARGED TIME OF RESIN(Stage1) Collect Result_Dam",
          "DISCHARGED TIME OF RESIN(Stage3) Collect Result_Dam",
          "kmeans_5",
          "DISCHARGED TIME OF RESIN(Stage2) Collect Result_Dam",
          "Dispense Volume(Stage2) Collect Result_Dam",
          "HEAD NORMAL COORDINATE X AXIS(Stage2) Collect Result_Dam",
          "DISCHARGED SPEED OF RESIN Collect Result_Dam",
          "HEAD NORMAL COORDINATE X AXIS(Stage1) Collect Result_Dam",
          "HEAD NORMAL COORDINATE X AXIS(Stage3) Collect Result_Dam",
          "Head Zero Position Z Collect Result_Dam",
          "PalletID Collect Result_Dam",
          "HEAD NORMAL COORDINATE Y AXIS(Stage3) Collect Result_Fill1",
          "HEAD NORMAL COORDINATE Z AXIS(Stage1) Collect Result_Fill1",
          "HEAD NORMAL COORDINATE Z AXIS(Stage3) Collect Result_Fill1",
          "HEAD NORMAL COORDINATE Z AXIS(Stage2) Collect Result_Fill1",
          "HEAD NORMAL COORDINATE Y AXIS(Stage1) Collect Result_Fill1",
          "CURE SPEED Collect Result_Dam",
          "cure_z_dist_fill2",
          "Receip No Collect Result_Dam",
          "Production Qty Collect Result_Dam",
          "HEAD NORMAL COORDINATE Y AXIS(Stage3) Collect Result_Dam",
          "HEAD NORMAL COORDINATE Y AXIS(Stage1) Collect Result_Dam",
          "DISCHARGED TIME OF RESIN(Stage3) Collect Result_Fill1",
          "HEAD NORMAL COORDINATE Y AXIS(Stage2) Collect Result_Dam",
          "DISCHARGED TIME OF RESIN(Stage1) Collect Result_Fill1",
          "HEAD NORMAL COORDINATE X AXIS(Stage1) Collect Result_Fill1",
          "THICKNESS 1 Collect Result_Dam",
          "Dispense Volume(Stage3) Collect Result_Fill1",
          "Dispense Volume(Stage1) Collect Result_Fill1",
          "THICKNESS 3 Collect Result_Dam",
          "THICKNESS 2 Collect Result_Dam",
          "HEAD NORMAL COORDINATE Y AXIS(Stage2) Collect Result_Fill1",
          "CURE SPEED Collect Result_Fill2",
          "DISCHARGED SPEED OF RESIN Collect Result_Fill1",
          "cure_x_dist_dam",
          "cure_z_dist_dam",
          "Head Clean Position Z Collect Result_Dam",
          "HEAD NORMAL COORDINATE Z AXIS(Stage3) Collect Result_Dam",
          "HEAD NORMAL COORDINATE Z AXIS(Stage2) Collect Result_Dam",
          "HEAD NORMAL COORDINATE Z AXIS(Stage1) Collect Result_Dam",
          "HEAD NORMAL COORDINATE X AXIS(Stage3) Collect Result_Fill1",
          "DISCHARGED TIME OF RESIN(Stage2) Collect Result_Fill1",
          "Dispense Volume(Stage2) Collect Result_Fill1",
          "Head Zero Position Y Collect Result_Dam",
          "HEAD NORMAL COORDINATE X AXIS(Stage2) Collect Result_Fill1",
          "Head Purge Position Z Collect Result_Dam",
          "Machine Tact time Collect Result_Dam",
          "Stage2 Line2 Distance Speed Collect Result_Dam",
          "Stage2 Line4 Distance Speed Collect Result_Dam",
          "Stage2 Circle4 Distance Speed Collect Result_Dam",
          "Stage2 Circle3 Distance Speed Collect Result_Dam",
          "Stage2 Circle2 Distance Speed Collect Result_Dam",
          "Stage2 Circle1 Distance Speed Collect Result_Dam",
          "Stage2 Line1 Distance Speed Collect Result_Dam",
          "Stage2 Line3 Distance Speed Collect Result_Dam",
          "Stage3 Line1 Distance Speed Collect Result_Dam",
          "Stage1 Line1 Distance Speed Collect Result_Dam",
          "Stage3 Line3 Distance Speed Collect Result_Dam",
          "Stage1 Line3 Distance Speed Collect Result_Dam",
          "Stage1 Line4 Distance Speed Collect Result_Dam",
          "Stage1 Line2 Distance Speed Collect Result_Dam",
          "Stage1 Circle4 Distance Speed Collect Result_Dam",
          "Stage1 Circle2 Distance Speed Collect Result_Dam",
          "Stage1 Circle1 Distance Speed Collect Result_Dam",
          "Stage1 Circle3 Distance Speed Collect Result_Dam",
          "Stage3 Line2 Distance Speed Collect Result_Dam",
          "Stage3 Circle1 Distance Speed Collect Result_Dam",
          "Stage3 Circle2 Distance Speed Collect Result_Dam",
          "Stage3 Circle3 Distance Speed Collect Result_Dam",
          "Stage3 Circle4 Distance Speed Collect Result_Dam",
          "Stage3 Line4 Distance Speed Collect Result_Dam",
          "kmeans_2",
          "inconsistant"
         ],
         "y": [
          0.448731353658074,
          0.5761645677473174,
          0.5759787864639713,
          0.5341397250528803,
          0.5331456048666093,
          1,
          0.8266210340546286,
          0.7437902044053888,
          0.4856694781152333,
          0.5273293138531052,
          0.5062097752510777,
          0.48150938458795467,
          0.4258251048170785,
          0.23989950001114124,
          0.14083577822708018,
          0.3138872267355265,
          0.3119853100015275,
          0.3119853100015275,
          0.1048291747942447,
          0.21773478501294058,
          0.017364717076930665,
          0.08849890009610027,
          0.061014522738596214,
          -0.0440884338632535,
          -0.049954426189254504,
          -0.06964555908859256,
          -0.13650047078668048,
          -0.06853787060424772,
          -0.12566346332574277,
          -0.09756716515679202,
          -0.14500520015545895,
          -0.14357140513687225,
          -0.11065743786931867,
          -0.13486541602762062,
          -0.26865935064493096,
          -0.17108718954213978,
          -0.10951404093836747,
          -0.2675337397643197,
          -0.2675337397643169,
          -0.4295635742443663,
          -0.43397618049859893,
          -0.43397618049859893,
          -0.43397618049859893,
          -0.34038795800746974,
          -0.19084363379355818,
          -0.20527223310324283,
          -0.2176526036872054,
          -0.35427152259649525,
          -0.5002834474381285,
          -0.37041338841770166,
          -0.7514779757214748,
          -0.7514779757214748,
          -0.7514835748685987,
          -0.7514835748685987,
          -0.7514835748685987,
          -0.7514835748685987,
          -0.7562905805889513,
          -0.7569580702350133,
          -0.6081909278781792,
          -0.6083550434723831,
          -0.6102786383736146,
          -0.6104299852211273,
          -0.6065454407856881,
          -0.6065454407856881,
          -0.6065454407856881,
          -0.6065454407856881,
          -0.6065454407856881,
          -0.6065454407856881,
          -0.6065489649339718,
          -0.6065489649339718,
          -0.6065489649339718,
          -0.6065489649339718,
          -0.6065489649339718,
          -0.6065489649339718,
          -0.6955017400921703,
          null
         ]
        }
       ],
       "layout": {
        "template": {
         "data": {
          "bar": [
           {
            "error_x": {
             "color": "#2a3f5f"
            },
            "error_y": {
             "color": "#2a3f5f"
            },
            "marker": {
             "line": {
              "color": "#E5ECF6",
              "width": 0.5
             },
             "pattern": {
              "fillmode": "overlay",
              "size": 10,
              "solidity": 0.2
             }
            },
            "type": "bar"
           }
          ],
          "barpolar": [
           {
            "marker": {
             "line": {
              "color": "#E5ECF6",
              "width": 0.5
             },
             "pattern": {
              "fillmode": "overlay",
              "size": 10,
              "solidity": 0.2
             }
            },
            "type": "barpolar"
           }
          ],
          "carpet": [
           {
            "aaxis": {
             "endlinecolor": "#2a3f5f",
             "gridcolor": "white",
             "linecolor": "white",
             "minorgridcolor": "white",
             "startlinecolor": "#2a3f5f"
            },
            "baxis": {
             "endlinecolor": "#2a3f5f",
             "gridcolor": "white",
             "linecolor": "white",
             "minorgridcolor": "white",
             "startlinecolor": "#2a3f5f"
            },
            "type": "carpet"
           }
          ],
          "choropleth": [
           {
            "colorbar": {
             "outlinewidth": 0,
             "ticks": ""
            },
            "type": "choropleth"
           }
          ],
          "contour": [
           {
            "colorbar": {
             "outlinewidth": 0,
             "ticks": ""
            },
            "colorscale": [
             [
              0,
              "#0d0887"
             ],
             [
              0.1111111111111111,
              "#46039f"
             ],
             [
              0.2222222222222222,
              "#7201a8"
             ],
             [
              0.3333333333333333,
              "#9c179e"
             ],
             [
              0.4444444444444444,
              "#bd3786"
             ],
             [
              0.5555555555555556,
              "#d8576b"
             ],
             [
              0.6666666666666666,
              "#ed7953"
             ],
             [
              0.7777777777777778,
              "#fb9f3a"
             ],
             [
              0.8888888888888888,
              "#fdca26"
             ],
             [
              1,
              "#f0f921"
             ]
            ],
            "type": "contour"
           }
          ],
          "contourcarpet": [
           {
            "colorbar": {
             "outlinewidth": 0,
             "ticks": ""
            },
            "type": "contourcarpet"
           }
          ],
          "heatmap": [
           {
            "colorbar": {
             "outlinewidth": 0,
             "ticks": ""
            },
            "colorscale": [
             [
              0,
              "#0d0887"
             ],
             [
              0.1111111111111111,
              "#46039f"
             ],
             [
              0.2222222222222222,
              "#7201a8"
             ],
             [
              0.3333333333333333,
              "#9c179e"
             ],
             [
              0.4444444444444444,
              "#bd3786"
             ],
             [
              0.5555555555555556,
              "#d8576b"
             ],
             [
              0.6666666666666666,
              "#ed7953"
             ],
             [
              0.7777777777777778,
              "#fb9f3a"
             ],
             [
              0.8888888888888888,
              "#fdca26"
             ],
             [
              1,
              "#f0f921"
             ]
            ],
            "type": "heatmap"
           }
          ],
          "heatmapgl": [
           {
            "colorbar": {
             "outlinewidth": 0,
             "ticks": ""
            },
            "colorscale": [
             [
              0,
              "#0d0887"
             ],
             [
              0.1111111111111111,
              "#46039f"
             ],
             [
              0.2222222222222222,
              "#7201a8"
             ],
             [
              0.3333333333333333,
              "#9c179e"
             ],
             [
              0.4444444444444444,
              "#bd3786"
             ],
             [
              0.5555555555555556,
              "#d8576b"
             ],
             [
              0.6666666666666666,
              "#ed7953"
             ],
             [
              0.7777777777777778,
              "#fb9f3a"
             ],
             [
              0.8888888888888888,
              "#fdca26"
             ],
             [
              1,
              "#f0f921"
             ]
            ],
            "type": "heatmapgl"
           }
          ],
          "histogram": [
           {
            "marker": {
             "pattern": {
              "fillmode": "overlay",
              "size": 10,
              "solidity": 0.2
             }
            },
            "type": "histogram"
           }
          ],
          "histogram2d": [
           {
            "colorbar": {
             "outlinewidth": 0,
             "ticks": ""
            },
            "colorscale": [
             [
              0,
              "#0d0887"
             ],
             [
              0.1111111111111111,
              "#46039f"
             ],
             [
              0.2222222222222222,
              "#7201a8"
             ],
             [
              0.3333333333333333,
              "#9c179e"
             ],
             [
              0.4444444444444444,
              "#bd3786"
             ],
             [
              0.5555555555555556,
              "#d8576b"
             ],
             [
              0.6666666666666666,
              "#ed7953"
             ],
             [
              0.7777777777777778,
              "#fb9f3a"
             ],
             [
              0.8888888888888888,
              "#fdca26"
             ],
             [
              1,
              "#f0f921"
             ]
            ],
            "type": "histogram2d"
           }
          ],
          "histogram2dcontour": [
           {
            "colorbar": {
             "outlinewidth": 0,
             "ticks": ""
            },
            "colorscale": [
             [
              0,
              "#0d0887"
             ],
             [
              0.1111111111111111,
              "#46039f"
             ],
             [
              0.2222222222222222,
              "#7201a8"
             ],
             [
              0.3333333333333333,
              "#9c179e"
             ],
             [
              0.4444444444444444,
              "#bd3786"
             ],
             [
              0.5555555555555556,
              "#d8576b"
             ],
             [
              0.6666666666666666,
              "#ed7953"
             ],
             [
              0.7777777777777778,
              "#fb9f3a"
             ],
             [
              0.8888888888888888,
              "#fdca26"
             ],
             [
              1,
              "#f0f921"
             ]
            ],
            "type": "histogram2dcontour"
           }
          ],
          "mesh3d": [
           {
            "colorbar": {
             "outlinewidth": 0,
             "ticks": ""
            },
            "type": "mesh3d"
           }
          ],
          "parcoords": [
           {
            "line": {
             "colorbar": {
              "outlinewidth": 0,
              "ticks": ""
             }
            },
            "type": "parcoords"
           }
          ],
          "pie": [
           {
            "automargin": true,
            "type": "pie"
           }
          ],
          "scatter": [
           {
            "fillpattern": {
             "fillmode": "overlay",
             "size": 10,
             "solidity": 0.2
            },
            "type": "scatter"
           }
          ],
          "scatter3d": [
           {
            "line": {
             "colorbar": {
              "outlinewidth": 0,
              "ticks": ""
             }
            },
            "marker": {
             "colorbar": {
              "outlinewidth": 0,
              "ticks": ""
             }
            },
            "type": "scatter3d"
           }
          ],
          "scattercarpet": [
           {
            "marker": {
             "colorbar": {
              "outlinewidth": 0,
              "ticks": ""
             }
            },
            "type": "scattercarpet"
           }
          ],
          "scattergeo": [
           {
            "marker": {
             "colorbar": {
              "outlinewidth": 0,
              "ticks": ""
             }
            },
            "type": "scattergeo"
           }
          ],
          "scattergl": [
           {
            "marker": {
             "colorbar": {
              "outlinewidth": 0,
              "ticks": ""
             }
            },
            "type": "scattergl"
           }
          ],
          "scattermapbox": [
           {
            "marker": {
             "colorbar": {
              "outlinewidth": 0,
              "ticks": ""
             }
            },
            "type": "scattermapbox"
           }
          ],
          "scatterpolar": [
           {
            "marker": {
             "colorbar": {
              "outlinewidth": 0,
              "ticks": ""
             }
            },
            "type": "scatterpolar"
           }
          ],
          "scatterpolargl": [
           {
            "marker": {
             "colorbar": {
              "outlinewidth": 0,
              "ticks": ""
             }
            },
            "type": "scatterpolargl"
           }
          ],
          "scatterternary": [
           {
            "marker": {
             "colorbar": {
              "outlinewidth": 0,
              "ticks": ""
             }
            },
            "type": "scatterternary"
           }
          ],
          "surface": [
           {
            "colorbar": {
             "outlinewidth": 0,
             "ticks": ""
            },
            "colorscale": [
             [
              0,
              "#0d0887"
             ],
             [
              0.1111111111111111,
              "#46039f"
             ],
             [
              0.2222222222222222,
              "#7201a8"
             ],
             [
              0.3333333333333333,
              "#9c179e"
             ],
             [
              0.4444444444444444,
              "#bd3786"
             ],
             [
              0.5555555555555556,
              "#d8576b"
             ],
             [
              0.6666666666666666,
              "#ed7953"
             ],
             [
              0.7777777777777778,
              "#fb9f3a"
             ],
             [
              0.8888888888888888,
              "#fdca26"
             ],
             [
              1,
              "#f0f921"
             ]
            ],
            "type": "surface"
           }
          ],
          "table": [
           {
            "cells": {
             "fill": {
              "color": "#EBF0F8"
             },
             "line": {
              "color": "white"
             }
            },
            "header": {
             "fill": {
              "color": "#C8D4E3"
             },
             "line": {
              "color": "white"
             }
            },
            "type": "table"
           }
          ]
         },
         "layout": {
          "annotationdefaults": {
           "arrowcolor": "#2a3f5f",
           "arrowhead": 0,
           "arrowwidth": 1
          },
          "autotypenumbers": "strict",
          "coloraxis": {
           "colorbar": {
            "outlinewidth": 0,
            "ticks": ""
           }
          },
          "colorscale": {
           "diverging": [
            [
             0,
             "#8e0152"
            ],
            [
             0.1,
             "#c51b7d"
            ],
            [
             0.2,
             "#de77ae"
            ],
            [
             0.3,
             "#f1b6da"
            ],
            [
             0.4,
             "#fde0ef"
            ],
            [
             0.5,
             "#f7f7f7"
            ],
            [
             0.6,
             "#e6f5d0"
            ],
            [
             0.7,
             "#b8e186"
            ],
            [
             0.8,
             "#7fbc41"
            ],
            [
             0.9,
             "#4d9221"
            ],
            [
             1,
             "#276419"
            ]
           ],
           "sequential": [
            [
             0,
             "#0d0887"
            ],
            [
             0.1111111111111111,
             "#46039f"
            ],
            [
             0.2222222222222222,
             "#7201a8"
            ],
            [
             0.3333333333333333,
             "#9c179e"
            ],
            [
             0.4444444444444444,
             "#bd3786"
            ],
            [
             0.5555555555555556,
             "#d8576b"
            ],
            [
             0.6666666666666666,
             "#ed7953"
            ],
            [
             0.7777777777777778,
             "#fb9f3a"
            ],
            [
             0.8888888888888888,
             "#fdca26"
            ],
            [
             1,
             "#f0f921"
            ]
           ],
           "sequentialminus": [
            [
             0,
             "#0d0887"
            ],
            [
             0.1111111111111111,
             "#46039f"
            ],
            [
             0.2222222222222222,
             "#7201a8"
            ],
            [
             0.3333333333333333,
             "#9c179e"
            ],
            [
             0.4444444444444444,
             "#bd3786"
            ],
            [
             0.5555555555555556,
             "#d8576b"
            ],
            [
             0.6666666666666666,
             "#ed7953"
            ],
            [
             0.7777777777777778,
             "#fb9f3a"
            ],
            [
             0.8888888888888888,
             "#fdca26"
            ],
            [
             1,
             "#f0f921"
            ]
           ]
          },
          "colorway": [
           "#636efa",
           "#EF553B",
           "#00cc96",
           "#ab63fa",
           "#FFA15A",
           "#19d3f3",
           "#FF6692",
           "#B6E880",
           "#FF97FF",
           "#FECB52"
          ],
          "font": {
           "color": "#2a3f5f"
          },
          "geo": {
           "bgcolor": "white",
           "lakecolor": "white",
           "landcolor": "#E5ECF6",
           "showlakes": true,
           "showland": true,
           "subunitcolor": "white"
          },
          "hoverlabel": {
           "align": "left"
          },
          "hovermode": "closest",
          "mapbox": {
           "style": "light"
          },
          "paper_bgcolor": "white",
          "plot_bgcolor": "#E5ECF6",
          "polar": {
           "angularaxis": {
            "gridcolor": "white",
            "linecolor": "white",
            "ticks": ""
           },
           "bgcolor": "#E5ECF6",
           "radialaxis": {
            "gridcolor": "white",
            "linecolor": "white",
            "ticks": ""
           }
          },
          "scene": {
           "xaxis": {
            "backgroundcolor": "#E5ECF6",
            "gridcolor": "white",
            "gridwidth": 2,
            "linecolor": "white",
            "showbackground": true,
            "ticks": "",
            "zerolinecolor": "white"
           },
           "yaxis": {
            "backgroundcolor": "#E5ECF6",
            "gridcolor": "white",
            "gridwidth": 2,
            "linecolor": "white",
            "showbackground": true,
            "ticks": "",
            "zerolinecolor": "white"
           },
           "zaxis": {
            "backgroundcolor": "#E5ECF6",
            "gridcolor": "white",
            "gridwidth": 2,
            "linecolor": "white",
            "showbackground": true,
            "ticks": "",
            "zerolinecolor": "white"
           }
          },
          "shapedefaults": {
           "line": {
            "color": "#2a3f5f"
           }
          },
          "ternary": {
           "aaxis": {
            "gridcolor": "white",
            "linecolor": "white",
            "ticks": ""
           },
           "baxis": {
            "gridcolor": "white",
            "linecolor": "white",
            "ticks": ""
           },
           "bgcolor": "#E5ECF6",
           "caxis": {
            "gridcolor": "white",
            "linecolor": "white",
            "ticks": ""
           }
          },
          "title": {
           "x": 0.05
          },
          "xaxis": {
           "automargin": true,
           "gridcolor": "white",
           "linecolor": "white",
           "ticks": "",
           "title": {
            "standoff": 15
           },
           "zerolinecolor": "white",
           "zerolinewidth": 2
          },
          "yaxis": {
           "automargin": true,
           "gridcolor": "white",
           "linecolor": "white",
           "ticks": "",
           "title": {
            "standoff": 15
           },
           "zerolinecolor": "white",
           "zerolinewidth": 2
          }
         }
        }
       }
      },
      "text/html": [
       "<div>                            <div id=\"fd1ab5b2-3659-4cd3-bc63-4ddc517d0f21\" class=\"plotly-graph-div\" style=\"height:525px; width:100%;\"></div>            <script type=\"text/javascript\">                require([\"plotly\"], function(Plotly) {                    window.PLOTLYENV=window.PLOTLYENV || {};                                    if (document.getElementById(\"fd1ab5b2-3659-4cd3-bc63-4ddc517d0f21\")) {                    Plotly.newPlot(                        \"fd1ab5b2-3659-4cd3-bc63-4ddc517d0f21\",                        [{\"x\":[\"Head Purge Position Z Collect Result_Fill1\",\"Dispense Volume(Stage3) Collect Result_Dam\",\"Dispense Volume(Stage1) Collect Result_Dam\",\"DISCHARGED TIME OF RESIN(Stage1) Collect Result_Dam\",\"DISCHARGED TIME OF RESIN(Stage3) Collect Result_Dam\",\"kmeans_5\",\"DISCHARGED TIME OF RESIN(Stage2) Collect Result_Dam\",\"Dispense Volume(Stage2) Collect Result_Dam\",\"HEAD NORMAL COORDINATE X AXIS(Stage2) Collect Result_Dam\",\"DISCHARGED SPEED OF RESIN Collect Result_Dam\",\"HEAD NORMAL COORDINATE X AXIS(Stage1) Collect Result_Dam\",\"HEAD NORMAL COORDINATE X AXIS(Stage3) Collect Result_Dam\",\"Head Zero Position Z Collect Result_Dam\",\"PalletID Collect Result_Dam\",\"HEAD NORMAL COORDINATE Y AXIS(Stage3) Collect Result_Fill1\",\"HEAD NORMAL COORDINATE Z AXIS(Stage1) Collect Result_Fill1\",\"HEAD NORMAL COORDINATE Z AXIS(Stage3) Collect Result_Fill1\",\"HEAD NORMAL COORDINATE Z AXIS(Stage2) Collect Result_Fill1\",\"HEAD NORMAL COORDINATE Y AXIS(Stage1) Collect Result_Fill1\",\"CURE SPEED Collect Result_Dam\",\"cure_z_dist_fill2\",\"Receip No Collect Result_Dam\",\"Production Qty Collect Result_Dam\",\"HEAD NORMAL COORDINATE Y AXIS(Stage3) Collect Result_Dam\",\"HEAD NORMAL COORDINATE Y AXIS(Stage1) Collect Result_Dam\",\"DISCHARGED TIME OF RESIN(Stage3) Collect Result_Fill1\",\"HEAD NORMAL COORDINATE Y AXIS(Stage2) Collect Result_Dam\",\"DISCHARGED TIME OF RESIN(Stage1) Collect Result_Fill1\",\"HEAD NORMAL COORDINATE X AXIS(Stage1) Collect Result_Fill1\",\"THICKNESS 1 Collect Result_Dam\",\"Dispense Volume(Stage3) Collect Result_Fill1\",\"Dispense Volume(Stage1) Collect Result_Fill1\",\"THICKNESS 3 Collect Result_Dam\",\"THICKNESS 2 Collect Result_Dam\",\"HEAD NORMAL COORDINATE Y AXIS(Stage2) Collect Result_Fill1\",\"CURE SPEED Collect Result_Fill2\",\"DISCHARGED SPEED OF RESIN Collect Result_Fill1\",\"cure_x_dist_dam\",\"cure_z_dist_dam\",\"Head Clean Position Z Collect Result_Dam\",\"HEAD NORMAL COORDINATE Z AXIS(Stage3) Collect Result_Dam\",\"HEAD NORMAL COORDINATE Z AXIS(Stage2) Collect Result_Dam\",\"HEAD NORMAL COORDINATE Z AXIS(Stage1) Collect Result_Dam\",\"HEAD NORMAL COORDINATE X AXIS(Stage3) Collect Result_Fill1\",\"DISCHARGED TIME OF RESIN(Stage2) Collect Result_Fill1\",\"Dispense Volume(Stage2) Collect Result_Fill1\",\"Head Zero Position Y Collect Result_Dam\",\"HEAD NORMAL COORDINATE X AXIS(Stage2) Collect Result_Fill1\",\"Head Purge Position Z Collect Result_Dam\",\"Machine Tact time Collect Result_Dam\",\"Stage2 Line2 Distance Speed Collect Result_Dam\",\"Stage2 Line4 Distance Speed Collect Result_Dam\",\"Stage2 Circle4 Distance Speed Collect Result_Dam\",\"Stage2 Circle3 Distance Speed Collect Result_Dam\",\"Stage2 Circle2 Distance Speed Collect Result_Dam\",\"Stage2 Circle1 Distance Speed Collect Result_Dam\",\"Stage2 Line1 Distance Speed Collect Result_Dam\",\"Stage2 Line3 Distance Speed Collect Result_Dam\",\"Stage3 Line1 Distance Speed Collect Result_Dam\",\"Stage1 Line1 Distance Speed Collect Result_Dam\",\"Stage3 Line3 Distance Speed Collect Result_Dam\",\"Stage1 Line3 Distance Speed Collect Result_Dam\",\"Stage1 Line4 Distance Speed Collect Result_Dam\",\"Stage1 Line2 Distance Speed Collect Result_Dam\",\"Stage1 Circle4 Distance Speed Collect Result_Dam\",\"Stage1 Circle2 Distance Speed Collect Result_Dam\",\"Stage1 Circle1 Distance Speed Collect Result_Dam\",\"Stage1 Circle3 Distance Speed Collect Result_Dam\",\"Stage3 Line2 Distance Speed Collect Result_Dam\",\"Stage3 Circle1 Distance Speed Collect Result_Dam\",\"Stage3 Circle2 Distance Speed Collect Result_Dam\",\"Stage3 Circle3 Distance Speed Collect Result_Dam\",\"Stage3 Circle4 Distance Speed Collect Result_Dam\",\"Stage3 Line4 Distance Speed Collect Result_Dam\",\"kmeans_2\",\"inconsistant\"],\"y\":[0.448731353658074,0.5761645677473174,0.5759787864639713,0.5341397250528803,0.5331456048666093,1.0,0.8266210340546286,0.7437902044053888,0.4856694781152333,0.5273293138531052,0.5062097752510777,0.48150938458795467,0.4258251048170785,0.23989950001114124,0.14083577822708018,0.3138872267355265,0.3119853100015275,0.3119853100015275,0.1048291747942447,0.21773478501294058,0.017364717076930665,0.08849890009610027,0.061014522738596214,-0.0440884338632535,-0.049954426189254504,-0.06964555908859256,-0.13650047078668048,-0.06853787060424772,-0.12566346332574277,-0.09756716515679202,-0.14500520015545895,-0.14357140513687225,-0.11065743786931867,-0.13486541602762062,-0.26865935064493096,-0.17108718954213978,-0.10951404093836747,-0.2675337397643197,-0.2675337397643169,-0.4295635742443663,-0.43397618049859893,-0.43397618049859893,-0.43397618049859893,-0.34038795800746974,-0.19084363379355818,-0.20527223310324283,-0.2176526036872054,-0.35427152259649525,-0.5002834474381285,-0.37041338841770166,-0.7514779757214748,-0.7514779757214748,-0.7514835748685987,-0.7514835748685987,-0.7514835748685987,-0.7514835748685987,-0.7562905805889513,-0.7569580702350133,-0.6081909278781792,-0.6083550434723831,-0.6102786383736146,-0.6104299852211273,-0.6065454407856881,-0.6065454407856881,-0.6065454407856881,-0.6065454407856881,-0.6065454407856881,-0.6065454407856881,-0.6065489649339718,-0.6065489649339718,-0.6065489649339718,-0.6065489649339718,-0.6065489649339718,-0.6065489649339718,-0.6955017400921703,null],\"type\":\"bar\"}],                        {\"template\":{\"data\":{\"histogram2dcontour\":[{\"type\":\"histogram2dcontour\",\"colorbar\":{\"outlinewidth\":0,\"ticks\":\"\"},\"colorscale\":[[0.0,\"#0d0887\"],[0.1111111111111111,\"#46039f\"],[0.2222222222222222,\"#7201a8\"],[0.3333333333333333,\"#9c179e\"],[0.4444444444444444,\"#bd3786\"],[0.5555555555555556,\"#d8576b\"],[0.6666666666666666,\"#ed7953\"],[0.7777777777777778,\"#fb9f3a\"],[0.8888888888888888,\"#fdca26\"],[1.0,\"#f0f921\"]]}],\"choropleth\":[{\"type\":\"choropleth\",\"colorbar\":{\"outlinewidth\":0,\"ticks\":\"\"}}],\"histogram2d\":[{\"type\":\"histogram2d\",\"colorbar\":{\"outlinewidth\":0,\"ticks\":\"\"},\"colorscale\":[[0.0,\"#0d0887\"],[0.1111111111111111,\"#46039f\"],[0.2222222222222222,\"#7201a8\"],[0.3333333333333333,\"#9c179e\"],[0.4444444444444444,\"#bd3786\"],[0.5555555555555556,\"#d8576b\"],[0.6666666666666666,\"#ed7953\"],[0.7777777777777778,\"#fb9f3a\"],[0.8888888888888888,\"#fdca26\"],[1.0,\"#f0f921\"]]}],\"heatmap\":[{\"type\":\"heatmap\",\"colorbar\":{\"outlinewidth\":0,\"ticks\":\"\"},\"colorscale\":[[0.0,\"#0d0887\"],[0.1111111111111111,\"#46039f\"],[0.2222222222222222,\"#7201a8\"],[0.3333333333333333,\"#9c179e\"],[0.4444444444444444,\"#bd3786\"],[0.5555555555555556,\"#d8576b\"],[0.6666666666666666,\"#ed7953\"],[0.7777777777777778,\"#fb9f3a\"],[0.8888888888888888,\"#fdca26\"],[1.0,\"#f0f921\"]]}],\"heatmapgl\":[{\"type\":\"heatmapgl\",\"colorbar\":{\"outlinewidth\":0,\"ticks\":\"\"},\"colorscale\":[[0.0,\"#0d0887\"],[0.1111111111111111,\"#46039f\"],[0.2222222222222222,\"#7201a8\"],[0.3333333333333333,\"#9c179e\"],[0.4444444444444444,\"#bd3786\"],[0.5555555555555556,\"#d8576b\"],[0.6666666666666666,\"#ed7953\"],[0.7777777777777778,\"#fb9f3a\"],[0.8888888888888888,\"#fdca26\"],[1.0,\"#f0f921\"]]}],\"contourcarpet\":[{\"type\":\"contourcarpet\",\"colorbar\":{\"outlinewidth\":0,\"ticks\":\"\"}}],\"contour\":[{\"type\":\"contour\",\"colorbar\":{\"outlinewidth\":0,\"ticks\":\"\"},\"colorscale\":[[0.0,\"#0d0887\"],[0.1111111111111111,\"#46039f\"],[0.2222222222222222,\"#7201a8\"],[0.3333333333333333,\"#9c179e\"],[0.4444444444444444,\"#bd3786\"],[0.5555555555555556,\"#d8576b\"],[0.6666666666666666,\"#ed7953\"],[0.7777777777777778,\"#fb9f3a\"],[0.8888888888888888,\"#fdca26\"],[1.0,\"#f0f921\"]]}],\"surface\":[{\"type\":\"surface\",\"colorbar\":{\"outlinewidth\":0,\"ticks\":\"\"},\"colorscale\":[[0.0,\"#0d0887\"],[0.1111111111111111,\"#46039f\"],[0.2222222222222222,\"#7201a8\"],[0.3333333333333333,\"#9c179e\"],[0.4444444444444444,\"#bd3786\"],[0.5555555555555556,\"#d8576b\"],[0.6666666666666666,\"#ed7953\"],[0.7777777777777778,\"#fb9f3a\"],[0.8888888888888888,\"#fdca26\"],[1.0,\"#f0f921\"]]}],\"mesh3d\":[{\"type\":\"mesh3d\",\"colorbar\":{\"outlinewidth\":0,\"ticks\":\"\"}}],\"scatter\":[{\"fillpattern\":{\"fillmode\":\"overlay\",\"size\":10,\"solidity\":0.2},\"type\":\"scatter\"}],\"parcoords\":[{\"type\":\"parcoords\",\"line\":{\"colorbar\":{\"outlinewidth\":0,\"ticks\":\"\"}}}],\"scatterpolargl\":[{\"type\":\"scatterpolargl\",\"marker\":{\"colorbar\":{\"outlinewidth\":0,\"ticks\":\"\"}}}],\"bar\":[{\"error_x\":{\"color\":\"#2a3f5f\"},\"error_y\":{\"color\":\"#2a3f5f\"},\"marker\":{\"line\":{\"color\":\"#E5ECF6\",\"width\":0.5},\"pattern\":{\"fillmode\":\"overlay\",\"size\":10,\"solidity\":0.2}},\"type\":\"bar\"}],\"scattergeo\":[{\"type\":\"scattergeo\",\"marker\":{\"colorbar\":{\"outlinewidth\":0,\"ticks\":\"\"}}}],\"scatterpolar\":[{\"type\":\"scatterpolar\",\"marker\":{\"colorbar\":{\"outlinewidth\":0,\"ticks\":\"\"}}}],\"histogram\":[{\"marker\":{\"pattern\":{\"fillmode\":\"overlay\",\"size\":10,\"solidity\":0.2}},\"type\":\"histogram\"}],\"scattergl\":[{\"type\":\"scattergl\",\"marker\":{\"colorbar\":{\"outlinewidth\":0,\"ticks\":\"\"}}}],\"scatter3d\":[{\"type\":\"scatter3d\",\"line\":{\"colorbar\":{\"outlinewidth\":0,\"ticks\":\"\"}},\"marker\":{\"colorbar\":{\"outlinewidth\":0,\"ticks\":\"\"}}}],\"scattermapbox\":[{\"type\":\"scattermapbox\",\"marker\":{\"colorbar\":{\"outlinewidth\":0,\"ticks\":\"\"}}}],\"scatterternary\":[{\"type\":\"scatterternary\",\"marker\":{\"colorbar\":{\"outlinewidth\":0,\"ticks\":\"\"}}}],\"scattercarpet\":[{\"type\":\"scattercarpet\",\"marker\":{\"colorbar\":{\"outlinewidth\":0,\"ticks\":\"\"}}}],\"carpet\":[{\"aaxis\":{\"endlinecolor\":\"#2a3f5f\",\"gridcolor\":\"white\",\"linecolor\":\"white\",\"minorgridcolor\":\"white\",\"startlinecolor\":\"#2a3f5f\"},\"baxis\":{\"endlinecolor\":\"#2a3f5f\",\"gridcolor\":\"white\",\"linecolor\":\"white\",\"minorgridcolor\":\"white\",\"startlinecolor\":\"#2a3f5f\"},\"type\":\"carpet\"}],\"table\":[{\"cells\":{\"fill\":{\"color\":\"#EBF0F8\"},\"line\":{\"color\":\"white\"}},\"header\":{\"fill\":{\"color\":\"#C8D4E3\"},\"line\":{\"color\":\"white\"}},\"type\":\"table\"}],\"barpolar\":[{\"marker\":{\"line\":{\"color\":\"#E5ECF6\",\"width\":0.5},\"pattern\":{\"fillmode\":\"overlay\",\"size\":10,\"solidity\":0.2}},\"type\":\"barpolar\"}],\"pie\":[{\"automargin\":true,\"type\":\"pie\"}]},\"layout\":{\"autotypenumbers\":\"strict\",\"colorway\":[\"#636efa\",\"#EF553B\",\"#00cc96\",\"#ab63fa\",\"#FFA15A\",\"#19d3f3\",\"#FF6692\",\"#B6E880\",\"#FF97FF\",\"#FECB52\"],\"font\":{\"color\":\"#2a3f5f\"},\"hovermode\":\"closest\",\"hoverlabel\":{\"align\":\"left\"},\"paper_bgcolor\":\"white\",\"plot_bgcolor\":\"#E5ECF6\",\"polar\":{\"bgcolor\":\"#E5ECF6\",\"angularaxis\":{\"gridcolor\":\"white\",\"linecolor\":\"white\",\"ticks\":\"\"},\"radialaxis\":{\"gridcolor\":\"white\",\"linecolor\":\"white\",\"ticks\":\"\"}},\"ternary\":{\"bgcolor\":\"#E5ECF6\",\"aaxis\":{\"gridcolor\":\"white\",\"linecolor\":\"white\",\"ticks\":\"\"},\"baxis\":{\"gridcolor\":\"white\",\"linecolor\":\"white\",\"ticks\":\"\"},\"caxis\":{\"gridcolor\":\"white\",\"linecolor\":\"white\",\"ticks\":\"\"}},\"coloraxis\":{\"colorbar\":{\"outlinewidth\":0,\"ticks\":\"\"}},\"colorscale\":{\"sequential\":[[0.0,\"#0d0887\"],[0.1111111111111111,\"#46039f\"],[0.2222222222222222,\"#7201a8\"],[0.3333333333333333,\"#9c179e\"],[0.4444444444444444,\"#bd3786\"],[0.5555555555555556,\"#d8576b\"],[0.6666666666666666,\"#ed7953\"],[0.7777777777777778,\"#fb9f3a\"],[0.8888888888888888,\"#fdca26\"],[1.0,\"#f0f921\"]],\"sequentialminus\":[[0.0,\"#0d0887\"],[0.1111111111111111,\"#46039f\"],[0.2222222222222222,\"#7201a8\"],[0.3333333333333333,\"#9c179e\"],[0.4444444444444444,\"#bd3786\"],[0.5555555555555556,\"#d8576b\"],[0.6666666666666666,\"#ed7953\"],[0.7777777777777778,\"#fb9f3a\"],[0.8888888888888888,\"#fdca26\"],[1.0,\"#f0f921\"]],\"diverging\":[[0,\"#8e0152\"],[0.1,\"#c51b7d\"],[0.2,\"#de77ae\"],[0.3,\"#f1b6da\"],[0.4,\"#fde0ef\"],[0.5,\"#f7f7f7\"],[0.6,\"#e6f5d0\"],[0.7,\"#b8e186\"],[0.8,\"#7fbc41\"],[0.9,\"#4d9221\"],[1,\"#276419\"]]},\"xaxis\":{\"gridcolor\":\"white\",\"linecolor\":\"white\",\"ticks\":\"\",\"title\":{\"standoff\":15},\"zerolinecolor\":\"white\",\"automargin\":true,\"zerolinewidth\":2},\"yaxis\":{\"gridcolor\":\"white\",\"linecolor\":\"white\",\"ticks\":\"\",\"title\":{\"standoff\":15},\"zerolinecolor\":\"white\",\"automargin\":true,\"zerolinewidth\":2},\"scene\":{\"xaxis\":{\"backgroundcolor\":\"#E5ECF6\",\"gridcolor\":\"white\",\"linecolor\":\"white\",\"showbackground\":true,\"ticks\":\"\",\"zerolinecolor\":\"white\",\"gridwidth\":2},\"yaxis\":{\"backgroundcolor\":\"#E5ECF6\",\"gridcolor\":\"white\",\"linecolor\":\"white\",\"showbackground\":true,\"ticks\":\"\",\"zerolinecolor\":\"white\",\"gridwidth\":2},\"zaxis\":{\"backgroundcolor\":\"#E5ECF6\",\"gridcolor\":\"white\",\"linecolor\":\"white\",\"showbackground\":true,\"ticks\":\"\",\"zerolinecolor\":\"white\",\"gridwidth\":2}},\"shapedefaults\":{\"line\":{\"color\":\"#2a3f5f\"}},\"annotationdefaults\":{\"arrowcolor\":\"#2a3f5f\",\"arrowhead\":0,\"arrowwidth\":1},\"geo\":{\"bgcolor\":\"white\",\"landcolor\":\"#E5ECF6\",\"subunitcolor\":\"white\",\"showland\":true,\"showlakes\":true,\"lakecolor\":\"white\"},\"title\":{\"x\":0.05},\"mapbox\":{\"style\":\"light\"}}}},                        {\"responsive\": true}                    ).then(function(){\n",
       "                            \n",
       "var gd = document.getElementById('fd1ab5b2-3659-4cd3-bc63-4ddc517d0f21');\n",
       "var x = new MutationObserver(function (mutations, observer) {{\n",
       "        var display = window.getComputedStyle(gd).display;\n",
       "        if (!display || display === 'none') {{\n",
       "            console.log([gd, 'removed!']);\n",
       "            Plotly.purge(gd);\n",
       "            observer.disconnect();\n",
       "        }}\n",
       "}});\n",
       "\n",
       "// Listen for the removal of the full notebook cells\n",
       "var notebookContainer = gd.closest('#notebook-container');\n",
       "if (notebookContainer) {{\n",
       "    x.observe(notebookContainer, {childList: true});\n",
       "}}\n",
       "\n",
       "// Listen for the clearing of the current output cell\n",
       "var outputEl = gd.closest('.output');\n",
       "if (outputEl) {{\n",
       "    x.observe(outputEl, {childList: true});\n",
       "}}\n",
       "\n",
       "                        })                };                });            </script>        </div>"
      ]
     },
     "metadata": {},
     "output_type": "display_data"
    }
   ],
   "source": [
    "# Figure  생성\n",
    "fig = go.Figure()\n",
    "\n",
    "fig.add_trace(go.Bar(x = k['index'] , y = k['kmeans_5']))\n",
    "\n",
    "fig.show()"
   ]
  },
  {
   "cell_type": "code",
   "execution_count": 81,
   "id": "1976db9e",
   "metadata": {},
   "outputs": [
    {
     "data": {
      "text/html": [
       "<div>\n",
       "<style scoped>\n",
       "    .dataframe tbody tr th:only-of-type {\n",
       "        vertical-align: middle;\n",
       "    }\n",
       "\n",
       "    .dataframe tbody tr th {\n",
       "        vertical-align: top;\n",
       "    }\n",
       "\n",
       "    .dataframe thead th {\n",
       "        text-align: right;\n",
       "    }\n",
       "</style>\n",
       "<table border=\"1\" class=\"dataframe\">\n",
       "  <thead>\n",
       "    <tr style=\"text-align: right;\">\n",
       "      <th>HEAD NORMAL COORDINATE X AXIS(Stage1) Collect Result_Dam</th>\n",
       "      <th>549.455276</th>\n",
       "      <th>549.544724</th>\n",
       "      <th>549.944724</th>\n",
       "      <th>549.955276</th>\n",
       "      <th>550.044724</th>\n",
       "      <th>550.055276</th>\n",
       "      <th>550.255276</th>\n",
       "      <th>550.444724</th>\n",
       "      <th>550.544724</th>\n",
       "      <th>550.655276</th>\n",
       "      <th>...</th>\n",
       "      <th>552.355276</th>\n",
       "      <th>552.544724</th>\n",
       "      <th>552.555276</th>\n",
       "      <th>552.644724</th>\n",
       "      <th>552.655276</th>\n",
       "      <th>552.744724</th>\n",
       "      <th>552.844724</th>\n",
       "      <th>552.955276</th>\n",
       "      <th>553.044724</th>\n",
       "      <th>553.144724</th>\n",
       "    </tr>\n",
       "    <tr>\n",
       "      <th>kmeans_2</th>\n",
       "      <th></th>\n",
       "      <th></th>\n",
       "      <th></th>\n",
       "      <th></th>\n",
       "      <th></th>\n",
       "      <th></th>\n",
       "      <th></th>\n",
       "      <th></th>\n",
       "      <th></th>\n",
       "      <th></th>\n",
       "      <th></th>\n",
       "      <th></th>\n",
       "      <th></th>\n",
       "      <th></th>\n",
       "      <th></th>\n",
       "      <th></th>\n",
       "      <th></th>\n",
       "      <th></th>\n",
       "      <th></th>\n",
       "      <th></th>\n",
       "      <th></th>\n",
       "    </tr>\n",
       "  </thead>\n",
       "  <tbody>\n",
       "    <tr>\n",
       "      <th>0</th>\n",
       "      <td>824</td>\n",
       "      <td>0</td>\n",
       "      <td>842</td>\n",
       "      <td>489</td>\n",
       "      <td>0</td>\n",
       "      <td>0</td>\n",
       "      <td>2349</td>\n",
       "      <td>446</td>\n",
       "      <td>0</td>\n",
       "      <td>1905</td>\n",
       "      <td>...</td>\n",
       "      <td>1054</td>\n",
       "      <td>1431</td>\n",
       "      <td>2352</td>\n",
       "      <td>20</td>\n",
       "      <td>1</td>\n",
       "      <td>968</td>\n",
       "      <td>494</td>\n",
       "      <td>26</td>\n",
       "      <td>446</td>\n",
       "      <td>475</td>\n",
       "    </tr>\n",
       "    <tr>\n",
       "      <th>1</th>\n",
       "      <td>0</td>\n",
       "      <td>26</td>\n",
       "      <td>0</td>\n",
       "      <td>0</td>\n",
       "      <td>7248</td>\n",
       "      <td>2</td>\n",
       "      <td>478</td>\n",
       "      <td>0</td>\n",
       "      <td>1260</td>\n",
       "      <td>0</td>\n",
       "      <td>...</td>\n",
       "      <td>0</td>\n",
       "      <td>0</td>\n",
       "      <td>0</td>\n",
       "      <td>0</td>\n",
       "      <td>0</td>\n",
       "      <td>0</td>\n",
       "      <td>0</td>\n",
       "      <td>0</td>\n",
       "      <td>0</td>\n",
       "      <td>0</td>\n",
       "    </tr>\n",
       "  </tbody>\n",
       "</table>\n",
       "<p>2 rows × 39 columns</p>\n",
       "</div>"
      ],
      "text/plain": [
       "HEAD NORMAL COORDINATE X AXIS(Stage1) Collect Result_Dam  549.455276  \\\n",
       "kmeans_2                                                               \n",
       "0                                                                824   \n",
       "1                                                                  0   \n",
       "\n",
       "HEAD NORMAL COORDINATE X AXIS(Stage1) Collect Result_Dam  549.544724  \\\n",
       "kmeans_2                                                               \n",
       "0                                                                  0   \n",
       "1                                                                 26   \n",
       "\n",
       "HEAD NORMAL COORDINATE X AXIS(Stage1) Collect Result_Dam  549.944724  \\\n",
       "kmeans_2                                                               \n",
       "0                                                                842   \n",
       "1                                                                  0   \n",
       "\n",
       "HEAD NORMAL COORDINATE X AXIS(Stage1) Collect Result_Dam  549.955276  \\\n",
       "kmeans_2                                                               \n",
       "0                                                                489   \n",
       "1                                                                  0   \n",
       "\n",
       "HEAD NORMAL COORDINATE X AXIS(Stage1) Collect Result_Dam  550.044724  \\\n",
       "kmeans_2                                                               \n",
       "0                                                                  0   \n",
       "1                                                               7248   \n",
       "\n",
       "HEAD NORMAL COORDINATE X AXIS(Stage1) Collect Result_Dam  550.055276  \\\n",
       "kmeans_2                                                               \n",
       "0                                                                  0   \n",
       "1                                                                  2   \n",
       "\n",
       "HEAD NORMAL COORDINATE X AXIS(Stage1) Collect Result_Dam  550.255276  \\\n",
       "kmeans_2                                                               \n",
       "0                                                               2349   \n",
       "1                                                                478   \n",
       "\n",
       "HEAD NORMAL COORDINATE X AXIS(Stage1) Collect Result_Dam  550.444724  \\\n",
       "kmeans_2                                                               \n",
       "0                                                                446   \n",
       "1                                                                  0   \n",
       "\n",
       "HEAD NORMAL COORDINATE X AXIS(Stage1) Collect Result_Dam  550.544724  \\\n",
       "kmeans_2                                                               \n",
       "0                                                                  0   \n",
       "1                                                               1260   \n",
       "\n",
       "HEAD NORMAL COORDINATE X AXIS(Stage1) Collect Result_Dam  550.655276  ...  \\\n",
       "kmeans_2                                                              ...   \n",
       "0                                                               1905  ...   \n",
       "1                                                                  0  ...   \n",
       "\n",
       "HEAD NORMAL COORDINATE X AXIS(Stage1) Collect Result_Dam  552.355276  \\\n",
       "kmeans_2                                                               \n",
       "0                                                               1054   \n",
       "1                                                                  0   \n",
       "\n",
       "HEAD NORMAL COORDINATE X AXIS(Stage1) Collect Result_Dam  552.544724  \\\n",
       "kmeans_2                                                               \n",
       "0                                                               1431   \n",
       "1                                                                  0   \n",
       "\n",
       "HEAD NORMAL COORDINATE X AXIS(Stage1) Collect Result_Dam  552.555276  \\\n",
       "kmeans_2                                                               \n",
       "0                                                               2352   \n",
       "1                                                                  0   \n",
       "\n",
       "HEAD NORMAL COORDINATE X AXIS(Stage1) Collect Result_Dam  552.644724  \\\n",
       "kmeans_2                                                               \n",
       "0                                                                 20   \n",
       "1                                                                  0   \n",
       "\n",
       "HEAD NORMAL COORDINATE X AXIS(Stage1) Collect Result_Dam  552.655276  \\\n",
       "kmeans_2                                                               \n",
       "0                                                                  1   \n",
       "1                                                                  0   \n",
       "\n",
       "HEAD NORMAL COORDINATE X AXIS(Stage1) Collect Result_Dam  552.744724  \\\n",
       "kmeans_2                                                               \n",
       "0                                                                968   \n",
       "1                                                                  0   \n",
       "\n",
       "HEAD NORMAL COORDINATE X AXIS(Stage1) Collect Result_Dam  552.844724  \\\n",
       "kmeans_2                                                               \n",
       "0                                                                494   \n",
       "1                                                                  0   \n",
       "\n",
       "HEAD NORMAL COORDINATE X AXIS(Stage1) Collect Result_Dam  552.955276  \\\n",
       "kmeans_2                                                               \n",
       "0                                                                 26   \n",
       "1                                                                  0   \n",
       "\n",
       "HEAD NORMAL COORDINATE X AXIS(Stage1) Collect Result_Dam  553.044724  \\\n",
       "kmeans_2                                                               \n",
       "0                                                                446   \n",
       "1                                                                  0   \n",
       "\n",
       "HEAD NORMAL COORDINATE X AXIS(Stage1) Collect Result_Dam  553.144724  \n",
       "kmeans_2                                                              \n",
       "0                                                                475  \n",
       "1                                                                  0  \n",
       "\n",
       "[2 rows x 39 columns]"
      ]
     },
     "execution_count": 81,
     "metadata": {},
     "output_type": "execute_result"
    }
   ],
   "source": [
    "pd.crosstab(use_train['kmeans_2'], use_train['HEAD NORMAL COORDINATE X AXIS(Stage1) Collect Result_Dam'])"
   ]
  },
  {
   "cell_type": "code",
   "execution_count": 82,
   "id": "a6bee6ec",
   "metadata": {},
   "outputs": [
    {
     "data": {
      "text/html": [
       "<div>\n",
       "<style scoped>\n",
       "    .dataframe tbody tr th:only-of-type {\n",
       "        vertical-align: middle;\n",
       "    }\n",
       "\n",
       "    .dataframe tbody tr th {\n",
       "        vertical-align: top;\n",
       "    }\n",
       "\n",
       "    .dataframe thead th {\n",
       "        text-align: right;\n",
       "    }\n",
       "</style>\n",
       "<table border=\"1\" class=\"dataframe\">\n",
       "  <thead>\n",
       "    <tr style=\"text-align: right;\">\n",
       "      <th>HEAD NORMAL COORDINATE X AXIS(Stage1) Collect Result_Dam</th>\n",
       "      <th>549.455276</th>\n",
       "      <th>549.544724</th>\n",
       "      <th>549.944724</th>\n",
       "      <th>549.955276</th>\n",
       "      <th>550.044724</th>\n",
       "      <th>550.055276</th>\n",
       "      <th>550.255276</th>\n",
       "      <th>550.444724</th>\n",
       "      <th>550.544724</th>\n",
       "      <th>550.655276</th>\n",
       "      <th>...</th>\n",
       "      <th>552.355276</th>\n",
       "      <th>552.544724</th>\n",
       "      <th>552.555276</th>\n",
       "      <th>552.644724</th>\n",
       "      <th>552.655276</th>\n",
       "      <th>552.744724</th>\n",
       "      <th>552.844724</th>\n",
       "      <th>552.955276</th>\n",
       "      <th>553.044724</th>\n",
       "      <th>553.144724</th>\n",
       "    </tr>\n",
       "    <tr>\n",
       "      <th>kmeans_5</th>\n",
       "      <th></th>\n",
       "      <th></th>\n",
       "      <th></th>\n",
       "      <th></th>\n",
       "      <th></th>\n",
       "      <th></th>\n",
       "      <th></th>\n",
       "      <th></th>\n",
       "      <th></th>\n",
       "      <th></th>\n",
       "      <th></th>\n",
       "      <th></th>\n",
       "      <th></th>\n",
       "      <th></th>\n",
       "      <th></th>\n",
       "      <th></th>\n",
       "      <th></th>\n",
       "      <th></th>\n",
       "      <th></th>\n",
       "      <th></th>\n",
       "      <th></th>\n",
       "    </tr>\n",
       "  </thead>\n",
       "  <tbody>\n",
       "    <tr>\n",
       "      <th>0</th>\n",
       "      <td>0</td>\n",
       "      <td>26</td>\n",
       "      <td>0</td>\n",
       "      <td>0</td>\n",
       "      <td>3837</td>\n",
       "      <td>2</td>\n",
       "      <td>478</td>\n",
       "      <td>0</td>\n",
       "      <td>1260</td>\n",
       "      <td>0</td>\n",
       "      <td>...</td>\n",
       "      <td>0</td>\n",
       "      <td>0</td>\n",
       "      <td>0</td>\n",
       "      <td>0</td>\n",
       "      <td>0</td>\n",
       "      <td>0</td>\n",
       "      <td>0</td>\n",
       "      <td>0</td>\n",
       "      <td>0</td>\n",
       "      <td>0</td>\n",
       "    </tr>\n",
       "    <tr>\n",
       "      <th>1</th>\n",
       "      <td>0</td>\n",
       "      <td>0</td>\n",
       "      <td>0</td>\n",
       "      <td>0</td>\n",
       "      <td>0</td>\n",
       "      <td>0</td>\n",
       "      <td>2349</td>\n",
       "      <td>0</td>\n",
       "      <td>0</td>\n",
       "      <td>0</td>\n",
       "      <td>...</td>\n",
       "      <td>0</td>\n",
       "      <td>0</td>\n",
       "      <td>0</td>\n",
       "      <td>0</td>\n",
       "      <td>0</td>\n",
       "      <td>0</td>\n",
       "      <td>0</td>\n",
       "      <td>0</td>\n",
       "      <td>0</td>\n",
       "      <td>0</td>\n",
       "    </tr>\n",
       "    <tr>\n",
       "      <th>2</th>\n",
       "      <td>0</td>\n",
       "      <td>0</td>\n",
       "      <td>0</td>\n",
       "      <td>0</td>\n",
       "      <td>3411</td>\n",
       "      <td>0</td>\n",
       "      <td>0</td>\n",
       "      <td>0</td>\n",
       "      <td>0</td>\n",
       "      <td>0</td>\n",
       "      <td>...</td>\n",
       "      <td>0</td>\n",
       "      <td>0</td>\n",
       "      <td>0</td>\n",
       "      <td>0</td>\n",
       "      <td>0</td>\n",
       "      <td>0</td>\n",
       "      <td>0</td>\n",
       "      <td>0</td>\n",
       "      <td>0</td>\n",
       "      <td>0</td>\n",
       "    </tr>\n",
       "    <tr>\n",
       "      <th>3</th>\n",
       "      <td>824</td>\n",
       "      <td>0</td>\n",
       "      <td>842</td>\n",
       "      <td>489</td>\n",
       "      <td>0</td>\n",
       "      <td>0</td>\n",
       "      <td>0</td>\n",
       "      <td>446</td>\n",
       "      <td>0</td>\n",
       "      <td>1905</td>\n",
       "      <td>...</td>\n",
       "      <td>1054</td>\n",
       "      <td>1257</td>\n",
       "      <td>1684</td>\n",
       "      <td>20</td>\n",
       "      <td>1</td>\n",
       "      <td>968</td>\n",
       "      <td>0</td>\n",
       "      <td>26</td>\n",
       "      <td>446</td>\n",
       "      <td>475</td>\n",
       "    </tr>\n",
       "    <tr>\n",
       "      <th>4</th>\n",
       "      <td>0</td>\n",
       "      <td>0</td>\n",
       "      <td>0</td>\n",
       "      <td>0</td>\n",
       "      <td>0</td>\n",
       "      <td>0</td>\n",
       "      <td>0</td>\n",
       "      <td>0</td>\n",
       "      <td>0</td>\n",
       "      <td>0</td>\n",
       "      <td>...</td>\n",
       "      <td>0</td>\n",
       "      <td>174</td>\n",
       "      <td>668</td>\n",
       "      <td>0</td>\n",
       "      <td>0</td>\n",
       "      <td>0</td>\n",
       "      <td>494</td>\n",
       "      <td>0</td>\n",
       "      <td>0</td>\n",
       "      <td>0</td>\n",
       "    </tr>\n",
       "  </tbody>\n",
       "</table>\n",
       "<p>5 rows × 39 columns</p>\n",
       "</div>"
      ],
      "text/plain": [
       "HEAD NORMAL COORDINATE X AXIS(Stage1) Collect Result_Dam  549.455276  \\\n",
       "kmeans_5                                                               \n",
       "0                                                                  0   \n",
       "1                                                                  0   \n",
       "2                                                                  0   \n",
       "3                                                                824   \n",
       "4                                                                  0   \n",
       "\n",
       "HEAD NORMAL COORDINATE X AXIS(Stage1) Collect Result_Dam  549.544724  \\\n",
       "kmeans_5                                                               \n",
       "0                                                                 26   \n",
       "1                                                                  0   \n",
       "2                                                                  0   \n",
       "3                                                                  0   \n",
       "4                                                                  0   \n",
       "\n",
       "HEAD NORMAL COORDINATE X AXIS(Stage1) Collect Result_Dam  549.944724  \\\n",
       "kmeans_5                                                               \n",
       "0                                                                  0   \n",
       "1                                                                  0   \n",
       "2                                                                  0   \n",
       "3                                                                842   \n",
       "4                                                                  0   \n",
       "\n",
       "HEAD NORMAL COORDINATE X AXIS(Stage1) Collect Result_Dam  549.955276  \\\n",
       "kmeans_5                                                               \n",
       "0                                                                  0   \n",
       "1                                                                  0   \n",
       "2                                                                  0   \n",
       "3                                                                489   \n",
       "4                                                                  0   \n",
       "\n",
       "HEAD NORMAL COORDINATE X AXIS(Stage1) Collect Result_Dam  550.044724  \\\n",
       "kmeans_5                                                               \n",
       "0                                                               3837   \n",
       "1                                                                  0   \n",
       "2                                                               3411   \n",
       "3                                                                  0   \n",
       "4                                                                  0   \n",
       "\n",
       "HEAD NORMAL COORDINATE X AXIS(Stage1) Collect Result_Dam  550.055276  \\\n",
       "kmeans_5                                                               \n",
       "0                                                                  2   \n",
       "1                                                                  0   \n",
       "2                                                                  0   \n",
       "3                                                                  0   \n",
       "4                                                                  0   \n",
       "\n",
       "HEAD NORMAL COORDINATE X AXIS(Stage1) Collect Result_Dam  550.255276  \\\n",
       "kmeans_5                                                               \n",
       "0                                                                478   \n",
       "1                                                               2349   \n",
       "2                                                                  0   \n",
       "3                                                                  0   \n",
       "4                                                                  0   \n",
       "\n",
       "HEAD NORMAL COORDINATE X AXIS(Stage1) Collect Result_Dam  550.444724  \\\n",
       "kmeans_5                                                               \n",
       "0                                                                  0   \n",
       "1                                                                  0   \n",
       "2                                                                  0   \n",
       "3                                                                446   \n",
       "4                                                                  0   \n",
       "\n",
       "HEAD NORMAL COORDINATE X AXIS(Stage1) Collect Result_Dam  550.544724  \\\n",
       "kmeans_5                                                               \n",
       "0                                                               1260   \n",
       "1                                                                  0   \n",
       "2                                                                  0   \n",
       "3                                                                  0   \n",
       "4                                                                  0   \n",
       "\n",
       "HEAD NORMAL COORDINATE X AXIS(Stage1) Collect Result_Dam  550.655276  ...  \\\n",
       "kmeans_5                                                              ...   \n",
       "0                                                                  0  ...   \n",
       "1                                                                  0  ...   \n",
       "2                                                                  0  ...   \n",
       "3                                                               1905  ...   \n",
       "4                                                                  0  ...   \n",
       "\n",
       "HEAD NORMAL COORDINATE X AXIS(Stage1) Collect Result_Dam  552.355276  \\\n",
       "kmeans_5                                                               \n",
       "0                                                                  0   \n",
       "1                                                                  0   \n",
       "2                                                                  0   \n",
       "3                                                               1054   \n",
       "4                                                                  0   \n",
       "\n",
       "HEAD NORMAL COORDINATE X AXIS(Stage1) Collect Result_Dam  552.544724  \\\n",
       "kmeans_5                                                               \n",
       "0                                                                  0   \n",
       "1                                                                  0   \n",
       "2                                                                  0   \n",
       "3                                                               1257   \n",
       "4                                                                174   \n",
       "\n",
       "HEAD NORMAL COORDINATE X AXIS(Stage1) Collect Result_Dam  552.555276  \\\n",
       "kmeans_5                                                               \n",
       "0                                                                  0   \n",
       "1                                                                  0   \n",
       "2                                                                  0   \n",
       "3                                                               1684   \n",
       "4                                                                668   \n",
       "\n",
       "HEAD NORMAL COORDINATE X AXIS(Stage1) Collect Result_Dam  552.644724  \\\n",
       "kmeans_5                                                               \n",
       "0                                                                  0   \n",
       "1                                                                  0   \n",
       "2                                                                  0   \n",
       "3                                                                 20   \n",
       "4                                                                  0   \n",
       "\n",
       "HEAD NORMAL COORDINATE X AXIS(Stage1) Collect Result_Dam  552.655276  \\\n",
       "kmeans_5                                                               \n",
       "0                                                                  0   \n",
       "1                                                                  0   \n",
       "2                                                                  0   \n",
       "3                                                                  1   \n",
       "4                                                                  0   \n",
       "\n",
       "HEAD NORMAL COORDINATE X AXIS(Stage1) Collect Result_Dam  552.744724  \\\n",
       "kmeans_5                                                               \n",
       "0                                                                  0   \n",
       "1                                                                  0   \n",
       "2                                                                  0   \n",
       "3                                                                968   \n",
       "4                                                                  0   \n",
       "\n",
       "HEAD NORMAL COORDINATE X AXIS(Stage1) Collect Result_Dam  552.844724  \\\n",
       "kmeans_5                                                               \n",
       "0                                                                  0   \n",
       "1                                                                  0   \n",
       "2                                                                  0   \n",
       "3                                                                  0   \n",
       "4                                                                494   \n",
       "\n",
       "HEAD NORMAL COORDINATE X AXIS(Stage1) Collect Result_Dam  552.955276  \\\n",
       "kmeans_5                                                               \n",
       "0                                                                  0   \n",
       "1                                                                  0   \n",
       "2                                                                  0   \n",
       "3                                                                 26   \n",
       "4                                                                  0   \n",
       "\n",
       "HEAD NORMAL COORDINATE X AXIS(Stage1) Collect Result_Dam  553.044724  \\\n",
       "kmeans_5                                                               \n",
       "0                                                                  0   \n",
       "1                                                                  0   \n",
       "2                                                                  0   \n",
       "3                                                                446   \n",
       "4                                                                  0   \n",
       "\n",
       "HEAD NORMAL COORDINATE X AXIS(Stage1) Collect Result_Dam  553.144724  \n",
       "kmeans_5                                                              \n",
       "0                                                                  0  \n",
       "1                                                                  0  \n",
       "2                                                                  0  \n",
       "3                                                                475  \n",
       "4                                                                  0  \n",
       "\n",
       "[5 rows x 39 columns]"
      ]
     },
     "execution_count": 82,
     "metadata": {},
     "output_type": "execute_result"
    }
   ],
   "source": [
    "pd.crosstab(use_train['kmeans_5'], use_train['HEAD NORMAL COORDINATE X AXIS(Stage1) Collect Result_Dam'])"
   ]
  },
  {
   "cell_type": "code",
   "execution_count": 89,
   "id": "93826720",
   "metadata": {},
   "outputs": [
    {
     "data": {
      "text/plain": [
       "<Axes: xlabel='HEAD NORMAL COORDINATE X AXIS(Stage1) Collect Result_Dam', ylabel='Density'>"
      ]
     },
     "execution_count": 89,
     "metadata": {},
     "output_type": "execute_result"
    },
    {
     "data": {
      "image/png": "[encoded data removed]",
      "text/plain": [
       "<Figure size 640x480 with 1 Axes>"
      ]
     },
     "metadata": {},
     "output_type": "display_data"
    }
   ],
   "source": [
    "sns.kdeplot(data = use_train, x = 'HEAD NORMAL COORDINATE X AXIS(Stage1) Collect Result_Dam', hue = 'kmeans_2')"
   ]
  },
  {
   "cell_type": "code",
   "execution_count": 88,
   "id": "6fba32fd",
   "metadata": {},
   "outputs": [
    {
     "data": {
      "text/plain": [
       "<Axes: xlabel='HEAD NORMAL COORDINATE X AXIS(Stage1) Collect Result_Dam', ylabel='Density'>"
      ]
     },
     "execution_count": 88,
     "metadata": {},
     "output_type": "execute_result"
    },
    {
     "data": {
      "image/png": "[encoded data removed]",
      "text/plain": [
       "<Figure size 640x480 with 1 Axes>"
      ]
     },
     "metadata": {},
     "output_type": "display_data"
    }
   ],
   "source": [
    "sns.kdeplot(data = use_train, x = 'HEAD NORMAL COORDINATE X AXIS(Stage1) Collect Result_Dam', hue = 'kmeans_5')"
   ]
  },
  {
   "cell_type": "code",
   "execution_count": 90,
   "id": "94681dc3",
   "metadata": {},
   "outputs": [
    {
     "name": "stderr",
     "output_type": "stream",
     "text": [
      "/tmp/ipykernel_9148/3651773053.py:1: SettingWithCopyWarning:\n",
      "\n",
      "\n",
      "A value is trying to be set on a copy of a slice from a DataFrame.\n",
      "Try using .loc[row_indexer,col_indexer] = value instead\n",
      "\n",
      "See the caveats in the documentation: https://pandas.pydata.org/pandas-docs/stable/user_guide/indexing.html#returning-a-view-versus-a-copy\n",
      "\n",
      "/tmp/ipykernel_9148/3651773053.py:1: SettingWithCopyWarning:\n",
      "\n",
      "\n",
      "A value is trying to be set on a copy of a slice from a DataFrame.\n",
      "Try using .loc[row_indexer,col_indexer] = value instead\n",
      "\n",
      "See the caveats in the documentation: https://pandas.pydata.org/pandas-docs/stable/user_guide/indexing.html#returning-a-view-versus-a-copy\n",
      "\n"
     ]
    }
   ],
   "source": [
    "train_noin[['kmeans_2', 'kmeans_5']] = use_train[['kmeans_2', 'kmeans_5']]"
   ]
  },
  {
   "cell_type": "code",
   "execution_count": 97,
   "id": "6830c056",
   "metadata": {},
   "outputs": [],
   "source": [
    "a = train_noin[[\n",
    "    'kmeans_2',\n",
    "    'kmeans_5',\n",
    "    '1st Pressure Collect Result_AutoClave',\n",
    "    '1st Pressure 1st Pressure Unit Time_AutoClave',\n",
    "    '2nd Pressure Collect Result_AutoClave',\n",
    "    '2nd Pressure Unit Time_AutoClave',\n",
    "    '3rd Pressure Collect Result_AutoClave',\n",
    "    '3rd Pressure Unit Time_AutoClave',\n",
    "    'Chamber Temp. Collect Result_AutoClave',\n",
    "    'Chamber Temp. Unit Time_AutoClave'\n",
    "]]"
   ]
  },
  {
   "cell_type": "code",
   "execution_count": 101,
   "id": "7704c0a9",
   "metadata": {},
   "outputs": [
    {
     "name": "stderr",
     "output_type": "stream",
     "text": [
      "/tmp/ipykernel_9148/1305025294.py:1: SettingWithCopyWarning:\n",
      "\n",
      "\n",
      "A value is trying to be set on a copy of a slice from a DataFrame.\n",
      "Try using .loc[row_indexer,col_indexer] = value instead\n",
      "\n",
      "See the caveats in the documentation: https://pandas.pydata.org/pandas-docs/stable/user_guide/indexing.html#returning-a-view-versus-a-copy\n",
      "\n",
      "/tmp/ipykernel_9148/1305025294.py:2: SettingWithCopyWarning:\n",
      "\n",
      "\n",
      "A value is trying to be set on a copy of a slice from a DataFrame.\n",
      "Try using .loc[row_indexer,col_indexer] = value instead\n",
      "\n",
      "See the caveats in the documentation: https://pandas.pydata.org/pandas-docs/stable/user_guide/indexing.html#returning-a-view-versus-a-copy\n",
      "\n"
     ]
    }
   ],
   "source": [
    "a['kmeans_2'] = a['kmeans_2'].astype(str)\n",
    "a['kmeans_5'] = a['kmeans_5'].astype(str)"
   ]
  },
  {
   "cell_type": "code",
   "execution_count": 100,
   "id": "5f903d96",
   "metadata": {},
   "outputs": [
    {
     "data": {
      "text/plain": [
       "<Axes: >"
      ]
     },
     "execution_count": 100,
     "metadata": {},
     "output_type": "execute_result"
    },
    {
     "data": {
      "image/png": "[encoded data removed]",
      "text/plain": [
       "<Figure size 640x480 with 2 Axes>"
      ]
     },
     "metadata": {},
     "output_type": "display_data"
    }
   ],
   "source": [
    "sns.heatmap(a.corr(), vmin = -1, vmax = 1, annot = True, cmap=\"coolwarm\")"
   ]
  },
  {
   "cell_type": "code",
   "execution_count": 102,
   "id": "32147a5a",
   "metadata": {},
   "outputs": [
    {
     "data": {
      "text/plain": [
       "<Axes: xlabel='Chamber Temp. Unit Time_AutoClave', ylabel='Density'>"
      ]
     },
     "execution_count": 102,
     "metadata": {},
     "output_type": "execute_result"
    },
    {
     "data": {
      "image/png": "[encoded data removed]",
      "text/plain": [
       "<Figure size 640x480 with 1 Axes>"
      ]
     },
     "metadata": {},
     "output_type": "display_data"
    }
   ],
   "source": [
    "sns.kdeplot(data = a, x = 'Chamber Temp. Unit Time_AutoClave', hue = 'kmeans_2')"
   ]
  },
  {
   "cell_type": "code",
   "execution_count": 103,
   "id": "cd654711",
   "metadata": {},
   "outputs": [
    {
     "data": {
      "text/plain": [
       "<Axes: xlabel='Chamber Temp. Unit Time_AutoClave', ylabel='Density'>"
      ]
     },
     "execution_count": 103,
     "metadata": {},
     "output_type": "execute_result"
    },
    {
     "data": {
      "image/png": "[encoded data removed]",
      "text/plain": [
       "<Figure size 640x480 with 1 Axes>"
      ]
     },
     "metadata": {},
     "output_type": "display_data"
    }
   ],
   "source": [
    "sns.kdeplot(data = a, x = 'Chamber Temp. Unit Time_AutoClave', hue = 'kmeans_5')"
   ]
  },
  {
   "cell_type": "code",
   "execution_count": null,
   "id": "99031b5e",
   "metadata": {},
   "outputs": [],
   "source": []
  }
 ],
 "metadata": {
  "kernelspec": {
   "display_name": "Python 3 (ipykernel)",
   "language": "python",
   "name": "python3"
  },
  "language_info": {
   "codemirror_mode": {
    "name": "ipython",
    "version": 3
   },
   "file_extension": ".py",
   "mimetype": "text/x-python",
   "name": "python",
   "nbconvert_exporter": "python",
   "pygments_lexer": "ipython3",
   "version": "3.10.13"
  }
 },
 "nbformat": 4,
 "nbformat_minor": 5
}
